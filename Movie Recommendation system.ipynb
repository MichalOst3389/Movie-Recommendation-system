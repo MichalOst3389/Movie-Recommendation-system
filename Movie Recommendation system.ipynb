{
 "cells": [
  {
   "cell_type": "markdown",
   "metadata": {},
   "source": [
    "# Movie Recommendation system\n",
    "Name: Michal Ostrowski\n",
    "\n",
    "Instructior: Morgan Jones"
   ]
  },
  {
   "cell_type": "markdown",
   "metadata": {},
   "source": [
    "# Business Understanding\n",
    "\n",
    "\n",
    "\n",
    "As a data scientist at FlixGenius, I am working on enhancing our recommendation engine to provide more personalized movie recommendations to our users. Our goal is to increase user engagement and revenue by delivering movie recommendations that match their personal preferences based on their past viewing history and ratings, as well as the ratings and viewing history of other users with similar preferences.\n",
    "\n",
    "To accomplish this task, I am using the MovieLens dataset from the GroupLens research lab at the University of Minnesota. This dataset includes user ratings of movies and information about the movies themselves. By building a recommendation model using this data, we can provide personalized recommendations to users.\n",
    "\n",
    "In addition to building the recommendation engine, it would also be helpful for the company to identify which genres and tags are most popular among our users. This information can help us acquire and recommend similar movies, allowing us to expand our library in a way that is likely to be well-received by our users, ultimately leading to increased engagement and revenue."
   ]
  },
  {
   "cell_type": "code",
   "execution_count": 1,
   "metadata": {},
   "outputs": [],
   "source": [
    "import pandas as pd\n",
    "from sklearn.metrics.pairwise import cosine_similarity\n",
    "import matplotlib.pyplot as plt\n",
    "import numpy as np\n",
    "from sklearn.model_selection import train_test_split\n",
    "from sklearn.neighbors import NearestNeighbors\n",
    "from sklearn.metrics import mean_absolute_error, mean_squared_error\n",
    "from sklearn.feature_extraction.text import TfidfVectorizer\n",
    "import random\n",
    "from scipy import sparse\n",
    "import math\n",
    "from sklearn.metrics import precision_score\n",
    "from sklearn.model_selection import KFold\n",
    "from sklearn.metrics import accuracy_score, precision_score, recall_score, f1_score\n",
    "from scipy.sparse import csr_matrix\n",
    "from sklearn.preprocessing import LabelEncoder\n",
    "from sklearn.metrics import precision_recall_curve, average_precision_score\n",
    "from sklearn.metrics import confusion_matrix\n",
    "from sklearn.linear_model import LinearRegression\n",
    "from sklearn.preprocessing import StandardScaler\n",
    "from sklearn.preprocessing import OneHotEncoder\n",
    "from math import sqrt\n",
    "from sklearn.decomposition import TruncatedSVD"
   ]
  },
  {
   "cell_type": "code",
   "execution_count": 2,
   "metadata": {},
   "outputs": [],
   "source": [
    "movies_df = pd.read_csv('https://gist.githubusercontent.com/MichalOst3389/e3913bbb6921ea9475660d58d280d55c/raw/3b8861ea300bbdd6b689bf853dfce94524b39301/movies.csv')\n",
    "links_df = pd.read_csv('https://gist.githubusercontent.com/MichalOst3389/cfc2c59e9f323d11b7afb8f3224229f3/raw/ce13331097cbff6abcd941e8388db941220876fb/links.csv')\n",
    "ratings_df = pd.read_csv('https://gist.githubusercontent.com/MichalOst3389/d8ed774a84197205b2d7e53ce8345aae/raw/064966f6d7c5f45f3aa404ca45d5ee9b9fed0ece/ratings.csv')\n",
    "tags_df = pd.read_csv('https://gist.githubusercontent.com/MichalOst3389/9ff4a3740c440a3391d891af2ccac50a/raw/05572aac39b0fd8d278228158ad5a4cb20ecaa9c/tags.csv')"
   ]
  },
  {
   "cell_type": "markdown",
   "metadata": {},
   "source": [
    "# Data understanding"
   ]
  },
  {
   "cell_type": "markdown",
   "metadata": {},
   "source": [
    "The first step is to combine them into a single dataset. I've merge the datasets using a common identifier which is movieId"
   ]
  },
  {
   "cell_type": "code",
   "execution_count": 3,
   "metadata": {},
   "outputs": [],
   "source": [
    "# Merge datasets using movieId as the key\n",
    "merged_df_1 = pd.merge(ratings_df, movies_df, on='movieId', how='inner')\n",
    "merged_df = pd.merge(merged_df_1, tags_df, on='movieId', how='inner')"
   ]
  },
  {
   "cell_type": "code",
   "execution_count": 4,
   "metadata": {},
   "outputs": [
    {
     "data": {
      "text/plain": [
       "userId_x       0\n",
       "movieId        0\n",
       "rating         0\n",
       "timestamp_x    0\n",
       "title          0\n",
       "genres         0\n",
       "userId_y       0\n",
       "tag            0\n",
       "timestamp_y    0\n",
       "dtype: int64"
      ]
     },
     "execution_count": 4,
     "metadata": {},
     "output_type": "execute_result"
    }
   ],
   "source": [
    "merged_df.isnull().sum()"
   ]
  },
  {
   "cell_type": "markdown",
   "metadata": {},
   "source": [
    "there are no nulls"
   ]
  },
  {
   "cell_type": "code",
   "execution_count": 5,
   "metadata": {},
   "outputs": [
    {
     "name": "stdout",
     "output_type": "stream",
     "text": [
      "userId_x       0\n",
      "movieId        0\n",
      "rating         0\n",
      "timestamp_x    0\n",
      "title          0\n",
      "genres         0\n",
      "userId_y       0\n",
      "tag            0\n",
      "timestamp_y    0\n",
      "dtype: int64\n"
     ]
    }
   ],
   "source": [
    "print(merged_df.isnull().sum())"
   ]
  },
  {
   "cell_type": "code",
   "execution_count": 6,
   "metadata": {},
   "outputs": [
    {
     "name": "stdout",
     "output_type": "stream",
     "text": [
      "0\n"
     ]
    }
   ],
   "source": [
    "print(merged_df.duplicated().sum())"
   ]
  },
  {
   "cell_type": "markdown",
   "metadata": {},
   "source": [
    "There are no duplicated rows."
   ]
  },
  {
   "cell_type": "code",
   "execution_count": 7,
   "metadata": {},
   "outputs": [
    {
     "name": "stdout",
     "output_type": "stream",
     "text": [
      "userId_x       0\n",
      "movieId        0\n",
      "rating         0\n",
      "timestamp_x    0\n",
      "title          0\n",
      "genres         0\n",
      "userId_y       0\n",
      "tag            0\n",
      "timestamp_y    0\n",
      "dtype: int64\n"
     ]
    }
   ],
   "source": [
    "print(merged_df.isna().sum())"
   ]
  },
  {
   "cell_type": "markdown",
   "metadata": {},
   "source": [
    "There are no missing values"
   ]
  },
  {
   "cell_type": "code",
   "execution_count": 8,
   "metadata": {},
   "outputs": [
    {
     "name": "stdout",
     "output_type": "stream",
     "text": [
      "<class 'pandas.core.frame.DataFrame'>\n",
      "Int64Index: 233213 entries, 0 to 233212\n",
      "Data columns (total 9 columns):\n",
      " #   Column       Non-Null Count   Dtype  \n",
      "---  ------       --------------   -----  \n",
      " 0   userId_x     233213 non-null  int64  \n",
      " 1   movieId      233213 non-null  int64  \n",
      " 2   rating       233213 non-null  float64\n",
      " 3   timestamp_x  233213 non-null  int64  \n",
      " 4   title        233213 non-null  object \n",
      " 5   genres       233213 non-null  object \n",
      " 6   userId_y     233213 non-null  int64  \n",
      " 7   tag          233213 non-null  object \n",
      " 8   timestamp_y  233213 non-null  int64  \n",
      "dtypes: float64(1), int64(5), object(3)\n",
      "memory usage: 17.8+ MB\n"
     ]
    }
   ],
   "source": [
    "merged_df.info()"
   ]
  },
  {
   "cell_type": "markdown",
   "metadata": {},
   "source": [
    "We can see there are no duplicates above, however when we merged dataframes some columns were merged into the new dataframe that  represent the same things.  example - user_Id_x, and user_Id_y."
   ]
  },
  {
   "cell_type": "markdown",
   "metadata": {},
   "source": [
    "# Data Preperation"
   ]
  },
  {
   "cell_type": "code",
   "execution_count": 9,
   "metadata": {},
   "outputs": [],
   "source": [
    "merged_df = merged_df.drop('userId_y', axis=1)\n",
    "merged_df = merged_df.drop('timestamp_y', axis=1)"
   ]
  },
  {
   "cell_type": "code",
   "execution_count": 10,
   "metadata": {},
   "outputs": [],
   "source": [
    "# drop duplicates from merged_df\n",
    "merged_df.drop_duplicates(subset=['userId_x', 'movieId'], inplace=True)\n",
    "\n",
    "# pivot the dataframe to have users as rows and movies as columns\n",
    "pivot_df = merged_df.pivot(index='userId_x', columns='movieId', values='rating').fillna(0)\n",
    "\n",
    "# compute the cosine similarity matrix between all users\n",
    "user_similarities = cosine_similarity(pivot_df)"
   ]
  },
  {
   "cell_type": "markdown",
   "metadata": {},
   "source": [
    "I used the \"drop_duplicates\" method to remove any rows that have the same combination of 'userId_x' and 'movieId'. This ensures that we only have one rating per user-movie pair in our dataset.\n",
    "\n",
    "Next, I pivot the DataFrame so that each user is a row and each movie is a column to make the data easier to work with during collaborative filtering.  \n",
    "\n",
    "Finally, I'm computing  the cosine similarity matrix between all users. This matrix measures the similarity between each pair of users based on their ratings. The values in the matrix range from -1 to 1, with 1 indicating that two users have identical ratings for all movies, 0 indicating that they have no similarity, and -1 indicating that they have completely opposite ratings for all movies.\n",
    "\n",
    "By computing this similarity matrix, we can identify users who have similar tastes in movies, which can be used to make personalized recommendations. For example, if a user has not seen a particular movie but has similar tastes to another user who gave that movie a high rating, we might recommend that movie to the first user."
   ]
  },
  {
   "cell_type": "code",
   "execution_count": 11,
   "metadata": {},
   "outputs": [],
   "source": [
    "#changing column name to user_id from userId_x\n",
    "merged_df = merged_df.rename(columns={'userId_x': 'user_id'})\n",
    "#  renames the timestamp_x column to time_stamp\n",
    "merged_df = merged_df.rename(columns={'timestamp_x': 'time_stamp'})\n",
    "# This code filters the merged_df DataFrame to only include rows where the genres column is not equal to '(no genres listed)'\n",
    "merged_df = merged_df[merged_df['genres'] != '(no genres listed)']"
   ]
  },
  {
   "cell_type": "code",
   "execution_count": 12,
   "metadata": {},
   "outputs": [],
   "source": [
    "# splits the values in the genres column of the merged_df DataFrame by the |\n",
    "genre_ratings_count = merged_df['genres'].str.split('|', expand=True).stack().reset_index(level=1, drop=True).to_frame('genre')\n",
    "# This code merges the rating column from the merged_df DataFrame into the genre_ratings_count DataFrame based on their indices. The left_index and right_index parameters are both set to True to use the current indices of both DataFrames for the merge.\n",
    "genre_ratings_count = genre_ratings_count.merge(merged_df[['rating']], left_index=True, right_index=True)\n",
    "# This code groups the genre_ratings_count DataFrame by the genre column and calculates the mean and count of the rating column for each group using the .agg() method. The resulting genre_ratings_count DataFrame will have a row for each unique genre in the original genres column, with columns for the mean and count of ratings for each genre.\n",
    "genre_ratings_count = genre_ratings_count.groupby('genre')['rating'].count().sort_values(ascending=False)"
   ]
  },
  {
   "cell_type": "code",
   "execution_count": 13,
   "metadata": {},
   "outputs": [
    {
     "data": {
      "text/plain": [
       "genre\n",
       "Drama          22534\n",
       "Comedy         16774\n",
       "Action         13208\n",
       "Thriller       12509\n",
       "Adventure      12023\n",
       "Romance         9812\n",
       "Crime           9071\n",
       "Sci-Fi          8749\n",
       "Fantasy         5807\n",
       "Mystery         4631\n",
       "Children        4589\n",
       "Animation       3588\n",
       "War             2794\n",
       "Horror          2526\n",
       "Musical         2320\n",
       "IMAX            1873\n",
       "Western          758\n",
       "Film-Noir        589\n",
       "Documentary      442\n",
       "Name: rating, dtype: int64"
      ]
     },
     "execution_count": 13,
     "metadata": {},
     "output_type": "execute_result"
    }
   ],
   "source": [
    "genre_ratings_count"
   ]
  },
  {
   "cell_type": "markdown",
   "metadata": {},
   "source": [
    "There is a very large difference in rating counts between the the more frequent genres of movies and the less frequent.\n",
    "Is the reason because people just prefer those genres? Or are there just less of them?"
   ]
  },
  {
   "cell_type": "code",
   "execution_count": 14,
   "metadata": {},
   "outputs": [
    {
     "data": {
      "image/png": "[encoded data removed]",
      "text/plain": [
       "<Figure size 864x576 with 1 Axes>"
      ]
     },
     "metadata": {
      "needs_background": "light"
     },
     "output_type": "display_data"
    }
   ],
   "source": [
    "# Split the genres column into separate rows and count the number of occurrences of each genre\n",
    "genre_ratings_count = merged_df['genres'].str.split('|', expand=True).stack().reset_index(level=1, drop=True).to_frame('genre').reset_index(drop=True)\n",
    "genre_ratings_count = genre_ratings_count.merge(merged_df[['rating']], left_index=True, right_index=True)\n",
    "\n",
    "# Group the genre_ratings_count DataFrame by genre and calculate the mean and count of ratings for each genre\n",
    "genre_ratings_count = genre_ratings_count.groupby('genre')['rating'].agg(['mean', 'count']).reset_index()\n",
    "\n",
    "# Sort the genre_ratings_count DataFrame by the count of ratings in ascending order\n",
    "genre_ratings_count = genre_ratings_count.sort_values('count', ascending=False)\n",
    "\n",
    "# Create a vertical bar graph using the plot() method of the genre_ratings_count DataFrame\n",
    "genre_ratings_count.plot(kind='bar', x='genre', y='count', color='blue', figsize=(12,8))\n",
    "\n",
    "# Set the label for the horizontal axis\n",
    "plt.xlabel('Genre')\n",
    "\n",
    "# Set the label for the vertical axis\n",
    "plt.ylabel('Rating Count')\n",
    "\n",
    "# Set the title of the graph\n",
    "plt.title('Rating Count for Genres')\n",
    "\n",
    "# Remove the legend\n",
    "plt.legend().remove()\n",
    "\n",
    "# Display the graph\n",
    "plt.show()"
   ]
  },
  {
   "cell_type": "markdown",
   "metadata": {},
   "source": [
    "Here we compare that amount of ratings for each genre. Drama being the most rated, and Western being the least rated.  Next I will check to see if the difference is due to the amount of movies on our streaming service with each genre."
   ]
  },
  {
   "cell_type": "code",
   "execution_count": 15,
   "metadata": {},
   "outputs": [
    {
     "data": {
      "image/png": "[encoded data removed]",
      "text/plain": [
       "<Figure size 864x576 with 1 Axes>"
      ]
     },
     "metadata": {
      "needs_background": "light"
     },
     "output_type": "display_data"
    }
   ],
   "source": [
    "# Split genres column by \"|\" and create new rows for each genre\n",
    "genres_df = merged_df.assign(genres=merged_df.genres.str.split('|')).explode('genres')\n",
    "\n",
    "# Group by genre and calculate count of movies\n",
    "genre_counts = genres_df.groupby('genres')['movieId'].count()\n",
    "\n",
    "# Sort genre_counts in descending order\n",
    "genre_counts = genre_counts.sort_values(ascending=False)\n",
    "\n",
    "# Create bar graph of genre_counts\n",
    "genre_counts.plot(kind=\"bar\", figsize=(12,8))\n",
    "plt.title(\"Number of Movies per Genre\")\n",
    "plt.xlabel(\"Genre\")\n",
    "plt.ylabel(\"Number of Movies\")\n",
    "plt.show()"
   ]
  },
  {
   "cell_type": "markdown",
   "metadata": {},
   "source": [
    "The above bar graph shows that there is a very large distribution of movies in each genre."
   ]
  },
  {
   "cell_type": "code",
   "execution_count": 16,
   "metadata": {},
   "outputs": [],
   "source": [
    "# Split genres column by \"|\" and create new rows for each genre\n",
    "genres_df = merged_df.assign(genres=merged_df.genres.str.split('|')).explode('genres')"
   ]
  },
  {
   "cell_type": "code",
   "execution_count": 17,
   "metadata": {},
   "outputs": [],
   "source": [
    "# Group by genre and calculate mean rating, sorting in descending order\n",
    "genre_ratings = genres_df.groupby(\"genres\")[\"rating\"].mean().sort_values(ascending=False)"
   ]
  },
  {
   "cell_type": "code",
   "execution_count": 18,
   "metadata": {},
   "outputs": [
    {
     "data": {
      "image/png": "[encoded data removed]",
      "text/plain": [
       "<Figure size 864x576 with 1 Axes>"
      ]
     },
     "metadata": {
      "needs_background": "light"
     },
     "output_type": "display_data"
    }
   ],
   "source": [
    "# Create bar graph of genre_ratings\n",
    "genre_ratings.plot(kind=\"bar\", figsize=(12,8))\n",
    "plt.title(\"Average Rating by Genre\")\n",
    "plt.xlabel(\"Genre\")\n",
    "plt.ylabel(\"Average Rating\")\n",
    "plt.show()"
   ]
  },
  {
   "cell_type": "markdown",
   "metadata": {},
   "source": [
    "The average rating per genre is pretty even among all genres.  Which raises the question \"why are the number of movies per genre so different?\"  This leads me to believe that we need to add more movies of the less common genres."
   ]
  },
  {
   "cell_type": "code",
   "execution_count": 19,
   "metadata": {
    "scrolled": false
   },
   "outputs": [
    {
     "data": {
      "image/png": "[encoded data removed]",
      "text/plain": [
       "<Figure size 864x576 with 1 Axes>"
      ]
     },
     "metadata": {
      "needs_background": "light"
     },
     "output_type": "display_data"
    }
   ],
   "source": [
    "# Split genres column by \"|\" and create new rows for each genre\n",
    "genres_df = merged_df.assign(genres=merged_df.genres.str.split('|')).explode('genres')\n",
    "\n",
    "# Create box plot of ratings for each genre\n",
    "fig, ax = plt.subplots(figsize=(12,8))\n",
    "bp = genres_df.boxplot(column=['rating'], by='genres', ax=ax, patch_artist=True, \n",
    "                       whiskerprops=dict(linewidth=2, color='black'))\n",
    "plt.title(\"Distribution of Ratings by Genre\")\n",
    "plt.suptitle(\"\")\n",
    "plt.xlabel(\"Genre\")\n",
    "plt.ylabel(\"Rating\")\n",
    "plt.xticks(rotation=45)\n",
    "plt.show()"
   ]
  },
  {
   "cell_type": "markdown",
   "metadata": {},
   "source": [
    "This code uses the boxplot() function to create box plots of the \"rating\" column grouped by the \"genres\" column. The resulting plots will show the distribution of ratings for each genre, allowing me to identify potential reasons for lower ratings in certain genres.\n",
    "\n",
    "\n",
    "Many of the different genres ratings are very similar when viewed in a box and whisker plot. In my opinion this confirms that we need to add more movies of the lesser common genres. "
   ]
  },
  {
   "cell_type": "markdown",
   "metadata": {},
   "source": [
    "# Collaborative filtering\n",
    "The goal of this Collabrative filtering model is to recommend movies to a specific user based on the ratings of similar users. By computing the cosine similarity between all users, the code can find the top 5 users most similar to the target user, and then recommend the top 5 highest rated movies among those similar users. This approach leverages the fact that users with similar rating patterns are likely to have similar movie preferences."
   ]
  },
  {
   "cell_type": "markdown",
   "metadata": {},
   "source": [
    "## Model"
   ]
  },
  {
   "cell_type": "markdown",
   "metadata": {},
   "source": [
    "Pivot the dataframe to have users as rows and movies as columns to prepare for computing user similarity. It fills any missing values with 0."
   ]
  },
  {
   "cell_type": "code",
   "execution_count": 20,
   "metadata": {},
   "outputs": [],
   "source": [
    "# pivot the dataframe to have users as rows and movies as columns\n",
    "pivot_df = merged_df.pivot(index='user_id', columns='movieId', values='rating').fillna(0)"
   ]
  },
  {
   "cell_type": "markdown",
   "metadata": {},
   "source": [
    "Compute the cosine similarity matrix between all users to find users with similar movie preferences."
   ]
  },
  {
   "cell_type": "code",
   "execution_count": 21,
   "metadata": {},
   "outputs": [],
   "source": [
    "# compute the cosine similarity matrix between all users\n",
    "user_similarities = cosine_similarity(pivot_df)"
   ]
  },
  {
   "cell_type": "code",
   "execution_count": 22,
   "metadata": {},
   "outputs": [],
   "source": [
    "# define the user_id for which we want to provide recommendations\n",
    "user_id = 1"
   ]
  },
  {
   "cell_type": "code",
   "execution_count": 23,
   "metadata": {},
   "outputs": [],
   "source": [
    "# get the similarity scores for the target user compared to all other users\n",
    "user_sim_scores = user_similarities[user_id]"
   ]
  },
  {
   "cell_type": "markdown",
   "metadata": {},
   "source": [
    "finds the indices of the top 5 most similar users to the target user."
   ]
  },
  {
   "cell_type": "code",
   "execution_count": 24,
   "metadata": {},
   "outputs": [],
   "source": [
    "# find the indices of the top 5 most similar users\n",
    "top_users = np.argsort(-user_sim_scores)[1:6]"
   ]
  },
  {
   "cell_type": "code",
   "execution_count": 25,
   "metadata": {},
   "outputs": [],
   "source": [
    "# get the movies that the top 5 similar users rated the highest\n",
    "top_movies = pivot_df.iloc[top_users].max().sort_values(ascending=False)[:5]"
   ]
  },
  {
   "cell_type": "code",
   "execution_count": 26,
   "metadata": {},
   "outputs": [],
   "source": [
    "# map the movie ids to movie titles\n",
    "top_movie_titles = [movies_df.loc[movies_df['movieId'] == movie_id, 'title'].iloc[0] for movie_id in top_movies.index]"
   ]
  },
  {
   "cell_type": "code",
   "execution_count": 27,
   "metadata": {},
   "outputs": [
    {
     "name": "stdout",
     "output_type": "stream",
     "text": [
      "['Elf (2003)', 'Guardians of the Galaxy (2014)', 'Shawshank Redemption, The (1994)', 'Dead Poets Society (1989)', 'Warrior (2011)']\n"
     ]
    }
   ],
   "source": [
    "# print the top 5 recommended movie titles\n",
    "print(top_movie_titles)"
   ]
  },
  {
   "cell_type": "markdown",
   "metadata": {},
   "source": [
    "# Collabrative Evaluation"
   ]
  },
  {
   "cell_type": "code",
   "execution_count": 28,
   "metadata": {},
   "outputs": [
    {
     "name": "stdout",
     "output_type": "stream",
     "text": [
      "Mean RMSE: 1.9174329156295056\n",
      "Mean MAE: 1.404918032786885\n"
     ]
    }
   ],
   "source": [
    "# Define the number of folds for cross-validation\n",
    "num_folds = 5\n",
    "\n",
    "# Initialize the KFold object\n",
    "kf = KFold(n_splits=num_folds, shuffle=True, random_state=42)\n",
    "\n",
    "# Initialize empty lists to hold the RMSE and MAE values for each fold\n",
    "rmse_scores = []\n",
    "mae_scores = []\n",
    "\n",
    "# Loop over each fold\n",
    "for train_index, test_index in kf.split(pivot_df):\n",
    "    # Split the data into training and test sets for the current fold\n",
    "    X_train, X_test = pivot_df.iloc[train_index], pivot_df.iloc[test_index]\n",
    "    y_train, y_test = pivot_df.iloc[train_index][user_id], pivot_df.iloc[test_index][user_id]\n",
    "\n",
    "    # Create a NearestNeighbors model with cosine similarity metric and 5 neighbors\n",
    "    model = NearestNeighbors(n_neighbors=5, metric='cosine')\n",
    "    # Fit the model to the training data\n",
    "    model.fit(X_train)\n",
    "\n",
    "    # Initialize empty lists to hold predictions for the current fold\n",
    "    rmse_predictions = []\n",
    "    mae_predictions = []\n",
    "    # Loop over each row of the test data\n",
    "    for i in range(X_test.shape[0]):\n",
    "        # Find the 5 nearest neighbors in the training data for the current test row\n",
    "        distances, indices = model.kneighbors(X_test.iloc[i,:].values.reshape(1, -1), n_neighbors=5)\n",
    "        # Extract the user indices of the neighbors\n",
    "        user_indices = indices.flatten()\n",
    "        # Get the ratings of the neighbors for the current movie\n",
    "        user_ratings = X_train.iloc[user_indices, user_id]\n",
    "        # Calculate the mean rating of the neighbors for the current movie\n",
    "        prediction = user_ratings.mean()\n",
    "        # Append the prediction to the list of predictions for both RMSE and MAE\n",
    "        rmse_predictions.append(prediction)\n",
    "        mae_predictions.append(round(prediction))\n",
    "\n",
    "    # Calculate the RMSE and MAE between the actual and predicted ratings for the current fold\n",
    "    rmse = np.sqrt(mean_squared_error(y_test, rmse_predictions))\n",
    "    mae = mean_absolute_error(y_test, mae_predictions)\n",
    "    # Append the RMSE and MAE to their respective lists for each fold\n",
    "    rmse_scores.append(rmse)\n",
    "    mae_scores.append(mae)\n",
    "\n",
    "# Calculate the mean RMSE and MAE across all folds\n",
    "mean_rmse = np.mean(rmse_scores)\n",
    "mean_mae = np.mean(mae_scores)\n",
    "\n",
    "# Print the results\n",
    "print(\"Mean RMSE:\", mean_rmse)\n",
    "print(\"Mean MAE:\", mean_mae)\n"
   ]
  },
  {
   "cell_type": "markdown",
   "metadata": {},
   "source": [
    "The code is implementing a collaborative filtering model using k-nearest neighbors algorithm with cosine similarity as the distance metric. The model is being evaluated using 5-fold cross-validation, and the performance metrics being used are root mean squared error (RMSE) and mean absolute error (MAE). The goal is to assess how well the model is able to predict user ratings for movies based on the ratings of other similar users.\n",
    "\n",
    "The mean RMSE of 1.917 in this case indicates that the average difference between predicted ratings and actual ratings was 1.917 on a scale of 1-5.\n",
    "\n",
    "The mean MAE of 1.404 in this case indicates that the average absolute difference between predicted ratings and actual ratings was 1.404 on a scale of 1-5."
   ]
  },
  {
   "cell_type": "markdown",
   "metadata": {},
   "source": [
    " # Content Based Filtering\n",
    " In content-based filtering, the system recommends items to a user based on their past behavior and the attributes of items they have previously interacted with."
   ]
  },
  {
   "cell_type": "markdown",
   "metadata": {},
   "source": [
    "## Data Preperation"
   ]
  },
  {
   "cell_type": "markdown",
   "metadata": {},
   "source": [
    "I am merging three dataframes - ratings_df, movies_df, and tags_df - using the merge() function from the Pandas library in Python.\n",
    "\n",
    "The resulting merged dataframe is assigned to the variable content_df. This will allow me to analyze and manipulate the data from all three original dataframes together"
   ]
  },
  {
   "cell_type": "code",
   "execution_count": 29,
   "metadata": {},
   "outputs": [],
   "source": [
    "# Merge the dataframes\n",
    "content_df = pd.merge(ratings_df, movies_df, on='movieId', how='inner')\n",
    "content_df = pd.merge(content_df, tags_df, on='movieId', how='inner')"
   ]
  },
  {
   "cell_type": "markdown",
   "metadata": {},
   "source": [
    "I am merging three dataframes - ratings_df, movies_df, and tags_df - using the merge() function from the Pandas library in Python.\n",
    "\n",
    "The resulting merged dataframe is assigned to the variable content_df. This will allow me to analyze and manipulate the data from all three original dataframes together"
   ]
  },
  {
   "cell_type": "code",
   "execution_count": 30,
   "metadata": {},
   "outputs": [],
   "source": [
    "#Removing some columns that are double represented.\n",
    "content_df = content_df.drop('userId_y', axis=1)\n",
    "content_df = content_df.drop('timestamp_y', axis=1)\n",
    "content_df = content_df.drop('timestamp_x', axis=1)"
   ]
  },
  {
   "cell_type": "code",
   "execution_count": 31,
   "metadata": {},
   "outputs": [],
   "source": [
    "#changing column name to user_id from userId_x\n",
    "content_df = content_df.rename(columns={'userId_x': 'user_id'})"
   ]
  },
  {
   "cell_type": "code",
   "execution_count": 32,
   "metadata": {},
   "outputs": [],
   "source": [
    "# groups the `content_df` DataFrame by the 'user_id' and 'title' columns, resets the index of the resulting DataFrame.\n",
    "content_df = content_df.groupby(['user_id', 'title']).first().reset_index()"
   ]
  },
  {
   "cell_type": "code",
   "execution_count": 33,
   "metadata": {},
   "outputs": [],
   "source": [
    "# Filter out rows with '(no genres listed)' value in 'genres' column\n",
    "merged_df = merged_df.loc[merged_df['genres'] != '(no genres listed)']\n",
    "\n",
    "# Step 1: Split genres column by '|' separator\n",
    "genres_df = merged_df['genres'].str.split('|', expand=True).stack().reset_index(level=1, drop=True).to_frame('genre')"
   ]
  },
  {
   "cell_type": "markdown",
   "metadata": {},
   "source": [
    "The dataframe above looks to have the relavent data im looking for now."
   ]
  },
  {
   "cell_type": "markdown",
   "metadata": {},
   "source": [
    "### Content Based filter modeling"
   ]
  },
  {
   "cell_type": "markdown",
   "metadata": {},
   "source": [
    "First, I select the user we want to recommend movies to, and then set a rating threshold (a minimum rating) for movies to be considered \"highly rated\" by that user. (4)"
   ]
  },
  {
   "cell_type": "code",
   "execution_count": 34,
   "metadata": {},
   "outputs": [],
   "source": [
    "# Select the user and rating threshold\n",
    "selected_user = 1\n",
    "rating_threshold = 4"
   ]
  },
  {
   "cell_type": "markdown",
   "metadata": {},
   "source": [
    "Then, we filter the DataFrame of movie ratings to only include movies that this user has rated highly, and extract the genres of those movies."
   ]
  },
  {
   "cell_type": "code",
   "execution_count": 35,
   "metadata": {},
   "outputs": [],
   "source": [
    "# Filter the content_df for movies rated highly by the user\n",
    "user_ratings = content_df[(content_df['user_id'] == selected_user) & (content_df['rating'] >= rating_threshold)]\n",
    "# Get the genres of the highly rated movies\n",
    "user_genres = list(set('|'.join(user_ratings['genres']).split('|')))"
   ]
  },
  {
   "cell_type": "markdown",
   "metadata": {},
   "source": [
    "Next, we filter the original DataFrame of movies to only include movies that have at least one of the genres that the highly rated movies have. After that, you combine the genres and tags of each movie into a single string and use TfidfVectorizer to convert that text into a matrix of term frequencies."
   ]
  },
  {
   "cell_type": "code",
   "execution_count": 36,
   "metadata": {},
   "outputs": [],
   "source": [
    "# Filter the content_df for movies that belong to the same genres as the highly rated movies\n",
    "relevant_movies = content_df[content_df['genres'].str.contains('|'.join(user_genres))].copy()\n",
    "\n",
    "# Filter out the movies that the user has already rated\n",
    "relevant_movies = relevant_movies[~relevant_movies['movieId'].isin(user_ratings['movieId'])]\n",
    "\n",
    "# Concatenate the genres and tag columns\n",
    "relevant_movies['genres_and_tags'] = relevant_movies['genres'] + ' ' + relevant_movies['tag']"
   ]
  },
  {
   "cell_type": "code",
   "execution_count": 37,
   "metadata": {},
   "outputs": [],
   "source": [
    "# Use TfidfVectorizer to convert the combined text into a matrix of term frequencies\n",
    "vectorizer = TfidfVectorizer()\n",
    "movie_matrix = vectorizer.fit_transform(relevant_movies['genres_and_tags'])"
   ]
  },
  {
   "cell_type": "markdown",
   "metadata": {},
   "source": [
    "Then, we calculate the cosine similarity between each row of the movie matrix to see which movies are most similar to each other based on genre and tag, and set a similarity threshold (a minimum similarity score) and then find the indices of the movies that meet this criteria."
   ]
  },
  {
   "cell_type": "code",
   "execution_count": 38,
   "metadata": {},
   "outputs": [],
   "source": [
    "# Calculate the cosine similarity between the movie matrix rows\n",
    "similarity_matrix = cosine_similarity(movie_matrix)\n",
    "# Set the cosine similarity threshold\n",
    "similarity_threshold = 0.5"
   ]
  },
  {
   "cell_type": "markdown",
   "metadata": {},
   "source": [
    "Finally, you randomly select 5 movies from these highly similar movies to recommend to the user, and print out the recommended movies."
   ]
  },
  {
   "cell_type": "code",
   "execution_count": 39,
   "metadata": {},
   "outputs": [],
   "source": [
    "# Get the indices of movies that meet the threshold criteria\n",
    "top_indices = [i for i, sim in enumerate(similarity_matrix[0]) if sim >= similarity_threshold]"
   ]
  },
  {
   "cell_type": "code",
   "execution_count": 40,
   "metadata": {},
   "outputs": [],
   "source": [
    "# Shuffle the indices and select the first 5 unique recommended movies\n",
    "recommended_movies = set()\n",
    "while len(recommended_movies) < 5 and top_indices:\n",
    "    random_index = random.choice(top_indices)\n",
    "    recommended_movies.add(relevant_movies.iloc[random_index]['title'])\n",
    "    top_indices.remove(random_index)"
   ]
  },
  {
   "cell_type": "code",
   "execution_count": 41,
   "metadata": {},
   "outputs": [
    {
     "name": "stdout",
     "output_type": "stream",
     "text": [
      "Recommended movies for user 1:\n",
      "Unbreakable (2000)\n",
      "Spider-Man (2002)\n",
      "Batman Returns (1992)\n",
      "Batman Forever (1995)\n",
      "Mystery Men (1999)\n"
     ]
    }
   ],
   "source": [
    "print(f\"Recommended movies for user {selected_user}:\")\n",
    "for movie in recommended_movies:\n",
    "    print(movie)"
   ]
  },
  {
   "cell_type": "markdown",
   "metadata": {},
   "source": [
    "# Content Based Filtering Evaluation"
   ]
  },
  {
   "cell_type": "code",
   "execution_count": 42,
   "metadata": {},
   "outputs": [],
   "source": [
    "actual_ratings_df = content_df[['user_id', 'movieId', 'rating']].copy()"
   ]
  },
  {
   "cell_type": "code",
   "execution_count": 43,
   "metadata": {},
   "outputs": [
    {
     "name": "stdout",
     "output_type": "stream",
     "text": [
      "Recommended movies for user 1:\n",
      "Unbreakable (2000)\n",
      "Spider-Man (2002)\n",
      "Batman Returns (1992)\n",
      "Batman Forever (1995)\n",
      "Mystery Men (1999)\n"
     ]
    }
   ],
   "source": [
    "# Select the user and rating threshold\n",
    "selected_user = 1\n",
    "rating_threshold = 4\n",
    "\n",
    "# Concatenate the genres and tag columns\n",
    "content_df['genres_and_tags'] = content_df['genres'] + ' ' + content_df['tag']\n",
    "\n",
    "# Use TfidfVectorizer to convert the combined text into a matrix of term frequencies\n",
    "vectorizer = TfidfVectorizer()\n",
    "movie_matrix = vectorizer.fit_transform(content_df['genres_and_tags'])\n",
    "\n",
    "# Filter the content_df for movies rated highly by the user\n",
    "user_ratings = content_df[(content_df['user_id'] == selected_user) & (content_df['rating'] >= rating_threshold)]\n",
    "# Get the genres of the highly rated movies\n",
    "user_genres = list(set('|'.join(user_ratings['genres']).split('|')))\n",
    "\n",
    "# Filter the content_df for movies that belong to the same genres as the highly rated movies\n",
    "relevant_movies = content_df[content_df['genres'].str.contains('|'.join(user_genres))].copy()\n",
    "\n",
    "# Filter out the movies that the user has already rated\n",
    "relevant_movies = relevant_movies[~relevant_movies['movieId'].isin(user_ratings['movieId'])]\n",
    "\n",
    "# Concatenate the genres and tag columns\n",
    "relevant_movies['genres_and_tags'] = relevant_movies['genres'] + ' ' + relevant_movies['tag']\n",
    "\n",
    "# Use TfidfVectorizer to convert the combined text into a matrix of term frequencies\n",
    "vectorizer = TfidfVectorizer()\n",
    "movie_matrix = vectorizer.fit_transform(relevant_movies['genres_and_tags'])\n",
    "\n",
    "# Calculate the cosine similarity between the movie matrix rows\n",
    "similarity_matrix = cosine_similarity(movie_matrix)\n",
    "# Set the cosine similarity threshold\n",
    "similarity_threshold = 0.5\n",
    "\n",
    "# Get the indices of movies that meet the threshold criteria\n",
    "top_indices = [i for i, sim in enumerate(similarity_matrix[0]) if sim >= similarity_threshold]\n",
    "\n",
    "# Shuffle the indices and select the first 5 unique recommended movies\n",
    "recommended_movies = set()\n",
    "while len(recommended_movies) < 5 and top_indices:\n",
    "    random_index = random.choice(top_indices)\n",
    "    recommended_movies.add(relevant_movies.iloc[random_index]['title'])\n",
    "    top_indices.remove(random_index)\n",
    "\n",
    "print(f\"Recommended movies for user {selected_user}:\")\n",
    "for movie in recommended_movies:\n",
    "    print(movie)\n",
    "\n",
    "#Get predicted ratings for movies that the user has not rated\n",
    "unwatched_movies = content_df[~content_df['movieId'].isin(user_ratings['movieId'])]\n",
    "\n",
    "# Filter out movies with missing genre or tag information\n",
    "unwatched_movies = unwatched_movies.dropna(subset=['genres_and_tags'])\n",
    "\n",
    "# Create movie matrix for unwatched movies\n",
    "movie_matrix_unwatched = vectorizer.transform(unwatched_movies['genres_and_tags'])\n",
    "\n",
    "# Compute similarity scores between unwatched movies and user-rated movies\n",
    "similarity_matrix_unwatched = cosine_similarity(movie_matrix_unwatched, movie_matrix)\n",
    "\n",
    "\n",
    "# Create DataFrame with predicted ratings\n",
    "predicted_ratings = pd.DataFrame({'movieId': unwatched_movies.iloc[similarity_matrix_unwatched[0].argsort()[::-1]][:]['movieId'], 'predicted_rating': similarity_matrix_unwatched[0][similarity_matrix_unwatched[0].argsort()[::-1]]})\n",
    "predicted_ratings = predicted_ratings.sort_values(by='predicted_rating', ascending=False)"
   ]
  },
  {
   "cell_type": "markdown",
   "metadata": {},
   "source": [
    "This code recommends movies for a selected user based on their highly rated movies and the genres of those movies. It uses TF-IDF vectorization to create a matrix of term frequencies from the genres and tags of the movies. The cosine similarity between the movie matrix rows is calculated and a threshold is set to filter out less similar movies. A set of 5 unique recommended movies is selected randomly from the remaining movies. Additionally, the code predicts ratings for movies that the user has not rated based on the similarity scores between those movies and the user-rated movies."
   ]
  },
  {
   "cell_type": "markdown",
   "metadata": {},
   "source": [
    "Next, we need to calculate the RMSE (Root Mean Squared Error) between the predicted ratings and the actual ratings. To do this, we need to join the predicted ratings with the actual ratings and calculate the RMSE."
   ]
  },
  {
   "cell_type": "code",
   "execution_count": 44,
   "metadata": {},
   "outputs": [
    {
     "name": "stdout",
     "output_type": "stream",
     "text": [
      "RMSE for user 1: 2.87\n"
     ]
    }
   ],
   "source": [
    "# Join predicted and actual ratings\n",
    "actual_ratings = ratings_df[ratings_df['userId'] == selected_user]\n",
    "merged_df = pd.merge(predicted_ratings, actual_ratings, on='movieId', how='inner')\n",
    " \n",
    "# Calculate RMSE\n",
    "rmse = np.sqrt(((merged_df['rating'] - merged_df['predicted_rating']) ** 2).mean())\n",
    "print(f\"RMSE for user {selected_user}: {rmse:.2f}\")"
   ]
  },
  {
   "cell_type": "markdown",
   "metadata": {},
   "source": [
    "The RMSE value for the selected user was calculated to be 2.87. This means that on average, the predicted rating for a movie deviates from the actual rating by about 2.87 points. The MAE and RMSE scores for the content-based recommender model are higher compared to the collaborative filtering model that was previously evaluated. At this point, the collaborative filtering model appears to be a more effective recommendation model."
   ]
  },
  {
   "cell_type": "markdown",
   "metadata": {},
   "source": [
    "# Hybrid model"
   ]
  },
  {
   "cell_type": "markdown",
   "metadata": {},
   "source": [
    "Hybrid recommendation systems combine multiple recommendation techniques, such as collaborative filtering and content-based filtering to improve the accuracy and relevance of recommendations. This approach can help to overcome the limitations of each individual technique and provide better personalized recommendations."
   ]
  },
  {
   "cell_type": "code",
   "execution_count": 45,
   "metadata": {},
   "outputs": [
    {
     "name": "stdout",
     "output_type": "stream",
     "text": [
      "{'Unbreakable (2000)', 'Spider-Man (2002)', 'Batman Returns (1992)', 'Batman Forever (1995)', 'Mystery Men (1999)'}\n"
     ]
    }
   ],
   "source": [
    "# Load ratings data\n",
    "ratings = pd.read_csv('https://gist.githubusercontent.com/MichalOst3389/d8ed774a84197205b2d7e53ce8345aae/raw/064966f6d7c5f45f3aa404ca45d5ee9b9fed0ece/ratings.csv')\n",
    "movies = pd.read_csv('https://gist.githubusercontent.com/MichalOst3389/e3913bbb6921ea9475660d58d280d55c/raw/3b8861ea300bbdd6b689bf853dfce94524b39301/movies.csv')\n",
    "\n",
    "class HybridRecommender:\n",
    "    def __init__(self, ratings_df, movies_df):\n",
    "        # Merge ratings and movies dataframes\n",
    "        self.user_movies = ratings_df.merge(movies_df, on='movieId')\n",
    "\n",
    "        # One-hot encode genres\n",
    "        self.movie_features = self.user_movies.pivot_table(index='movieId', columns='genres', values='rating').fillna(0)\n",
    "        self.movie_features = pd.concat([movies_df[['movieId', 'title']], self.movie_features], axis=1)\n",
    "        self.movie_features.set_index('movieId', inplace=True)\n",
    "\n",
    "        # Calculate mean rating for each movie\n",
    "        self.movie_mean_ratings = self.user_movies.groupby(['movieId', 'title'])['rating'].mean().reset_index()\n",
    "\n",
    "    def recommend_movies(self, user_id):\n",
    "        # Select the movies that the user has rated\n",
    "        seen_movies = self.user_movies[self.user_movies['userId'] == user_id][['movieId', 'title', 'rating']]\n",
    "\n",
    "        # One-hot encode genres for the seen movies\n",
    "        seen_movie_features = seen_movies.pivot_table(index='movieId', columns='genres', values='rating').fillna(0)\n",
    "\n",
    "        # Reduce dimensionality of the movie features matrix using TruncatedSVD\n",
    "        svd = TruncatedSVD(n_components=100)\n",
    "        movie_matrix_svd = svd.fit_transform(self.movie_features.drop('title', axis=1))\n",
    "        seen_movie_matrix_svd = svd.transform(seen_movie_features)\n",
    "\n",
    "        # Calculate cosine similarities between seen movies and all other movies\n",
    "        similarities = cosine_similarity(seen_movie_matrix_svd, movie_matrix_svd)\n",
    "\n",
    "        # Get indices of top similar movies\n",
    "        similar_indices = similarities.argsort()[0][::-1]\n",
    "\n",
    "        # Remove seen movies from top similar movies\n",
    "        seen_movie_indices = seen_movies['movieId'].values\n",
    "        similar_indices = [i for i in similar_indices if i not in seen_movie_indices]\n",
    "\n",
    "        # Get movie recommendations and their mean ratings\n",
    "        recommended_movies = self.movie_mean_ratings[self.movie_mean_ratings['movieId'].isin(similar_indices)].sort_values(by='rating', ascending=False)\n",
    "\n",
    "print(recommended_movies)"
   ]
  },
  {
   "cell_type": "markdown",
   "metadata": {},
   "source": [
    "This code defines a class called \"HybridRecommender\" that can find you movie recommendations based on your movie ratings and the genres of movies you have watched. It loads two dataframes, \"ratings.csv\" and \"movies.csv,\" from external sources and merges them together to create a \"user_movies\" dataframe. In order to make the code more efficient, we used a smaller smaller ammount of data."
   ]
  },
  {
   "cell_type": "code",
   "execution_count": 46,
   "metadata": {},
   "outputs": [
    {
     "name": "stdout",
     "output_type": "stream",
     "text": [
      "Recommended movies: \n",
      "{'Unbreakable (2000)', 'Spider-Man (2002)', 'Batman Returns (1992)', 'Batman Forever (1995)', 'Mystery Men (1999)'}\n",
      "RMSE: 2.870177074360958\n"
     ]
    }
   ],
   "source": [
    "class HybridRecommender:\n",
    "    def __init__(self, ratings_df, movies_df):\n",
    "        # Merge ratings and movies dataframes\n",
    "        self.user_movies = ratings_df.merge(movies_df, on='movieId')\n",
    "\n",
    "        # One-hot encode genres\n",
    "        self.movie_features = self.user_movies.pivot_table(index='movieId', columns='genres', values='rating').fillna(0)\n",
    "        self.movie_features = pd.concat([movies_df[['movieId', 'title']], self.movie_features], axis=1)\n",
    "        self.movie_features.set_index('movieId', inplace=True)\n",
    "\n",
    "        # Calculate mean rating for each movie\n",
    "        self.movie_mean_ratings = self.user_movies.groupby(['movieId', 'title'])['rating'].mean().reset_index()\n",
    "\n",
    "    def recommend_movies(self, user_id):\n",
    "        # Select the movies that the user has rated\n",
    "        seen_movies = self.user_movies[self.user_movies['userId'] == user_id][['movieId', 'title', 'rating']]\n",
    "\n",
    "        # One-hot encode genres for the seen movies\n",
    "        seen_movie_features = seen_movies.pivot_table(index='movieId', columns='genres', values='rating').fillna(0)\n",
    "\n",
    "        # Reduce dimensionality of the movie features matrix using TruncatedSVD\n",
    "        svd = TruncatedSVD(n_components=100)\n",
    "        movie_matrix_svd = svd.fit_transform(self.movie_features.drop('title', axis=1))\n",
    "        seen_movie_matrix_svd = svd.transform(seen_movie_features)\n",
    "\n",
    "        # Calculate cosine similarities between seen movies and all other movies\n",
    "        similarities = cosine_similarity(seen_movie_matrix_svd, movie_matrix_svd)\n",
    "\n",
    "        # Get indices of top similar movies\n",
    "        similar_indices = similarities.argsort()[0][::-1]\n",
    "\n",
    "        # Remove seen movies from top similar movies\n",
    "        seen_movie_indices = seen_movies['movieId'].values\n",
    "        similar_indices = [i for i in similar_indices if i not in seen_movie_indices]\n",
    "\n",
    "        # Get movie recommendations and their mean ratings\n",
    "        recommended_movies = self.movie_mean_ratings[self.movie_mean_ratings['movieId'].isin(similar_indices)].sort_values(by='rating', ascending=False)\n",
    "\n",
    "        # Compute RMSE\n",
    "        predicted_ratings = similarities.dot(seen_movies['rating'].values) / np.abs(similarities).sum(axis=1)\n",
    "        actual_ratings = self.user_movies[self.user_movies['userId'] == user_id][self.user_movies['movieId'].isin(similar_indices)]['rating'].values\n",
    "        rmse = np.sqrt(mean_squared_error(actual_ratings, predicted_ratings))\n",
    "\n",
    "        # Print movie recommendations and RMSE\n",
    "print(f\"Recommended movies: \\n{recommended_movies}\\nRMSE: {rmse}\")"
   ]
  },
  {
   "cell_type": "markdown",
   "metadata": {},
   "source": [
    "This is a program that recommends movies to users based on their movie ratings and the genres of movies they have watched. It loads data about movies and user ratings, one-hot encodes the genres of the movies, and calculates the mean rating for each movie. When the \"recommend_movies\" function is called, it selects the movies that the user has rated, encodes the genres for those movies, and calculates cosine similarities between those movies and all other movies. It then removes the seen movies from the top similar movies, retrieves movie recommendations and their mean ratings, and sorts them in descending order based on the mean rating. Finally, it prints the recommended movies and RMSE.\n",
    "\n",
    " the value of 2.87 indicates that on average, the predicted ratings for the recommended movies differ from the actual ratings given by the user by approximately 2.87 points."
   ]
  },
  {
   "cell_type": "markdown",
   "metadata": {},
   "source": [
    "# Fine tuning the most accurate model of the 3"
   ]
  },
  {
   "cell_type": "markdown",
   "metadata": {},
   "source": [
    "Collabrative Filtering seems to have the best RMSE, while still not as accurate as it can be, from now on we will be focusing on making the Collabrative Model more accurate."
   ]
  },
  {
   "cell_type": "code",
   "execution_count": 47,
   "metadata": {},
   "outputs": [],
   "source": [
    "content_df = content_df.merge(links_df, on='movieId')"
   ]
  },
  {
   "cell_type": "code",
   "execution_count": 48,
   "metadata": {},
   "outputs": [],
   "source": [
    "content_df.drop('tmdbId', axis=1, inplace=True)"
   ]
  },
  {
   "cell_type": "markdown",
   "metadata": {},
   "source": [
    "# Collabrative Model Expanded"
   ]
  },
  {
   "cell_type": "markdown",
   "metadata": {},
   "source": [
    "I want to add some more features to my collabrative model to improve the RMSE. I will focus on adding directors from the Imdb that I got from their website (https://datasets.imdbws.com) and merge them into my content_df, merging the datasets on the \"tconst\" column.  "
   ]
  },
  {
   "cell_type": "markdown",
   "metadata": {},
   "source": [
    "## Adding new data"
   ]
  },
  {
   "cell_type": "code",
   "execution_count": 49,
   "metadata": {},
   "outputs": [],
   "source": [
    "# Download and read the TSV file into a pandas dataframe\n",
    "url = 'https://datasets.imdbws.com/name.basics.tsv.gz'\n",
    "basics = pd.read_csv(url, sep='\\t', compression='gzip')"
   ]
  },
  {
   "cell_type": "code",
   "execution_count": 50,
   "metadata": {},
   "outputs": [],
   "source": [
    "# Download and read the TSV file into a pandas dataframe\n",
    "url = 'https://datasets.imdbws.com/title.principals.tsv.gz'\n",
    "princ_df = pd.read_csv(url, sep='\\t', compression='gzip')"
   ]
  },
  {
   "cell_type": "code",
   "execution_count": 51,
   "metadata": {},
   "outputs": [],
   "source": [
    "# Download and read the TSV file into a pandas dataframe\n",
    "url = 'https://datasets.imdbws.com/title.crew.tsv.gz'\n",
    "crew_df = pd.read_csv(url, sep='\\t', compression='gzip')"
   ]
  },
  {
   "cell_type": "code",
   "execution_count": 52,
   "metadata": {},
   "outputs": [
    {
     "name": "stderr",
     "output_type": "stream",
     "text": [
      "C:\\Users\\micha\\anaconda3\\envs\\learn-env\\lib\\site-packages\\IPython\\core\\interactiveshell.py:3145: DtypeWarning: Columns (7) have mixed types.Specify dtype option on import or set low_memory=False.\n",
      "  has_raised = await self.run_ast_nodes(code_ast.body, cell_name,\n"
     ]
    }
   ],
   "source": [
    "# Download and read the TSV file into a pandas dataframe\n",
    "url = 'https://datasets.imdbws.com/title.akas.tsv.gz'\n",
    "akas_df = pd.read_csv(url, sep='\\t', compression='gzip')"
   ]
  },
  {
   "cell_type": "code",
   "execution_count": 53,
   "metadata": {},
   "outputs": [],
   "source": [
    "#renamed title id to tconst\n",
    "akas_df = akas_df.rename(columns={'titleId': 'tconst'})"
   ]
  },
  {
   "cell_type": "code",
   "execution_count": 54,
   "metadata": {},
   "outputs": [
    {
     "data": {
      "text/html": [
       "<div>\n",
       "<style scoped>\n",
       "    .dataframe tbody tr th:only-of-type {\n",
       "        vertical-align: middle;\n",
       "    }\n",
       "\n",
       "    .dataframe tbody tr th {\n",
       "        vertical-align: top;\n",
       "    }\n",
       "\n",
       "    .dataframe thead th {\n",
       "        text-align: right;\n",
       "    }\n",
       "</style>\n",
       "<table border=\"1\" class=\"dataframe\">\n",
       "  <thead>\n",
       "    <tr style=\"text-align: right;\">\n",
       "      <th></th>\n",
       "      <th>tconst</th>\n",
       "      <th>ordering</th>\n",
       "      <th>title</th>\n",
       "      <th>region</th>\n",
       "      <th>language</th>\n",
       "      <th>types</th>\n",
       "      <th>attributes</th>\n",
       "      <th>isOriginalTitle</th>\n",
       "    </tr>\n",
       "  </thead>\n",
       "  <tbody>\n",
       "    <tr>\n",
       "      <th>0</th>\n",
       "      <td>tt0000001</td>\n",
       "      <td>1</td>\n",
       "      <td>Карменсіта</td>\n",
       "      <td>UA</td>\n",
       "      <td>\\N</td>\n",
       "      <td>imdbDisplay</td>\n",
       "      <td>\\N</td>\n",
       "      <td>0</td>\n",
       "    </tr>\n",
       "    <tr>\n",
       "      <th>1</th>\n",
       "      <td>tt0000001</td>\n",
       "      <td>2</td>\n",
       "      <td>Carmencita</td>\n",
       "      <td>DE</td>\n",
       "      <td>\\N</td>\n",
       "      <td>\\N</td>\n",
       "      <td>literal title</td>\n",
       "      <td>0</td>\n",
       "    </tr>\n",
       "    <tr>\n",
       "      <th>2</th>\n",
       "      <td>tt0000001</td>\n",
       "      <td>3</td>\n",
       "      <td>Carmencita - spanyol tánc</td>\n",
       "      <td>HU</td>\n",
       "      <td>\\N</td>\n",
       "      <td>imdbDisplay</td>\n",
       "      <td>\\N</td>\n",
       "      <td>0</td>\n",
       "    </tr>\n",
       "    <tr>\n",
       "      <th>3</th>\n",
       "      <td>tt0000001</td>\n",
       "      <td>4</td>\n",
       "      <td>Καρμενσίτα</td>\n",
       "      <td>GR</td>\n",
       "      <td>\\N</td>\n",
       "      <td>imdbDisplay</td>\n",
       "      <td>\\N</td>\n",
       "      <td>0</td>\n",
       "    </tr>\n",
       "    <tr>\n",
       "      <th>4</th>\n",
       "      <td>tt0000001</td>\n",
       "      <td>5</td>\n",
       "      <td>Карменсита</td>\n",
       "      <td>RU</td>\n",
       "      <td>\\N</td>\n",
       "      <td>imdbDisplay</td>\n",
       "      <td>\\N</td>\n",
       "      <td>0</td>\n",
       "    </tr>\n",
       "    <tr>\n",
       "      <th>...</th>\n",
       "      <td>...</td>\n",
       "      <td>...</td>\n",
       "      <td>...</td>\n",
       "      <td>...</td>\n",
       "      <td>...</td>\n",
       "      <td>...</td>\n",
       "      <td>...</td>\n",
       "      <td>...</td>\n",
       "    </tr>\n",
       "    <tr>\n",
       "      <th>35282335</th>\n",
       "      <td>tt9916852</td>\n",
       "      <td>5</td>\n",
       "      <td>Episódio #3.20</td>\n",
       "      <td>PT</td>\n",
       "      <td>pt</td>\n",
       "      <td>\\N</td>\n",
       "      <td>\\N</td>\n",
       "      <td>0</td>\n",
       "    </tr>\n",
       "    <tr>\n",
       "      <th>35282336</th>\n",
       "      <td>tt9916852</td>\n",
       "      <td>6</td>\n",
       "      <td>Episodio #3.20</td>\n",
       "      <td>IT</td>\n",
       "      <td>it</td>\n",
       "      <td>\\N</td>\n",
       "      <td>\\N</td>\n",
       "      <td>0</td>\n",
       "    </tr>\n",
       "    <tr>\n",
       "      <th>35282337</th>\n",
       "      <td>tt9916852</td>\n",
       "      <td>7</td>\n",
       "      <td>एपिसोड #3.20</td>\n",
       "      <td>IN</td>\n",
       "      <td>hi</td>\n",
       "      <td>\\N</td>\n",
       "      <td>\\N</td>\n",
       "      <td>0</td>\n",
       "    </tr>\n",
       "    <tr>\n",
       "      <th>35282338</th>\n",
       "      <td>tt9916856</td>\n",
       "      <td>1</td>\n",
       "      <td>The Wind</td>\n",
       "      <td>DE</td>\n",
       "      <td>\\N</td>\n",
       "      <td>imdbDisplay</td>\n",
       "      <td>\\N</td>\n",
       "      <td>0</td>\n",
       "    </tr>\n",
       "    <tr>\n",
       "      <th>35282339</th>\n",
       "      <td>tt9916856</td>\n",
       "      <td>2</td>\n",
       "      <td>The Wind</td>\n",
       "      <td>\\N</td>\n",
       "      <td>\\N</td>\n",
       "      <td>original</td>\n",
       "      <td>\\N</td>\n",
       "      <td>1</td>\n",
       "    </tr>\n",
       "  </tbody>\n",
       "</table>\n",
       "<p>35282340 rows × 8 columns</p>\n",
       "</div>"
      ],
      "text/plain": [
       "             tconst  ordering                      title region language  \\\n",
       "0         tt0000001         1                 Карменсіта     UA       \\N   \n",
       "1         tt0000001         2                 Carmencita     DE       \\N   \n",
       "2         tt0000001         3  Carmencita - spanyol tánc     HU       \\N   \n",
       "3         tt0000001         4                 Καρμενσίτα     GR       \\N   \n",
       "4         tt0000001         5                 Карменсита     RU       \\N   \n",
       "...             ...       ...                        ...    ...      ...   \n",
       "35282335  tt9916852         5             Episódio #3.20     PT       pt   \n",
       "35282336  tt9916852         6             Episodio #3.20     IT       it   \n",
       "35282337  tt9916852         7               एपिसोड #3.20     IN       hi   \n",
       "35282338  tt9916856         1                   The Wind     DE       \\N   \n",
       "35282339  tt9916856         2                   The Wind     \\N       \\N   \n",
       "\n",
       "                types     attributes isOriginalTitle  \n",
       "0         imdbDisplay             \\N               0  \n",
       "1                  \\N  literal title               0  \n",
       "2         imdbDisplay             \\N               0  \n",
       "3         imdbDisplay             \\N               0  \n",
       "4         imdbDisplay             \\N               0  \n",
       "...               ...            ...             ...  \n",
       "35282335           \\N             \\N               0  \n",
       "35282336           \\N             \\N               0  \n",
       "35282337           \\N             \\N               0  \n",
       "35282338  imdbDisplay             \\N               0  \n",
       "35282339     original             \\N               1  \n",
       "\n",
       "[35282340 rows x 8 columns]"
      ]
     },
     "execution_count": 54,
     "metadata": {},
     "output_type": "execute_result"
    }
   ],
   "source": [
    "akas_df"
   ]
  },
  {
   "cell_type": "markdown",
   "metadata": {},
   "source": [
    "# preprocess"
   ]
  },
  {
   "cell_type": "code",
   "execution_count": 55,
   "metadata": {},
   "outputs": [],
   "source": [
    "#dropping unwanted columns\n",
    "basics.drop(['birthYear', 'deathYear', 'primaryProfession', 'knownForTitles'], axis=1, inplace=True)"
   ]
  },
  {
   "cell_type": "code",
   "execution_count": 56,
   "metadata": {},
   "outputs": [
    {
     "data": {
      "text/plain": [
       "nconst         0\n",
       "primaryName    3\n",
       "dtype: int64"
      ]
     },
     "execution_count": 56,
     "metadata": {},
     "output_type": "execute_result"
    }
   ],
   "source": [
    "basics.isna().sum()"
   ]
  },
  {
   "cell_type": "markdown",
   "metadata": {},
   "source": [
    "there are 3 missing values"
   ]
  },
  {
   "cell_type": "code",
   "execution_count": 57,
   "metadata": {},
   "outputs": [],
   "source": [
    "basics.dropna(subset=['primaryName'], inplace=True)"
   ]
  },
  {
   "cell_type": "code",
   "execution_count": 58,
   "metadata": {},
   "outputs": [
    {
     "data": {
      "text/plain": [
       "nconst         0\n",
       "primaryName    0\n",
       "dtype: int64"
      ]
     },
     "execution_count": 58,
     "metadata": {},
     "output_type": "execute_result"
    }
   ],
   "source": [
    "basics.isna().sum()"
   ]
  },
  {
   "cell_type": "markdown",
   "metadata": {},
   "source": [
    "0 missing values"
   ]
  },
  {
   "cell_type": "code",
   "execution_count": 59,
   "metadata": {},
   "outputs": [
    {
     "data": {
      "text/plain": [
       "0"
      ]
     },
     "execution_count": 59,
     "metadata": {},
     "output_type": "execute_result"
    }
   ],
   "source": [
    "basics.duplicated().sum()"
   ]
  },
  {
   "cell_type": "markdown",
   "metadata": {},
   "source": [
    "0 duplicated rows"
   ]
  },
  {
   "cell_type": "markdown",
   "metadata": {},
   "source": [
    "#### Basics is good to go"
   ]
  },
  {
   "cell_type": "markdown",
   "metadata": {},
   "source": [
    "princ_df needs to lose columns characters, job, category, ordering"
   ]
  },
  {
   "cell_type": "code",
   "execution_count": 60,
   "metadata": {},
   "outputs": [],
   "source": [
    "princ_df.drop(['characters', 'job', 'category', 'ordering'], axis=1, inplace=True)"
   ]
  },
  {
   "cell_type": "code",
   "execution_count": 61,
   "metadata": {},
   "outputs": [
    {
     "data": {
      "text/plain": [
       "tconst    0\n",
       "nconst    0\n",
       "dtype: int64"
      ]
     },
     "execution_count": 61,
     "metadata": {},
     "output_type": "execute_result"
    }
   ],
   "source": [
    "princ_df.isna().sum()"
   ]
  },
  {
   "cell_type": "markdown",
   "metadata": {},
   "source": [
    "There are no missing values"
   ]
  },
  {
   "cell_type": "code",
   "execution_count": 62,
   "metadata": {},
   "outputs": [
    {
     "data": {
      "text/plain": [
       "427"
      ]
     },
     "execution_count": 62,
     "metadata": {},
     "output_type": "execute_result"
    }
   ],
   "source": [
    "princ_df.duplicated().sum()"
   ]
  },
  {
   "cell_type": "code",
   "execution_count": 63,
   "metadata": {},
   "outputs": [],
   "source": [
    "princ_df.drop_duplicates(inplace=True)"
   ]
  },
  {
   "cell_type": "code",
   "execution_count": 64,
   "metadata": {},
   "outputs": [
    {
     "data": {
      "text/plain": [
       "0"
      ]
     },
     "execution_count": 64,
     "metadata": {},
     "output_type": "execute_result"
    }
   ],
   "source": [
    "princ_df.duplicated().sum()"
   ]
  },
  {
   "cell_type": "markdown",
   "metadata": {},
   "source": [
    "There are no duplicated rows"
   ]
  },
  {
   "cell_type": "code",
   "execution_count": 65,
   "metadata": {},
   "outputs": [
    {
     "data": {
      "text/html": [
       "<div>\n",
       "<style scoped>\n",
       "    .dataframe tbody tr th:only-of-type {\n",
       "        vertical-align: middle;\n",
       "    }\n",
       "\n",
       "    .dataframe tbody tr th {\n",
       "        vertical-align: top;\n",
       "    }\n",
       "\n",
       "    .dataframe thead th {\n",
       "        text-align: right;\n",
       "    }\n",
       "</style>\n",
       "<table border=\"1\" class=\"dataframe\">\n",
       "  <thead>\n",
       "    <tr style=\"text-align: right;\">\n",
       "      <th></th>\n",
       "      <th>tconst</th>\n",
       "      <th>nconst</th>\n",
       "    </tr>\n",
       "  </thead>\n",
       "  <tbody>\n",
       "    <tr>\n",
       "      <th>0</th>\n",
       "      <td>tt0000001</td>\n",
       "      <td>nm1588970</td>\n",
       "    </tr>\n",
       "    <tr>\n",
       "      <th>1</th>\n",
       "      <td>tt0000001</td>\n",
       "      <td>nm0005690</td>\n",
       "    </tr>\n",
       "    <tr>\n",
       "      <th>2</th>\n",
       "      <td>tt0000001</td>\n",
       "      <td>nm0374658</td>\n",
       "    </tr>\n",
       "    <tr>\n",
       "      <th>3</th>\n",
       "      <td>tt0000002</td>\n",
       "      <td>nm0721526</td>\n",
       "    </tr>\n",
       "    <tr>\n",
       "      <th>4</th>\n",
       "      <td>tt0000002</td>\n",
       "      <td>nm1335271</td>\n",
       "    </tr>\n",
       "    <tr>\n",
       "      <th>...</th>\n",
       "      <td>...</td>\n",
       "      <td>...</td>\n",
       "    </tr>\n",
       "    <tr>\n",
       "      <th>55145682</th>\n",
       "      <td>tt9916880</td>\n",
       "      <td>nm10535738</td>\n",
       "    </tr>\n",
       "    <tr>\n",
       "      <th>55145683</th>\n",
       "      <td>tt9916880</td>\n",
       "      <td>nm0996406</td>\n",
       "    </tr>\n",
       "    <tr>\n",
       "      <th>55145684</th>\n",
       "      <td>tt9916880</td>\n",
       "      <td>nm1482639</td>\n",
       "    </tr>\n",
       "    <tr>\n",
       "      <th>55145685</th>\n",
       "      <td>tt9916880</td>\n",
       "      <td>nm2586970</td>\n",
       "    </tr>\n",
       "    <tr>\n",
       "      <th>55145686</th>\n",
       "      <td>tt9916880</td>\n",
       "      <td>nm1594058</td>\n",
       "    </tr>\n",
       "  </tbody>\n",
       "</table>\n",
       "<p>55145260 rows × 2 columns</p>\n",
       "</div>"
      ],
      "text/plain": [
       "             tconst      nconst\n",
       "0         tt0000001   nm1588970\n",
       "1         tt0000001   nm0005690\n",
       "2         tt0000001   nm0374658\n",
       "3         tt0000002   nm0721526\n",
       "4         tt0000002   nm1335271\n",
       "...             ...         ...\n",
       "55145682  tt9916880  nm10535738\n",
       "55145683  tt9916880   nm0996406\n",
       "55145684  tt9916880   nm1482639\n",
       "55145685  tt9916880   nm2586970\n",
       "55145686  tt9916880   nm1594058\n",
       "\n",
       "[55145260 rows x 2 columns]"
      ]
     },
     "execution_count": 65,
     "metadata": {},
     "output_type": "execute_result"
    }
   ],
   "source": [
    "princ_df"
   ]
  },
  {
   "cell_type": "markdown",
   "metadata": {},
   "source": [
    "### princ_df looks good to go\n",
    "\n",
    "On to crew_df"
   ]
  },
  {
   "cell_type": "code",
   "execution_count": 66,
   "metadata": {},
   "outputs": [],
   "source": [
    "crew_df.drop(['writers'], axis=1, inplace=True)"
   ]
  },
  {
   "cell_type": "code",
   "execution_count": 67,
   "metadata": {},
   "outputs": [
    {
     "data": {
      "text/plain": [
       "tconst       0\n",
       "directors    0\n",
       "dtype: int64"
      ]
     },
     "execution_count": 67,
     "metadata": {},
     "output_type": "execute_result"
    }
   ],
   "source": [
    "crew_df.isna().sum()"
   ]
  },
  {
   "cell_type": "markdown",
   "metadata": {},
   "source": [
    "There are 0 missing values"
   ]
  },
  {
   "cell_type": "code",
   "execution_count": 68,
   "metadata": {},
   "outputs": [
    {
     "data": {
      "text/plain": [
       "0"
      ]
     },
     "execution_count": 68,
     "metadata": {},
     "output_type": "execute_result"
    }
   ],
   "source": [
    "crew_df.duplicated().sum()"
   ]
  },
  {
   "cell_type": "markdown",
   "metadata": {},
   "source": [
    "There are no duplicate rows"
   ]
  },
  {
   "cell_type": "markdown",
   "metadata": {},
   "source": [
    "### crew_df looks good to go\n",
    "\n",
    "\n",
    "On to akas_df"
   ]
  },
  {
   "cell_type": "markdown",
   "metadata": {},
   "source": [
    "I want to get rid of the columns ordering, title, language, types, attributes, isOriginalTitle"
   ]
  },
  {
   "cell_type": "code",
   "execution_count": 69,
   "metadata": {},
   "outputs": [],
   "source": [
    "akas_df.drop(['ordering', 'title', 'attributes', 'isOriginalTitle'], axis=1, inplace = True)"
   ]
  },
  {
   "cell_type": "code",
   "execution_count": 70,
   "metadata": {},
   "outputs": [
    {
     "data": {
      "text/plain": [
       "tconst        0\n",
       "region      111\n",
       "language      0\n",
       "types         0\n",
       "dtype: int64"
      ]
     },
     "execution_count": 70,
     "metadata": {},
     "output_type": "execute_result"
    }
   ],
   "source": [
    "akas_df.isna().sum()"
   ]
  },
  {
   "cell_type": "code",
   "execution_count": 71,
   "metadata": {},
   "outputs": [
    {
     "data": {
      "text/plain": [
       "tconst        0\n",
       "region      111\n",
       "language      0\n",
       "types         0\n",
       "dtype: int64"
      ]
     },
     "execution_count": 71,
     "metadata": {},
     "output_type": "execute_result"
    }
   ],
   "source": [
    "akas_df.isna().sum()"
   ]
  },
  {
   "cell_type": "markdown",
   "metadata": {},
   "source": [
    "There are no missing values"
   ]
  },
  {
   "cell_type": "markdown",
   "metadata": {},
   "source": [
    "Time to merge 3 of the dataframes on tconst"
   ]
  },
  {
   "cell_type": "code",
   "execution_count": 72,
   "metadata": {},
   "outputs": [],
   "source": [
    "akas_crew_df = akas_df.merge(crew_df, on='tconst')"
   ]
  },
  {
   "cell_type": "code",
   "execution_count": 73,
   "metadata": {},
   "outputs": [],
   "source": [
    "akas_crew_princ_df = akas_crew_df.merge(princ_df, on='tconst', how='inner')"
   ]
  },
  {
   "cell_type": "code",
   "execution_count": 74,
   "metadata": {},
   "outputs": [],
   "source": [
    "imdb_merged_df = akas_crew_princ_df.merge(basics, on='nconst')"
   ]
  },
  {
   "cell_type": "code",
   "execution_count": 75,
   "metadata": {},
   "outputs": [],
   "source": [
    "imdb_merged_df.drop('region', axis=1, inplace = True)"
   ]
  },
  {
   "cell_type": "code",
   "execution_count": 76,
   "metadata": {},
   "outputs": [],
   "source": [
    "imdb_merged_df.drop('nconst', axis=1, inplace=True)"
   ]
  },
  {
   "cell_type": "code",
   "execution_count": 77,
   "metadata": {},
   "outputs": [],
   "source": [
    "imdb_merged_df['tconst'] = imdb_merged_df['tconst'].apply(lambda x: int(x[2:].lstrip('0')))"
   ]
  },
  {
   "cell_type": "code",
   "execution_count": 78,
   "metadata": {},
   "outputs": [],
   "source": [
    "imdb_merged_df = imdb_merged_df.drop_duplicates(subset='tconst')"
   ]
  },
  {
   "cell_type": "code",
   "execution_count": 79,
   "metadata": {},
   "outputs": [],
   "source": [
    "# Rename the 'tconst' column to 'imdbId'\n",
    "imdb_merged_df = imdb_merged_df.rename(columns={'tconst': 'imdbId'})"
   ]
  },
  {
   "cell_type": "code",
   "execution_count": 80,
   "metadata": {},
   "outputs": [],
   "source": [
    "content_imdb_merged_df = pd.merge(content_df, imdb_merged_df, on='imdbId')"
   ]
  },
  {
   "cell_type": "code",
   "execution_count": 81,
   "metadata": {},
   "outputs": [],
   "source": [
    "# Drop the 'directors' column\n",
    "content_imdb_merged_df = content_imdb_merged_df.drop(columns=['directors'])"
   ]
  },
  {
   "cell_type": "code",
   "execution_count": 82,
   "metadata": {},
   "outputs": [],
   "source": [
    "# Rename the 'primaryName' column to 'director'\n",
    "content_imdb_merged_df = content_imdb_merged_df.rename(columns={'primaryName': 'director'})"
   ]
  },
  {
   "cell_type": "code",
   "execution_count": 83,
   "metadata": {},
   "outputs": [
    {
     "data": {
      "text/html": [
       "<div>\n",
       "<style scoped>\n",
       "    .dataframe tbody tr th:only-of-type {\n",
       "        vertical-align: middle;\n",
       "    }\n",
       "\n",
       "    .dataframe tbody tr th {\n",
       "        vertical-align: top;\n",
       "    }\n",
       "\n",
       "    .dataframe thead th {\n",
       "        text-align: right;\n",
       "    }\n",
       "</style>\n",
       "<table border=\"1\" class=\"dataframe\">\n",
       "  <thead>\n",
       "    <tr style=\"text-align: right;\">\n",
       "      <th></th>\n",
       "      <th>user_id</th>\n",
       "      <th>title</th>\n",
       "      <th>movieId</th>\n",
       "      <th>rating</th>\n",
       "      <th>genres</th>\n",
       "      <th>tag</th>\n",
       "      <th>genres_and_tags</th>\n",
       "      <th>imdbId</th>\n",
       "      <th>language</th>\n",
       "      <th>types</th>\n",
       "      <th>director</th>\n",
       "    </tr>\n",
       "  </thead>\n",
       "  <tbody>\n",
       "    <tr>\n",
       "      <th>0</th>\n",
       "      <td>1</td>\n",
       "      <td>Adventures of Robin Hood, The (1938)</td>\n",
       "      <td>940</td>\n",
       "      <td>5.0</td>\n",
       "      <td>Action|Adventure|Romance</td>\n",
       "      <td>swashbuckler</td>\n",
       "      <td>Action|Adventure|Romance swashbuckler</td>\n",
       "      <td>29843</td>\n",
       "      <td>\\N</td>\n",
       "      <td>imdbDisplay</td>\n",
       "      <td>Michael Curtiz</td>\n",
       "    </tr>\n",
       "    <tr>\n",
       "      <th>1</th>\n",
       "      <td>57</td>\n",
       "      <td>Adventures of Robin Hood, The (1938)</td>\n",
       "      <td>940</td>\n",
       "      <td>4.0</td>\n",
       "      <td>Action|Adventure|Romance</td>\n",
       "      <td>swashbuckler</td>\n",
       "      <td>Action|Adventure|Romance swashbuckler</td>\n",
       "      <td>29843</td>\n",
       "      <td>\\N</td>\n",
       "      <td>imdbDisplay</td>\n",
       "      <td>Michael Curtiz</td>\n",
       "    </tr>\n",
       "    <tr>\n",
       "      <th>2</th>\n",
       "      <td>128</td>\n",
       "      <td>Adventures of Robin Hood, The (1938)</td>\n",
       "      <td>940</td>\n",
       "      <td>5.0</td>\n",
       "      <td>Action|Adventure|Romance</td>\n",
       "      <td>swashbuckler</td>\n",
       "      <td>Action|Adventure|Romance swashbuckler</td>\n",
       "      <td>29843</td>\n",
       "      <td>\\N</td>\n",
       "      <td>imdbDisplay</td>\n",
       "      <td>Michael Curtiz</td>\n",
       "    </tr>\n",
       "    <tr>\n",
       "      <th>3</th>\n",
       "      <td>177</td>\n",
       "      <td>Adventures of Robin Hood, The (1938)</td>\n",
       "      <td>940</td>\n",
       "      <td>3.0</td>\n",
       "      <td>Action|Adventure|Romance</td>\n",
       "      <td>swashbuckler</td>\n",
       "      <td>Action|Adventure|Romance swashbuckler</td>\n",
       "      <td>29843</td>\n",
       "      <td>\\N</td>\n",
       "      <td>imdbDisplay</td>\n",
       "      <td>Michael Curtiz</td>\n",
       "    </tr>\n",
       "    <tr>\n",
       "      <th>4</th>\n",
       "      <td>387</td>\n",
       "      <td>Adventures of Robin Hood, The (1938)</td>\n",
       "      <td>940</td>\n",
       "      <td>2.5</td>\n",
       "      <td>Action|Adventure|Romance</td>\n",
       "      <td>swashbuckler</td>\n",
       "      <td>Action|Adventure|Romance swashbuckler</td>\n",
       "      <td>29843</td>\n",
       "      <td>\\N</td>\n",
       "      <td>imdbDisplay</td>\n",
       "      <td>Michael Curtiz</td>\n",
       "    </tr>\n",
       "    <tr>\n",
       "      <th>...</th>\n",
       "      <td>...</td>\n",
       "      <td>...</td>\n",
       "      <td>...</td>\n",
       "      <td>...</td>\n",
       "      <td>...</td>\n",
       "      <td>...</td>\n",
       "      <td>...</td>\n",
       "      <td>...</td>\n",
       "      <td>...</td>\n",
       "      <td>...</td>\n",
       "      <td>...</td>\n",
       "    </tr>\n",
       "    <tr>\n",
       "      <th>48237</th>\n",
       "      <td>599</td>\n",
       "      <td>Upstream Color (2013)</td>\n",
       "      <td>99917</td>\n",
       "      <td>3.0</td>\n",
       "      <td>Romance|Sci-Fi|Thriller</td>\n",
       "      <td>artistic</td>\n",
       "      <td>Romance|Sci-Fi|Thriller artistic</td>\n",
       "      <td>2084989</td>\n",
       "      <td>\\N</td>\n",
       "      <td>imdbDisplay</td>\n",
       "      <td>David Lowery</td>\n",
       "    </tr>\n",
       "    <tr>\n",
       "      <th>48238</th>\n",
       "      <td>610</td>\n",
       "      <td>Upstream Color (2013)</td>\n",
       "      <td>99917</td>\n",
       "      <td>3.0</td>\n",
       "      <td>Romance|Sci-Fi|Thriller</td>\n",
       "      <td>artistic</td>\n",
       "      <td>Romance|Sci-Fi|Thriller artistic</td>\n",
       "      <td>2084989</td>\n",
       "      <td>\\N</td>\n",
       "      <td>imdbDisplay</td>\n",
       "      <td>David Lowery</td>\n",
       "    </tr>\n",
       "    <tr>\n",
       "      <th>48239</th>\n",
       "      <td>594</td>\n",
       "      <td>Wedding Banquet, The (Xi yan) (1993)</td>\n",
       "      <td>7023</td>\n",
       "      <td>4.5</td>\n",
       "      <td>Comedy|Drama|Romance</td>\n",
       "      <td>In Netflix queue</td>\n",
       "      <td>Comedy|Drama|Romance In Netflix queue</td>\n",
       "      <td>107156</td>\n",
       "      <td>\\N</td>\n",
       "      <td>imdbDisplay</td>\n",
       "      <td>Ah-Lei Gua</td>\n",
       "    </tr>\n",
       "    <tr>\n",
       "      <th>48240</th>\n",
       "      <td>606</td>\n",
       "      <td>Anastasia (1956)</td>\n",
       "      <td>6516</td>\n",
       "      <td>3.5</td>\n",
       "      <td>Drama</td>\n",
       "      <td>In Netflix queue</td>\n",
       "      <td>Drama In Netflix queue</td>\n",
       "      <td>48947</td>\n",
       "      <td>\\N</td>\n",
       "      <td>imdbDisplay</td>\n",
       "      <td>Helen Hayes</td>\n",
       "    </tr>\n",
       "    <tr>\n",
       "      <th>48241</th>\n",
       "      <td>606</td>\n",
       "      <td>Night of the Shooting Stars (Notte di San Lore...</td>\n",
       "      <td>6107</td>\n",
       "      <td>4.0</td>\n",
       "      <td>Drama|War</td>\n",
       "      <td>World War II</td>\n",
       "      <td>Drama|War World War II</td>\n",
       "      <td>84422</td>\n",
       "      <td>\\N</td>\n",
       "      <td>imdbDisplay</td>\n",
       "      <td>Giuliani G. De Negri</td>\n",
       "    </tr>\n",
       "  </tbody>\n",
       "</table>\n",
       "<p>48242 rows × 11 columns</p>\n",
       "</div>"
      ],
      "text/plain": [
       "       user_id                                              title  movieId  \\\n",
       "0            1               Adventures of Robin Hood, The (1938)      940   \n",
       "1           57               Adventures of Robin Hood, The (1938)      940   \n",
       "2          128               Adventures of Robin Hood, The (1938)      940   \n",
       "3          177               Adventures of Robin Hood, The (1938)      940   \n",
       "4          387               Adventures of Robin Hood, The (1938)      940   \n",
       "...        ...                                                ...      ...   \n",
       "48237      599                              Upstream Color (2013)    99917   \n",
       "48238      610                              Upstream Color (2013)    99917   \n",
       "48239      594               Wedding Banquet, The (Xi yan) (1993)     7023   \n",
       "48240      606                                   Anastasia (1956)     6516   \n",
       "48241      606  Night of the Shooting Stars (Notte di San Lore...     6107   \n",
       "\n",
       "       rating                    genres               tag  \\\n",
       "0         5.0  Action|Adventure|Romance      swashbuckler   \n",
       "1         4.0  Action|Adventure|Romance      swashbuckler   \n",
       "2         5.0  Action|Adventure|Romance      swashbuckler   \n",
       "3         3.0  Action|Adventure|Romance      swashbuckler   \n",
       "4         2.5  Action|Adventure|Romance      swashbuckler   \n",
       "...       ...                       ...               ...   \n",
       "48237     3.0   Romance|Sci-Fi|Thriller          artistic   \n",
       "48238     3.0   Romance|Sci-Fi|Thriller          artistic   \n",
       "48239     4.5      Comedy|Drama|Romance  In Netflix queue   \n",
       "48240     3.5                     Drama  In Netflix queue   \n",
       "48241     4.0                 Drama|War      World War II   \n",
       "\n",
       "                             genres_and_tags   imdbId language        types  \\\n",
       "0      Action|Adventure|Romance swashbuckler    29843       \\N  imdbDisplay   \n",
       "1      Action|Adventure|Romance swashbuckler    29843       \\N  imdbDisplay   \n",
       "2      Action|Adventure|Romance swashbuckler    29843       \\N  imdbDisplay   \n",
       "3      Action|Adventure|Romance swashbuckler    29843       \\N  imdbDisplay   \n",
       "4      Action|Adventure|Romance swashbuckler    29843       \\N  imdbDisplay   \n",
       "...                                      ...      ...      ...          ...   \n",
       "48237       Romance|Sci-Fi|Thriller artistic  2084989       \\N  imdbDisplay   \n",
       "48238       Romance|Sci-Fi|Thriller artistic  2084989       \\N  imdbDisplay   \n",
       "48239  Comedy|Drama|Romance In Netflix queue   107156       \\N  imdbDisplay   \n",
       "48240                 Drama In Netflix queue    48947       \\N  imdbDisplay   \n",
       "48241                 Drama|War World War II    84422       \\N  imdbDisplay   \n",
       "\n",
       "                   director  \n",
       "0            Michael Curtiz  \n",
       "1            Michael Curtiz  \n",
       "2            Michael Curtiz  \n",
       "3            Michael Curtiz  \n",
       "4            Michael Curtiz  \n",
       "...                     ...  \n",
       "48237          David Lowery  \n",
       "48238          David Lowery  \n",
       "48239            Ah-Lei Gua  \n",
       "48240           Helen Hayes  \n",
       "48241  Giuliani G. De Negri  \n",
       "\n",
       "[48242 rows x 11 columns]"
      ]
     },
     "execution_count": 83,
     "metadata": {},
     "output_type": "execute_result"
    }
   ],
   "source": [
    "content_imdb_merged_df"
   ]
  },
  {
   "cell_type": "code",
   "execution_count": 84,
   "metadata": {},
   "outputs": [],
   "source": [
    "content_imdb_merged_df = content_imdb_merged_df.drop(columns=['imdbId'])"
   ]
  },
  {
   "cell_type": "markdown",
   "metadata": {},
   "source": [
    "I will now start to expand on my collabrative model to improve the accuracy."
   ]
  },
  {
   "cell_type": "markdown",
   "metadata": {},
   "source": [
    "# Collabrative Model Expanded"
   ]
  },
  {
   "cell_type": "code",
   "execution_count": 85,
   "metadata": {},
   "outputs": [
    {
     "name": "stdout",
     "output_type": "stream",
     "text": [
      "Top 5 recommended movies: ['Elf (2003)', 'Reservoir Dogs (1992)', 'Eyes Wide Shut (1999)', 'Donnie Darko (2001)', \"Harry Potter and the Sorcerer's Stone (a.k.a. Harry Potter and the Philosopher's Stone) (2001)\"]\n",
      "RMSE: 1.1983601518382785\n",
      "MAE: 0.40154738878143137\n"
     ]
    }
   ],
   "source": [
    "# pivot the dataframe to have users as rows and movies as columns\n",
    "pivot_df = content_imdb_merged_df.pivot(index='user_id', columns='movieId', values='rating').fillna(0)\n",
    "\n",
    "# compute the cosine similarity matrix between all users\n",
    "user_similarities = cosine_similarity(pivot_df)\n",
    "\n",
    "# define the user_id for which we want to provide recommendations\n",
    "user_id = 1\n",
    "\n",
    "# get the similarity scores for the target user compared to all other users\n",
    "user_sim_scores = user_similarities[user_id]\n",
    "\n",
    "# find the indices of the top 5 most similar users\n",
    "top_users = np.argsort(-user_sim_scores)[1:6]\n",
    "\n",
    "# get the movies that the top 5 similar users rated the highest\n",
    "top_movies = pivot_df.iloc[top_users].max().sort_values(ascending=False)[:5]\n",
    "\n",
    "# map the movie ids to movie titles\n",
    "top_movie_titles = [movies_df.loc[movies_df['movieId'] == movie_id, 'title'].iloc[0] for movie_id in top_movies.index]\n",
    "\n",
    "# print the top 5 recommended movie titles\n",
    "print('Top 5 recommended movies:', top_movie_titles)\n",
    "\n",
    "# compute the RMSE and MAE for the target user compared to all other users\n",
    "user_ratings = pivot_df.loc[user_id]\n",
    "predicted_ratings = pivot_df.iloc[top_users].mean()\n",
    "rmse = mean_squared_error(user_ratings, predicted_ratings, squared=False)\n",
    "mae = mean_absolute_error(user_ratings, predicted_ratings)\n",
    "\n",
    "# print the RMSE and MAE\n",
    "print('RMSE:', rmse)\n",
    "print('MAE:', mae)"
   ]
  },
  {
   "cell_type": "markdown",
   "metadata": {},
   "source": [
    "The code first creates a pivot table with users as rows and movies as columns, computes the cosine similarity matrix between all users, and then uses this matrix to find the top 5 most similar users for a given user. It then recommends the top 5 movies that these similar users rated the highest, and computes the RMSE and MAE."
   ]
  },
  {
   "cell_type": "markdown",
   "metadata": {},
   "source": [
    "# Potential Future Analysis"
   ]
  },
  {
   "cell_type": "markdown",
   "metadata": {},
   "source": [
    "To help make the collabrative model more precise, future projects should include adding more data to our dataframe.  Actors/actresses, writers, different languages.  These are just a few examples of data that could improve upon this collabrative model."
   ]
  },
  {
   "cell_type": "markdown",
   "metadata": {},
   "source": [
    "# Conclusion"
   ]
  },
  {
   "cell_type": "markdown",
   "metadata": {},
   "source": [
    "After testing collaborative, content-based, and hybrid recommendation models to determine the most suitable approach for my movie recommendation system, I concluded that the collaborative filtering model performed the best based on the results. Therefore, I chose to utilize collaborative filtering to recommend 5 movies to each user.\n",
    "\n",
    "Initially, the collaborative model had an RMSE of 1.917 and an MAE of 1.404. However, after training the model with more data, these values significantly decreased to an RMSE of 1.19 and an MAE of 0.40. The added data greatly improved the model's performance.\n",
    "\n",
    "As part of my investigation into improving our recommendation system, I also explored ways to expand our movie library to make it more complete. I identified four genres -- Documentaries, Film-Noir, Western, and War -- that had relatively low numbers of ratings. However, the average rating for each genre was high. This suggests that if we add more movies to these genres, they could become very popular among our users.\n",
    "\n",
    "Our collaborative model has proven to be effective in recommending movies to our users, with an RMSE of 1.19 and an MAE of 0.40. Additionally, by addressing the least-rated genres such as Documentaries, Film-Noir, Western, and War, and adding more movies to our library, we can not only improve user satisfaction but also enhance the accuracy of our recommendations.\""
   ]
  }
 ],
 "metadata": {
  "kernelspec": {
   "display_name": "Python (learn-env)",
   "language": "python",
   "name": "learn-env"
  },
  "language_info": {
   "codemirror_mode": {
    "name": "ipython",
    "version": 3
   },
   "file_extension": ".py",
   "mimetype": "text/x-python",
   "name": "python",
   "nbconvert_exporter": "python",
   "pygments_lexer": "ipython3",
   "version": "3.8.5"
  }
 },
 "nbformat": 4,
 "nbformat_minor": 4
}
