{
 "cells": [
  {
   "cell_type": "markdown",
   "metadata": {},
   "source": [
    "# Business Understanding\n",
    "\n",
    "\n",
    "\n",
    "As a data scientist at FlixGenius, I am working on enhancing our recommendation engine to provide more personalized movie recommendations to our users. Our goal is to increase user engagement and revenue by delivering movie recommendations that match their personal preferences based on their past viewing history and ratings, as well as the ratings and viewing history of other users with similar preferences.\n",
    "\n",
    "To accomplish this task, I am using the MovieLens dataset from the GroupLens research lab at the University of Minnesota. This dataset includes user ratings of movies and information about the movies themselves. By building a recommendation model using this data, we can provide personalized recommendations to users.\n",
    "\n",
    "In addition to building the recommendation engine, it would also be helpful for the company to identify which genres and tags are most popular among our users. This information can help us acquire and recommend similar movies, allowing us to expand our library in a way that is likely to be well-received by our users, ultimately leading to increased engagement and revenue."
   ]
  },
  {
   "cell_type": "code",
   "execution_count": 1,
   "metadata": {},
   "outputs": [],
   "source": [
    "import urllib.request\n",
    "import pandas as pd\n",
    "from sklearn.metrics.pairwise import cosine_similarity\n",
    "import matplotlib.pyplot as plt\n",
    "import numpy as np\n",
    "from sklearn.model_selection import train_test_split\n",
    "from sklearn.neighbors import NearestNeighbors\n",
    "from sklearn.metrics import mean_absolute_error, mean_squared_error\n",
    "from sklearn.feature_extraction.text import TfidfVectorizer\n",
    "import random\n",
    "from scipy import sparse\n",
    "import math\n",
    "from sklearn.metrics import precision_score\n",
    "from sklearn.model_selection import KFold\n",
    "from sklearn.metrics import accuracy_score, precision_score, recall_score, f1_score\n",
    "from scipy.sparse import csr_matrix\n",
    "from sklearn.preprocessing import LabelEncoder"
   ]
  },
  {
   "cell_type": "code",
   "execution_count": 2,
   "metadata": {},
   "outputs": [],
   "source": [
    "movies_df = pd.read_csv('https://gist.githubusercontent.com/MichalOst3389/e3913bbb6921ea9475660d58d280d55c/raw/3b8861ea300bbdd6b689bf853dfce94524b39301/movies.csv')\n",
    "links_df = pd.read_csv('https://gist.githubusercontent.com/MichalOst3389/cfc2c59e9f323d11b7afb8f3224229f3/raw/ce13331097cbff6abcd941e8388db941220876fb/links.csv')\n",
    "ratings_df = pd.read_csv('https://gist.githubusercontent.com/MichalOst3389/d8ed774a84197205b2d7e53ce8345aae/raw/064966f6d7c5f45f3aa404ca45d5ee9b9fed0ece/ratings.csv')\n",
    "tags_df = pd.read_csv('https://gist.githubusercontent.com/MichalOst3389/9ff4a3740c440a3391d891af2ccac50a/raw/05572aac39b0fd8d278228158ad5a4cb20ecaa9c/tags.csv')"
   ]
  },
  {
   "cell_type": "markdown",
   "metadata": {},
   "source": [
    "# Data understanding"
   ]
  },
  {
   "cell_type": "markdown",
   "metadata": {},
   "source": [
    "The first step is to combine them into a single dataset. I've merge the datasets using a common identifier which is movieId"
   ]
  },
  {
   "cell_type": "code",
   "execution_count": 3,
   "metadata": {},
   "outputs": [],
   "source": [
    "# Merge datasets using movieId as the key\n",
    "merged_df_1 = pd.merge(ratings_df, movies_df, on='movieId', how='inner')\n",
    "merged_df = pd.merge(merged_df_1, tags_df, on='movieId', how='inner')"
   ]
  },
  {
   "cell_type": "code",
   "execution_count": 4,
   "metadata": {},
   "outputs": [
    {
     "data": {
      "text/html": [
       "<div>\n",
       "<style scoped>\n",
       "    .dataframe tbody tr th:only-of-type {\n",
       "        vertical-align: middle;\n",
       "    }\n",
       "\n",
       "    .dataframe tbody tr th {\n",
       "        vertical-align: top;\n",
       "    }\n",
       "\n",
       "    .dataframe thead th {\n",
       "        text-align: right;\n",
       "    }\n",
       "</style>\n",
       "<table border=\"1\" class=\"dataframe\">\n",
       "  <thead>\n",
       "    <tr style=\"text-align: right;\">\n",
       "      <th></th>\n",
       "      <th>userId_x</th>\n",
       "      <th>movieId</th>\n",
       "      <th>rating</th>\n",
       "      <th>timestamp_x</th>\n",
       "      <th>title</th>\n",
       "      <th>genres</th>\n",
       "      <th>userId_y</th>\n",
       "      <th>tag</th>\n",
       "      <th>timestamp_y</th>\n",
       "    </tr>\n",
       "  </thead>\n",
       "  <tbody>\n",
       "    <tr>\n",
       "      <th>0</th>\n",
       "      <td>False</td>\n",
       "      <td>False</td>\n",
       "      <td>False</td>\n",
       "      <td>False</td>\n",
       "      <td>False</td>\n",
       "      <td>False</td>\n",
       "      <td>False</td>\n",
       "      <td>False</td>\n",
       "      <td>False</td>\n",
       "    </tr>\n",
       "    <tr>\n",
       "      <th>1</th>\n",
       "      <td>False</td>\n",
       "      <td>False</td>\n",
       "      <td>False</td>\n",
       "      <td>False</td>\n",
       "      <td>False</td>\n",
       "      <td>False</td>\n",
       "      <td>False</td>\n",
       "      <td>False</td>\n",
       "      <td>False</td>\n",
       "    </tr>\n",
       "    <tr>\n",
       "      <th>2</th>\n",
       "      <td>False</td>\n",
       "      <td>False</td>\n",
       "      <td>False</td>\n",
       "      <td>False</td>\n",
       "      <td>False</td>\n",
       "      <td>False</td>\n",
       "      <td>False</td>\n",
       "      <td>False</td>\n",
       "      <td>False</td>\n",
       "    </tr>\n",
       "    <tr>\n",
       "      <th>3</th>\n",
       "      <td>False</td>\n",
       "      <td>False</td>\n",
       "      <td>False</td>\n",
       "      <td>False</td>\n",
       "      <td>False</td>\n",
       "      <td>False</td>\n",
       "      <td>False</td>\n",
       "      <td>False</td>\n",
       "      <td>False</td>\n",
       "    </tr>\n",
       "    <tr>\n",
       "      <th>4</th>\n",
       "      <td>False</td>\n",
       "      <td>False</td>\n",
       "      <td>False</td>\n",
       "      <td>False</td>\n",
       "      <td>False</td>\n",
       "      <td>False</td>\n",
       "      <td>False</td>\n",
       "      <td>False</td>\n",
       "      <td>False</td>\n",
       "    </tr>\n",
       "    <tr>\n",
       "      <th>...</th>\n",
       "      <td>...</td>\n",
       "      <td>...</td>\n",
       "      <td>...</td>\n",
       "      <td>...</td>\n",
       "      <td>...</td>\n",
       "      <td>...</td>\n",
       "      <td>...</td>\n",
       "      <td>...</td>\n",
       "      <td>...</td>\n",
       "    </tr>\n",
       "    <tr>\n",
       "      <th>233208</th>\n",
       "      <td>False</td>\n",
       "      <td>False</td>\n",
       "      <td>False</td>\n",
       "      <td>False</td>\n",
       "      <td>False</td>\n",
       "      <td>False</td>\n",
       "      <td>False</td>\n",
       "      <td>False</td>\n",
       "      <td>False</td>\n",
       "    </tr>\n",
       "    <tr>\n",
       "      <th>233209</th>\n",
       "      <td>False</td>\n",
       "      <td>False</td>\n",
       "      <td>False</td>\n",
       "      <td>False</td>\n",
       "      <td>False</td>\n",
       "      <td>False</td>\n",
       "      <td>False</td>\n",
       "      <td>False</td>\n",
       "      <td>False</td>\n",
       "    </tr>\n",
       "    <tr>\n",
       "      <th>233210</th>\n",
       "      <td>False</td>\n",
       "      <td>False</td>\n",
       "      <td>False</td>\n",
       "      <td>False</td>\n",
       "      <td>False</td>\n",
       "      <td>False</td>\n",
       "      <td>False</td>\n",
       "      <td>False</td>\n",
       "      <td>False</td>\n",
       "    </tr>\n",
       "    <tr>\n",
       "      <th>233211</th>\n",
       "      <td>False</td>\n",
       "      <td>False</td>\n",
       "      <td>False</td>\n",
       "      <td>False</td>\n",
       "      <td>False</td>\n",
       "      <td>False</td>\n",
       "      <td>False</td>\n",
       "      <td>False</td>\n",
       "      <td>False</td>\n",
       "    </tr>\n",
       "    <tr>\n",
       "      <th>233212</th>\n",
       "      <td>False</td>\n",
       "      <td>False</td>\n",
       "      <td>False</td>\n",
       "      <td>False</td>\n",
       "      <td>False</td>\n",
       "      <td>False</td>\n",
       "      <td>False</td>\n",
       "      <td>False</td>\n",
       "      <td>False</td>\n",
       "    </tr>\n",
       "  </tbody>\n",
       "</table>\n",
       "<p>233213 rows × 9 columns</p>\n",
       "</div>"
      ],
      "text/plain": [
       "        userId_x  movieId  rating  timestamp_x  title  genres  userId_y  \\\n",
       "0          False    False   False        False  False   False     False   \n",
       "1          False    False   False        False  False   False     False   \n",
       "2          False    False   False        False  False   False     False   \n",
       "3          False    False   False        False  False   False     False   \n",
       "4          False    False   False        False  False   False     False   \n",
       "...          ...      ...     ...          ...    ...     ...       ...   \n",
       "233208     False    False   False        False  False   False     False   \n",
       "233209     False    False   False        False  False   False     False   \n",
       "233210     False    False   False        False  False   False     False   \n",
       "233211     False    False   False        False  False   False     False   \n",
       "233212     False    False   False        False  False   False     False   \n",
       "\n",
       "          tag  timestamp_y  \n",
       "0       False        False  \n",
       "1       False        False  \n",
       "2       False        False  \n",
       "3       False        False  \n",
       "4       False        False  \n",
       "...       ...          ...  \n",
       "233208  False        False  \n",
       "233209  False        False  \n",
       "233210  False        False  \n",
       "233211  False        False  \n",
       "233212  False        False  \n",
       "\n",
       "[233213 rows x 9 columns]"
      ]
     },
     "execution_count": 4,
     "metadata": {},
     "output_type": "execute_result"
    }
   ],
   "source": [
    "merged_df.isnull()"
   ]
  },
  {
   "cell_type": "code",
   "execution_count": 5,
   "metadata": {},
   "outputs": [
    {
     "name": "stdout",
     "output_type": "stream",
     "text": [
      "userId_x       0\n",
      "movieId        0\n",
      "rating         0\n",
      "timestamp_x    0\n",
      "title          0\n",
      "genres         0\n",
      "userId_y       0\n",
      "tag            0\n",
      "timestamp_y    0\n",
      "dtype: int64\n"
     ]
    }
   ],
   "source": [
    "print(merged_df.isnull().sum())"
   ]
  },
  {
   "cell_type": "markdown",
   "metadata": {},
   "source": [
    "### There are no null values"
   ]
  },
  {
   "cell_type": "code",
   "execution_count": 6,
   "metadata": {},
   "outputs": [
    {
     "data": {
      "text/plain": [
       "0         False\n",
       "1         False\n",
       "2         False\n",
       "3         False\n",
       "4         False\n",
       "          ...  \n",
       "233208    False\n",
       "233209    False\n",
       "233210    False\n",
       "233211    False\n",
       "233212    False\n",
       "Length: 233213, dtype: bool"
      ]
     },
     "execution_count": 6,
     "metadata": {},
     "output_type": "execute_result"
    }
   ],
   "source": [
    "merged_df.duplicated()"
   ]
  },
  {
   "cell_type": "code",
   "execution_count": 7,
   "metadata": {},
   "outputs": [
    {
     "name": "stdout",
     "output_type": "stream",
     "text": [
      "0\n"
     ]
    }
   ],
   "source": [
    "print(merged_df.duplicated().sum())"
   ]
  },
  {
   "cell_type": "markdown",
   "metadata": {},
   "source": [
    "### There are no duplicated rows."
   ]
  },
  {
   "cell_type": "code",
   "execution_count": 8,
   "metadata": {},
   "outputs": [
    {
     "name": "stdout",
     "output_type": "stream",
     "text": [
      "<class 'pandas.core.frame.DataFrame'>\n",
      "Int64Index: 233213 entries, 0 to 233212\n",
      "Data columns (total 9 columns):\n",
      " #   Column       Non-Null Count   Dtype  \n",
      "---  ------       --------------   -----  \n",
      " 0   userId_x     233213 non-null  int64  \n",
      " 1   movieId      233213 non-null  int64  \n",
      " 2   rating       233213 non-null  float64\n",
      " 3   timestamp_x  233213 non-null  int64  \n",
      " 4   title        233213 non-null  object \n",
      " 5   genres       233213 non-null  object \n",
      " 6   userId_y     233213 non-null  int64  \n",
      " 7   tag          233213 non-null  object \n",
      " 8   timestamp_y  233213 non-null  int64  \n",
      "dtypes: float64(1), int64(5), object(3)\n",
      "memory usage: 17.8+ MB\n"
     ]
    }
   ],
   "source": [
    "merged_df.info()"
   ]
  },
  {
   "cell_type": "markdown",
   "metadata": {},
   "source": [
    "We can see there are no duplicates above, however when we merged dataframes some columns were merged into the new dataframe that  represent the same things.  example - user_Id_x, and user_Id_y."
   ]
  },
  {
   "cell_type": "markdown",
   "metadata": {},
   "source": [
    "# Data Preperation"
   ]
  },
  {
   "cell_type": "code",
   "execution_count": 9,
   "metadata": {},
   "outputs": [],
   "source": [
    "merged_df = merged_df.drop('userId_y', axis=1)\n",
    "merged_df = merged_df.drop('timestamp_y', axis=1)"
   ]
  },
  {
   "cell_type": "code",
   "execution_count": 10,
   "metadata": {},
   "outputs": [],
   "source": [
    "# drop duplicates from merged_df\n",
    "merged_df.drop_duplicates(subset=['userId_x', 'movieId'], inplace=True)\n",
    "\n",
    "# pivot the dataframe to have users as rows and movies as columns\n",
    "pivot_df = merged_df.pivot(index='userId_x', columns='movieId', values='rating').fillna(0)\n",
    "\n",
    "# compute the cosine similarity matrix between all users\n",
    "user_similarities = cosine_similarity(pivot_df)"
   ]
  },
  {
   "cell_type": "markdown",
   "metadata": {},
   "source": [
    "I used the \"drop_duplicates\" method to remove any rows that have the same combination of 'userId_x' and 'movieId'. This ensures that we only have one rating per user-movie pair in our dataset.\n",
    "\n",
    "Next, I pivot the DataFrame so that each user is a row and each movie is a column to make the data easier to work with during collaborative filtering.  \n",
    "\n",
    "Finally, I'm computing  the cosine similarity matrix between all users. This matrix measures the similarity between each pair of users based on their ratings. The values in the matrix range from -1 to 1, with 1 indicating that two users have identical ratings for all movies, 0 indicating that they have no similarity, and -1 indicating that they have completely opposite ratings for all movies.\n",
    "\n",
    "By computing this similarity matrix, we can identify users who have similar tastes in movies, which can be used to make personalized recommendations. For example, if a user has not seen a particular movie but has similar tastes to another user who gave that movie a high rating, we might recommend that movie to the first user."
   ]
  },
  {
   "cell_type": "code",
   "execution_count": 11,
   "metadata": {},
   "outputs": [],
   "source": [
    "#changing column name to user_id from userId_x\n",
    "merged_df = merged_df.rename(columns={'userId_x': 'user_id'})\n",
    "#  renames the timestamp_x column to time_stamp\n",
    "merged_df = merged_df.rename(columns={'timestamp_x': 'time_stamp'})\n",
    "# This code filters the merged_df DataFrame to only include rows where the genres column is not equal to '(no genres listed)'\n",
    "merged_df = merged_df[merged_df['genres'] != '(no genres listed)']"
   ]
  },
  {
   "cell_type": "code",
   "execution_count": 12,
   "metadata": {},
   "outputs": [],
   "source": [
    "# splits the values in the genres column of the merged_df DataFrame by the |\n",
    "genre_ratings_count = merged_df['genres'].str.split('|', expand=True).stack().reset_index(level=1, drop=True).to_frame('genre')\n",
    "# This code merges the rating column from the merged_df DataFrame into the genre_ratings_count DataFrame based on their indices. The left_index and right_index parameters are both set to True to use the current indices of both DataFrames for the merge.\n",
    "genre_ratings_count = genre_ratings_count.merge(merged_df[['rating']], left_index=True, right_index=True)\n",
    "# This code groups the genre_ratings_count DataFrame by the genre column and calculates the mean and count of the rating column for each group using the .agg() method. The resulting genre_ratings_count DataFrame will have a row for each unique genre in the original genres column, with columns for the mean and count of ratings for each genre.\n",
    "genre_ratings_count = genre_ratings_count.groupby('genre')['rating'].count().sort_values(ascending=False)"
   ]
  },
  {
   "cell_type": "code",
   "execution_count": 13,
   "metadata": {},
   "outputs": [
    {
     "data": {
      "text/plain": [
       "genre\n",
       "Drama          22534\n",
       "Comedy         16774\n",
       "Action         13208\n",
       "Thriller       12509\n",
       "Adventure      12023\n",
       "Romance         9812\n",
       "Crime           9071\n",
       "Sci-Fi          8749\n",
       "Fantasy         5807\n",
       "Mystery         4631\n",
       "Children        4589\n",
       "Animation       3588\n",
       "War             2794\n",
       "Horror          2526\n",
       "Musical         2320\n",
       "IMAX            1873\n",
       "Western          758\n",
       "Film-Noir        589\n",
       "Documentary      442\n",
       "Name: rating, dtype: int64"
      ]
     },
     "execution_count": 13,
     "metadata": {},
     "output_type": "execute_result"
    }
   ],
   "source": [
    "genre_ratings_count"
   ]
  },
  {
   "cell_type": "markdown",
   "metadata": {},
   "source": [
    "There is a very large difference in rating counts between the the more frequent genres of movies and the less frequent.\n",
    "Is the reason because people just prefer those genres? Or are there just less of them?"
   ]
  },
  {
   "cell_type": "code",
   "execution_count": 14,
   "metadata": {},
   "outputs": [
    {
     "data": {
      "image/png": "[encoded data removed]",
      "text/plain": [
       "<Figure size 864x576 with 1 Axes>"
      ]
     },
     "metadata": {
      "needs_background": "light"
     },
     "output_type": "display_data"
    }
   ],
   "source": [
    "# Split the genres column into separate rows and count the number of occurrences of each genre\n",
    "genre_ratings_count = merged_df['genres'].str.split('|', expand=True).stack().reset_index(level=1, drop=True).to_frame('genre').reset_index(drop=True)\n",
    "genre_ratings_count = genre_ratings_count.merge(merged_df[['rating']], left_index=True, right_index=True)\n",
    "\n",
    "# Group the genre_ratings_count DataFrame by genre and calculate the mean and count of ratings for each genre\n",
    "genre_ratings_count = genre_ratings_count.groupby('genre')['rating'].agg(['mean', 'count']).reset_index()\n",
    "\n",
    "# Sort the genre_ratings_count DataFrame by the count of ratings in ascending order\n",
    "genre_ratings_count = genre_ratings_count.sort_values('count', ascending=False)\n",
    "\n",
    "# Create a vertical bar graph using the plot() method of the genre_ratings_count DataFrame\n",
    "genre_ratings_count.plot(kind='bar', x='genre', y='count', color='blue', figsize=(12,8))\n",
    "\n",
    "# Set the label for the horizontal axis\n",
    "plt.xlabel('Genre')\n",
    "\n",
    "# Set the label for the vertical axis\n",
    "plt.ylabel('Rating Count')\n",
    "\n",
    "# Set the title of the graph\n",
    "plt.title('Rating Count for Genres')\n",
    "\n",
    "# Remove the legend\n",
    "plt.legend().remove()\n",
    "\n",
    "# Display the graph\n",
    "plt.show()"
   ]
  },
  {
   "cell_type": "markdown",
   "metadata": {},
   "source": [
    "Here we compare that amount of ratings for each genre. Drama being the most rated, and Western being the least rated.  Next I will check to see if the difference is due to the amount of movies on our streaming service with each genre."
   ]
  },
  {
   "cell_type": "code",
   "execution_count": 15,
   "metadata": {},
   "outputs": [
    {
     "data": {
      "image/png": "[encoded data removed]",
      "text/plain": [
       "<Figure size 864x576 with 1 Axes>"
      ]
     },
     "metadata": {
      "needs_background": "light"
     },
     "output_type": "display_data"
    }
   ],
   "source": [
    "# Split genres column by \"|\" and create new rows for each genre\n",
    "genres_df = merged_df.assign(genres=merged_df.genres.str.split('|')).explode('genres')\n",
    "\n",
    "# Group by genre and calculate count of movies\n",
    "genre_counts = genres_df.groupby('genres')['movieId'].count()\n",
    "\n",
    "# Sort genre_counts in descending order\n",
    "genre_counts = genre_counts.sort_values(ascending=False)\n",
    "\n",
    "# Create bar graph of genre_counts\n",
    "genre_counts.plot(kind=\"bar\", figsize=(12,8))\n",
    "plt.title(\"Number of Movies per Genre\")\n",
    "plt.xlabel(\"Genre\")\n",
    "plt.ylabel(\"Number of Movies\")\n",
    "plt.show()"
   ]
  },
  {
   "cell_type": "markdown",
   "metadata": {},
   "source": [
    "The above bar graph shows that there is a very large distribution of movies in each genre."
   ]
  },
  {
   "cell_type": "code",
   "execution_count": 16,
   "metadata": {},
   "outputs": [],
   "source": [
    "# Split genres column by \"|\" and create new rows for each genre\n",
    "genres_df = merged_df.assign(genres=merged_df.genres.str.split('|')).explode('genres')"
   ]
  },
  {
   "cell_type": "code",
   "execution_count": 17,
   "metadata": {},
   "outputs": [],
   "source": [
    "# Group by genre and calculate mean rating, sorting in descending order\n",
    "genre_ratings = genres_df.groupby(\"genres\")[\"rating\"].mean().sort_values(ascending=False)"
   ]
  },
  {
   "cell_type": "code",
   "execution_count": 18,
   "metadata": {},
   "outputs": [
    {
     "data": {
      "image/png": "[encoded data removed]",
      "text/plain": [
       "<Figure size 864x576 with 1 Axes>"
      ]
     },
     "metadata": {
      "needs_background": "light"
     },
     "output_type": "display_data"
    }
   ],
   "source": [
    "# Create bar graph of genre_ratings\n",
    "genre_ratings.plot(kind=\"bar\", figsize=(12,8))\n",
    "plt.title(\"Average Rating by Genre\")\n",
    "plt.xlabel(\"Genre\")\n",
    "plt.ylabel(\"Average Rating\")\n",
    "plt.show()"
   ]
  },
  {
   "cell_type": "markdown",
   "metadata": {},
   "source": [
    "The average rating per genre is pretty even among all genres.  Which raises the question \"why are the number of movies per genre so different?\"  This leads me to believe that we need to add more movies of the less common genres."
   ]
  },
  {
   "cell_type": "code",
   "execution_count": 19,
   "metadata": {},
   "outputs": [
    {
     "data": {
      "image/png": "[encoded data removed]",
      "text/plain": [
       "<Figure size 864x576 with 1 Axes>"
      ]
     },
     "metadata": {
      "needs_background": "light"
     },
     "output_type": "display_data"
    }
   ],
   "source": [
    "# Split genres column by \"|\" and create new rows for each genre\n",
    "genres_df = merged_df.assign(genres=merged_df.genres.str.split('|')).explode('genres')\n",
    "\n",
    "# Create box plot of ratings for each genre\n",
    "genres_df.boxplot(column=['rating'], by='genres', figsize=(12,8))\n",
    "plt.title(\"Distribution of Ratings by Genre\")\n",
    "plt.suptitle(\"\")\n",
    "plt.xlabel(\"Genre\")\n",
    "plt.ylabel(\"Rating\")\n",
    "plt.xticks(rotation=45)\n",
    "plt.show()"
   ]
  },
  {
   "cell_type": "markdown",
   "metadata": {},
   "source": [
    "This code uses the boxplot() function to create box plots of the \"rating\" column grouped by the \"genres\" column. The resulting plots will show the distribution of ratings for each genre, allowing me to identify potential reasons for lower ratings in certain genres.\n",
    "\n",
    "\n",
    "Many of the different genres ratings are very similar when viewed in a box and whisker plot. In my opinion this confirms that we need to add more movies of the lesser common genres. "
   ]
  },
  {
   "cell_type": "markdown",
   "metadata": {},
   "source": [
    "# Collaborative filtering\n",
    "The goal of this Collabrative filtering model is to recommend movies to a specific user based on the ratings of similar users. By computing the cosine similarity between all users, the code can find the top 5 users most similar to the target user, and then recommend the top 5 highest rated movies among those similar users. This approach leverages the fact that users with similar rating patterns are likely to have similar movie preferences."
   ]
  },
  {
   "cell_type": "markdown",
   "metadata": {},
   "source": [
    "## Model"
   ]
  },
  {
   "cell_type": "markdown",
   "metadata": {},
   "source": [
    "Pivot the dataframe to have users as rows and movies as columns to prepare for computing user similarity. It fills any missing values with 0."
   ]
  },
  {
   "cell_type": "code",
   "execution_count": 20,
   "metadata": {},
   "outputs": [],
   "source": [
    "# pivot the dataframe to have users as rows and movies as columns\n",
    "pivot_df = merged_df.pivot(index='user_id', columns='movieId', values='rating').fillna(0)"
   ]
  },
  {
   "cell_type": "markdown",
   "metadata": {},
   "source": [
    "Compute the cosine similarity matrix between all users to find users with similar movie preferences."
   ]
  },
  {
   "cell_type": "code",
   "execution_count": 21,
   "metadata": {},
   "outputs": [],
   "source": [
    "# compute the cosine similarity matrix between all users\n",
    "user_similarities = cosine_similarity(pivot_df)"
   ]
  },
  {
   "cell_type": "code",
   "execution_count": 22,
   "metadata": {},
   "outputs": [],
   "source": [
    "# define the user_id for which we want to provide recommendations\n",
    "user_id = 1"
   ]
  },
  {
   "cell_type": "code",
   "execution_count": 23,
   "metadata": {},
   "outputs": [],
   "source": [
    "# get the similarity scores for the target user compared to all other users\n",
    "user_sim_scores = user_similarities[user_id]"
   ]
  },
  {
   "cell_type": "markdown",
   "metadata": {},
   "source": [
    "finds the indices of the top 5 most similar users to the target user."
   ]
  },
  {
   "cell_type": "code",
   "execution_count": 24,
   "metadata": {},
   "outputs": [],
   "source": [
    "# find the indices of the top 5 most similar users\n",
    "top_users = np.argsort(-user_sim_scores)[1:6]"
   ]
  },
  {
   "cell_type": "code",
   "execution_count": 25,
   "metadata": {},
   "outputs": [],
   "source": [
    "# get the movies that the top 5 similar users rated the highest\n",
    "top_movies = pivot_df.iloc[top_users].max().sort_values(ascending=False)[:5]"
   ]
  },
  {
   "cell_type": "code",
   "execution_count": 26,
   "metadata": {},
   "outputs": [],
   "source": [
    "# map the movie ids to movie titles\n",
    "top_movie_titles = [movies_df.loc[movies_df['movieId'] == movie_id, 'title'].iloc[0] for movie_id in top_movies.index]"
   ]
  },
  {
   "cell_type": "code",
   "execution_count": 27,
   "metadata": {},
   "outputs": [
    {
     "name": "stdout",
     "output_type": "stream",
     "text": [
      "['Elf (2003)', 'Guardians of the Galaxy (2014)', 'Shawshank Redemption, The (1994)', 'Dead Poets Society (1989)', 'Warrior (2011)']\n"
     ]
    }
   ],
   "source": [
    "# print the top 5 recommended movie titles\n",
    "print(top_movie_titles)"
   ]
  },
  {
   "cell_type": "markdown",
   "metadata": {},
   "source": [
    "# Evaluation"
   ]
  },
  {
   "cell_type": "markdown",
   "metadata": {},
   "source": [
    "This is a K-fold cross-validation method to evaluate the performance of a Nearest Neighbors collaborative filtering model for providing movie recommendations."
   ]
  },
  {
   "cell_type": "markdown",
   "metadata": {},
   "source": [
    "First, it defines the number of folds to be used for cross-validation. Then, it initializes a KFold object with the specified number of folds and sets the random seed for reproducibility. An empty list is created to hold the root mean squared error (RMSE) scores for each fold."
   ]
  },
  {
   "cell_type": "code",
   "execution_count": 28,
   "metadata": {},
   "outputs": [],
   "source": [
    "# Define the number of folds for cross-validation\n",
    "num_folds = 5"
   ]
  },
  {
   "cell_type": "code",
   "execution_count": 29,
   "metadata": {},
   "outputs": [],
   "source": [
    "# Initialize the KFold object\n",
    "kf = KFold(n_splits=num_folds, shuffle=True, random_state=42)"
   ]
  },
  {
   "cell_type": "code",
   "execution_count": 30,
   "metadata": {},
   "outputs": [],
   "source": [
    "# Initialize an empty list to hold the RMSE values for each fold\n",
    "rmse_scores = []"
   ]
  },
  {
   "cell_type": "markdown",
   "metadata": {},
   "source": [
    "The code then loops over each fold and splits the data into training and test sets. It initializes a NearestNeighbors model with cosine similarity metric and 5 neighbors, fits the model to the training data, and makes predictions for the test set.\n",
    "\n",
    "For each test row, it finds the 5 nearest neighbors in the training data, extracts the user indices of the neighbors, gets the ratings of the neighbors for the current movie, calculates the mean rating of the neighbors for the current movie, and appends the prediction to the list of predictions. Then it calculates the RMSE between the actual and predicted ratings for the current fold and appends the RMSE to the list of RMSE values for each fold."
   ]
  },
  {
   "cell_type": "code",
   "execution_count": 31,
   "metadata": {},
   "outputs": [],
   "source": [
    "# Loop over each fold\n",
    "for train_index, test_index in kf.split(pivot_df):\n",
    "# Split the data into training and test sets for the current fold\n",
    "    X_train, X_test = pivot_df.iloc[train_index], pivot_df.iloc[test_index]\n",
    "    y_train, y_test = pivot_df.iloc[train_index][user_id], pivot_df.iloc[test_index][user_id]\n",
    "    \n",
    "    # Create a NearestNeighbors model with cosine similarity metric and 5 neighbors\n",
    "    model = NearestNeighbors(n_neighbors=5, metric='cosine')\n",
    "    # Fit the model to the training data\n",
    "    model.fit(X_train)\n",
    "    \n",
    "    # Initialize an empty list to hold predictions\n",
    "    predictions = []\n",
    "    # Loop over each row of the test data\n",
    "    for i in range(X_test.shape[0]):\n",
    "        # Find the 5 nearest neighbors in the training data for the current test row\n",
    "        distances, indices = model.kneighbors(X_test.iloc[i,:].values.reshape(1, -1), n_neighbors=5)\n",
    "        # Extract the user indices of the neighbors\n",
    "        user_indices = indices.flatten()\n",
    "        # Get the ratings of the neighbors for the current movie\n",
    "        user_ratings = X_train.iloc[user_indices, user_id]\n",
    "        # Calculate the mean rating of the neighbors for the current movie\n",
    "        prediction = user_ratings.mean()\n",
    "        # Append the prediction to the list of predictions\n",
    "        predictions.append(prediction)\n",
    "    \n",
    "    # Calculate the RMSE between the actual and predicted ratings for the current fold\n",
    "    rmse = np.sqrt(mean_squared_error(y_test, predictions))\n",
    "    # Append the RMSE to the list of RMSE values for each fold\n",
    "    rmse_scores.append(rmse)"
   ]
  },
  {
   "cell_type": "markdown",
   "metadata": {},
   "source": [
    "Finally, it calculates the mean RMSE across all folds and prints the result. The lower the RMSE, the better the model's performance, indicating that the model is good at predicting the ratings that users would give to movies they haven't watched yet."
   ]
  },
  {
   "cell_type": "code",
   "execution_count": 32,
   "metadata": {},
   "outputs": [
    {
     "name": "stdout",
     "output_type": "stream",
     "text": [
      "Mean RMSE across all folds: 1.9174329156295056\n"
     ]
    }
   ],
   "source": [
    "# Calculate the mean RMSE across all folds\n",
    "mean_rmse = np.mean(rmse_scores)\n",
    "\n",
    "# Print the results\n",
    "print(\"Mean RMSE across all folds:\", mean_rmse)"
   ]
  },
  {
   "cell_type": "markdown",
   "metadata": {},
   "source": [
    "An RMSE value of 1.917 means that, on average, the model's predictions were off by approximately 1.917 in terms of their distance from the actual ratings.  Ratings were out of 5 total, so this is not a very good performing model."
   ]
  },
  {
   "cell_type": "markdown",
   "metadata": {},
   "source": [
    " # Content Based Filtering\n",
    " In content-based filtering, the system recommends items to a user based on their past behavior and the attributes of items they have previously interacted with."
   ]
  },
  {
   "cell_type": "markdown",
   "metadata": {},
   "source": [
    "## Data Preperation"
   ]
  },
  {
   "cell_type": "markdown",
   "metadata": {},
   "source": [
    "I am merging three dataframes - ratings_df, movies_df, and tags_df - using the merge() function from the Pandas library in Python.\n",
    "\n",
    "The resulting merged dataframe is assigned to the variable content_df. This will allow me to analyze and manipulate the data from all three original dataframes together"
   ]
  },
  {
   "cell_type": "code",
   "execution_count": 33,
   "metadata": {},
   "outputs": [],
   "source": [
    "# Merge the dataframes\n",
    "content_df = pd.merge(ratings_df, movies_df, on='movieId', how='inner')\n",
    "content_df = pd.merge(content_df, tags_df, on='movieId', how='inner')"
   ]
  },
  {
   "cell_type": "markdown",
   "metadata": {},
   "source": [
    "I am merging three dataframes - ratings_df, movies_df, and tags_df - using the merge() function from the Pandas library in Python.\n",
    "\n",
    "The resulting merged dataframe is assigned to the variable content_df. This will allow me to analyze and manipulate the data from all three original dataframes together"
   ]
  },
  {
   "cell_type": "code",
   "execution_count": 34,
   "metadata": {},
   "outputs": [],
   "source": [
    "#Removing some columns that are double represented.\n",
    "content_df = content_df.drop('userId_y', axis=1)\n",
    "content_df = content_df.drop('timestamp_y', axis=1)\n",
    "content_df = content_df.drop('timestamp_x', axis=1)"
   ]
  },
  {
   "cell_type": "code",
   "execution_count": 35,
   "metadata": {},
   "outputs": [],
   "source": [
    "#changing column name to user_id from userId_x\n",
    "content_df = content_df.rename(columns={'userId_x': 'user_id'})"
   ]
  },
  {
   "cell_type": "code",
   "execution_count": 36,
   "metadata": {},
   "outputs": [],
   "source": [
    "# groups the `content_df` DataFrame by the 'user_id' and 'title' columns, resets the index of the resulting DataFrame.\n",
    "content_df = content_df.groupby(['user_id', 'title']).first().reset_index()"
   ]
  },
  {
   "cell_type": "code",
   "execution_count": 37,
   "metadata": {},
   "outputs": [],
   "source": [
    "# Filter out rows with '(no genres listed)' value in 'genres' column\n",
    "merged_df = merged_df.loc[merged_df['genres'] != '(no genres listed)']\n",
    "\n",
    "# Step 1: Split genres column by '|' separator\n",
    "genres_df = merged_df['genres'].str.split('|', expand=True).stack().reset_index(level=1, drop=True).to_frame('genre')"
   ]
  },
  {
   "cell_type": "markdown",
   "metadata": {},
   "source": [
    "The dataframe above looks to have the relavent data im looking for now."
   ]
  },
  {
   "cell_type": "markdown",
   "metadata": {},
   "source": [
    "### Content Based filter modeling"
   ]
  },
  {
   "cell_type": "markdown",
   "metadata": {},
   "source": [
    "First, I select the user we want to recommend movies to, and then set a rating threshold (a minimum rating) for movies to be considered \"highly rated\" by that user. (3.5)"
   ]
  },
  {
   "cell_type": "code",
   "execution_count": 38,
   "metadata": {},
   "outputs": [],
   "source": [
    "# Select the user and rating threshold\n",
    "selected_user = 1\n",
    "rating_threshold = 3.5"
   ]
  },
  {
   "cell_type": "markdown",
   "metadata": {},
   "source": [
    "Then, we filter the DataFrame of movie ratings to only include movies that this user has rated highly, and extract the genres of those movies."
   ]
  },
  {
   "cell_type": "code",
   "execution_count": 39,
   "metadata": {},
   "outputs": [],
   "source": [
    "# Filter the content_df for movies rated highly by the user\n",
    "user_ratings = content_df[(content_df['user_id'] == selected_user) & (content_df['rating'] >= rating_threshold)]\n",
    "# Get the genres of the highly rated movies\n",
    "user_genres = list(set('|'.join(user_ratings['genres']).split('|')))"
   ]
  },
  {
   "cell_type": "markdown",
   "metadata": {},
   "source": [
    "Next, we filter the original DataFrame of movies to only include movies that have at least one of the genres that the highly rated movies have. After that, you combine the genres and tags of each movie into a single string and use TfidfVectorizer to convert that text into a matrix of term frequencies."
   ]
  },
  {
   "cell_type": "code",
   "execution_count": 40,
   "metadata": {},
   "outputs": [],
   "source": [
    "# Filter the content_df for movies that belong to the same genres as the highly rated movies\n",
    "relevant_movies = content_df[content_df['genres'].str.contains('|'.join(user_genres))].copy()\n",
    "# Concatenate the genres and tag columns\n",
    "relevant_movies['genres_and_tags'] = relevant_movies['genres'] + ' ' + relevant_movies['tag']"
   ]
  },
  {
   "cell_type": "code",
   "execution_count": 41,
   "metadata": {},
   "outputs": [],
   "source": [
    "# Use TfidfVectorizer to convert the combined text into a matrix of term frequencies\n",
    "vectorizer = TfidfVectorizer()\n",
    "movie_matrix = vectorizer.fit_transform(relevant_movies['genres_and_tags'])"
   ]
  },
  {
   "cell_type": "markdown",
   "metadata": {},
   "source": [
    "Then, we calculate the cosine similarity between each row of the movie matrix to see which movies are most similar to each other based on genre and tag, and set a similarity threshold (a minimum similarity score) and then find the indices of the movies that meet this criteria."
   ]
  },
  {
   "cell_type": "code",
   "execution_count": 42,
   "metadata": {},
   "outputs": [],
   "source": [
    "# Calculate the cosine similarity between the movie matrix rows\n",
    "similarity_matrix = cosine_similarity(movie_matrix)\n",
    "# Set the cosine similarity threshold\n",
    "similarity_threshold = 0.6"
   ]
  },
  {
   "cell_type": "markdown",
   "metadata": {},
   "source": [
    "Finally, you randomly select 5 movies from these highly similar movies to recommend to the user, and print out the recommended movies."
   ]
  },
  {
   "cell_type": "code",
   "execution_count": 43,
   "metadata": {},
   "outputs": [],
   "source": [
    "# Get the indices of movies that meet the threshold criteria\n",
    "top_indices = [i for i, sim in enumerate(similarity_matrix[0]) if sim >= similarity_threshold]"
   ]
  },
  {
   "cell_type": "code",
   "execution_count": 44,
   "metadata": {},
   "outputs": [],
   "source": [
    "# Shuffle the indices and select the first 5 unique recommended movies\n",
    "recommended_movies = set()\n",
    "while len(recommended_movies) < 5 and top_indices:\n",
    "    random_index = random.choice(top_indices)\n",
    "    recommended_movies.add(relevant_movies.iloc[random_index]['title'])\n",
    "    top_indices.remove(random_index)"
   ]
  },
  {
   "cell_type": "code",
   "execution_count": 45,
   "metadata": {},
   "outputs": [
    {
     "name": "stdout",
     "output_type": "stream",
     "text": [
      "Recommended movies for user 1:\n",
      "Captain Blood (1935)\n",
      "Sinbad: Legend of the Seven Seas (2003)\n",
      "Mark of Zorro, The (1940)\n",
      "Adventures of Robin Hood, The (1938)\n",
      "Pirates of the Caribbean: The Curse of the Black Pearl (2003)\n"
     ]
    }
   ],
   "source": [
    "print(f\"Recommended movies for user {selected_user}:\")\n",
    "for movie in recommended_movies:\n",
    "    print(movie)"
   ]
  },
  {
   "cell_type": "markdown",
   "metadata": {},
   "source": [
    "# Content Based Filtering Evaluation"
   ]
  },
  {
   "cell_type": "markdown",
   "metadata": {},
   "source": [
    " In order to split the dataset into training and test sets based on users, we first need to define what we mean by \"based on users\"."
   ]
  },
  {
   "cell_type": "code",
   "execution_count": 46,
   "metadata": {},
   "outputs": [],
   "source": [
    "# Get the set of genres for highly rated movies by the user in the test set\n",
    "test_user_ratings = content_df[(content_df['user_id'] == selected_user) & (content_df['rating'] >= rating_threshold)]\n",
    "test_user_genres = list(set('|'.join(test_user_ratings['genres']).split('|')))"
   ]
  },
  {
   "cell_type": "markdown",
   "metadata": {},
   "source": [
    "I first extract the unique user IDs from content_df. We then use the train_test_split function to randomly split the list of user IDs into two sets, with 20% of the users assigned to the test set. Finally, I filter the original data from content_df to create the train_data and test_data DataFrames based on the split user lists."
   ]
  },
  {
   "cell_type": "code",
   "execution_count": 47,
   "metadata": {},
   "outputs": [],
   "source": [
    "# Split the data into training and test sets based on users\n",
    "train_users, test_users = train_test_split(content_df['user_id'].unique(), test_size=0.2, random_state=42)\n",
    "\n",
    "# Use the split user lists to create the training and test sets\n",
    "train_df = content_df[content_df['user_id'].isin(train_users)]\n",
    "test_data = content_df[content_df['user_id'].isin(test_users)]"
   ]
  },
  {
   "cell_type": "markdown",
   "metadata": {},
   "source": [
    "For each user in the test set, I'll extract their highly rated movies by filtering the content_df dataframe for movies that are rated highly by that user. We can define a rating threshold (in our case 3.5) to determine what constitutes as a highly rated movie. Then, extract the genres of these highly rated movies to group the movies by user ID and apply the set function to get a set of all genres for each user. The resulting dataframe will have one row per user and a column called user_genres containing the set of genres for that user."
   ]
  },
  {
   "cell_type": "code",
   "execution_count": 48,
   "metadata": {},
   "outputs": [],
   "source": [
    "# Define the rating threshold\n",
    "rating_threshold = 3.5\n",
    "\n",
    "user_ratings = content_df[content_df['user_id'].isin([user_id]) & (content_df['rating'] >= rating_threshold)]\n",
    "\n",
    "# Get the genres of the highly rated movies for each user in the test set\n",
    "user_genres = user_ratings.groupby('user_id')['genres'].apply(lambda x: set('|'.join(x).split('|'))).reset_index(name='user_genres')"
   ]
  },
  {
   "cell_type": "markdown",
   "metadata": {},
   "source": [
    "Using the list of genres obtained from the highly rated movies of each user in the test set, we can filter the movies in the training set that belong to the same genres. Each movie's column is checked to see if it contains a particular genre."
   ]
  },
  {
   "cell_type": "code",
   "execution_count": 49,
   "metadata": {},
   "outputs": [],
   "source": [
    "# Get the list of unique users in the test set\n",
    "user_ids = content_df['user_id'].unique()\n",
    "\n",
    "# Loop through each user in the test set\n",
    "for user_id in user_ids:\n",
    "    # Get the highly rated movies and extract their genres\n",
    "    user_ratings = train_df[(train_df['user_id'] == user_id) & (train_df['rating'] >= rating_threshold)]\n",
    "    user_genres = list(set('|'.join(user_ratings['genres']).split('|')))\n",
    "    \n",
    "# Filter the movies in the training set that belong to the same genres\n",
    "relevant_movies = train_df[train_df['genres'].str.contains('|'.join(user_genres))]"
   ]
  },
  {
   "cell_type": "markdown",
   "metadata": {},
   "source": [
    " In order to focus on a specific user and only their highly rated movies, we first need to select that user and decide on a minimum rating threshold to consider a movie as highly rated."
   ]
  },
  {
   "cell_type": "code",
   "execution_count": 50,
   "metadata": {},
   "outputs": [],
   "source": [
    "# Select the user and rating threshold\n",
    "selected_user = 1\n",
    "rating_threshold = 3.5"
   ]
  },
  {
   "cell_type": "markdown",
   "metadata": {},
   "source": [
    "To test our model, we need to split our dataset into training and test sets. Since we're doing a user-based split, we're ensuring that our model will be evaluated on its ability to generalize to new users and not just memorize the ratings of the users it has seen before."
   ]
  },
  {
   "cell_type": "code",
   "execution_count": 51,
   "metadata": {},
   "outputs": [],
   "source": [
    "# Split the dataset into training and test sets based on users\n",
    "train_set, test_set = train_test_split(content_df, test_size=0.25, random_state=42, stratify=content_df['user_id'])"
   ]
  },
  {
   "cell_type": "markdown",
   "metadata": {},
   "source": [
    "For each user in the test set, we need to identify their highly rated movies and extract the genres of those movies. This will help us find similar movies in the training set."
   ]
  },
  {
   "cell_type": "code",
   "execution_count": 52,
   "metadata": {},
   "outputs": [],
   "source": [
    "# Get the set of genres for highly rated movies by the user in the test set\n",
    "test_user_ratings = test_set[(test_set['user_id'] == selected_user) & (test_set['rating'] >= rating_threshold)]\n",
    "test_user_genres = list(set('|'.join(test_user_ratings['genres']).split('|')))"
   ]
  },
  {
   "cell_type": "markdown",
   "metadata": {},
   "source": [
    "We want to focus on similar movies in the training set, so we filter out movies that don't belong to the same genres as the highly rated movies for the user in question."
   ]
  },
  {
   "cell_type": "code",
   "execution_count": 53,
   "metadata": {},
   "outputs": [],
   "source": [
    "# Filter the movies in the training set that belong to the same genres as the highly rated movies for the user\n",
    "relevant_train_movies = train_set[train_set['genres'].str.contains('|'.join(test_user_genres))].copy()"
   ]
  },
  {
   "cell_type": "markdown",
   "metadata": {},
   "source": [
    "We want to consider both the genres and the tags associated with each movie, so we concatenate them into a single column."
   ]
  },
  {
   "cell_type": "code",
   "execution_count": 54,
   "metadata": {},
   "outputs": [],
   "source": [
    "# Concatenate the genres and tag columns\n",
    "relevant_train_movies['genres_and_tags'] = relevant_train_movies['genres'] + ' ' + relevant_train_movies['tag']"
   ]
  },
  {
   "cell_type": "markdown",
   "metadata": {},
   "source": [
    "We use TF-IDF vectorization to convert the combined text (genres and tags) for each movie into a matrix of term frequencies. This matrix will help us calculate similarity between movies."
   ]
  },
  {
   "cell_type": "code",
   "execution_count": 55,
   "metadata": {},
   "outputs": [],
   "source": [
    "# Use TfidfVectorizer to convert the combined text into a matrix of term frequencies\n",
    "vectorizer = TfidfVectorizer()\n",
    "train_movie_matrix = vectorizer.fit_transform(relevant_train_movies['genres_and_tags'])"
   ]
  },
  {
   "cell_type": "markdown",
   "metadata": {},
   "source": [
    "cosine_similarity() is a function from scikit-learn's metrics.pairwise module that calculates the cosine similarity between rows of a matrix.\n",
    "We pass in train_movie_matrix as the argument, which is the term frequency matrix that we created using the TfidfVectorizer from earlier.\n",
    "The function returns a matrix of pairwise cosine similarities between the rows of train_movie_matrix.\n",
    "We store this matrix in the variable train_similarity_matrix for later use."
   ]
  },
  {
   "cell_type": "code",
   "execution_count": 56,
   "metadata": {},
   "outputs": [],
   "source": [
    "# Calculate the cosine similarity between the rows of the training movie matrix\n",
    "train_similarity_matrix = cosine_similarity(train_movie_matrix)"
   ]
  },
  {
   "cell_type": "markdown",
   "metadata": {},
   "source": [
    "For each user in the test set, we will use the cosine similarity scores to recommend movies that are similar to the highly rated movies of the user. We will set a threshold similarity score, and only recommend movies that meet or exceed that threshold."
   ]
  },
  {
   "cell_type": "code",
   "execution_count": 57,
   "metadata": {},
   "outputs": [],
   "source": [
    "# Set the cosine similarity threshold\n",
    "similarity_threshold = 0.3"
   ]
  },
  {
   "cell_type": "code",
   "execution_count": 58,
   "metadata": {},
   "outputs": [],
   "source": [
    "# Create an empty dictionary to store the recommended movies for each user\n",
    "recommendations = {}"
   ]
  },
  {
   "cell_type": "code",
   "execution_count": 59,
   "metadata": {},
   "outputs": [],
   "source": [
    "# Create an empty list to store the test movie matrices\n",
    "test_movie_matrix = []"
   ]
  },
  {
   "cell_type": "code",
   "execution_count": 60,
   "metadata": {},
   "outputs": [],
   "source": [
    "test_movie_matrices = []\n",
    "\n",
    "for user_id in test_set['user_id'].unique():\n",
    "    \n",
    "    test_movie_matrices.append(test_movie_matrix)"
   ]
  },
  {
   "cell_type": "markdown",
   "metadata": {},
   "source": [
    "This will create a list test_movie_matrices that contains the TF-IDF matrices for each user in the test set, which can be used to calculate the cosine similarity scores with the training movie matrix"
   ]
  },
  {
   "cell_type": "code",
   "execution_count": 61,
   "metadata": {},
   "outputs": [],
   "source": [
    "# Loop through each user in the test set\n",
    "for user_id in test_set['user_id'].unique():\n",
    "\n",
    "    # Get the set of genres for highly rated movies by the user in the test set\n",
    "    test_user_ratings = test_set[(test_set['user_id'] == user_id) & (test_set['rating'] >= rating_threshold)]\n",
    "    test_user_genres = list(set('|'.join(test_user_ratings['genres']).split('|')))\n",
    "\n",
    "    # Filter the movies in the training set that belong to the same genres as the highly rated movies for the user\n",
    "    relevant_test_movies = test_set[test_set['genres'].str.contains('|'.join(test_user_genres))].copy()\n",
    "\n",
    "    # Concatenate the genres and tag columns\n",
    "    relevant_test_movies['genres_and_tags'] = relevant_test_movies['genres'] + ' ' + relevant_test_movies['tag']\n",
    "\n",
    "    # Use TfidfVectorizer to convert the combined text into a matrix of term frequencies\n",
    "    test_movie_matrix = vectorizer.transform(relevant_test_movies['genres_and_tags'])\n",
    "\n",
    "    # Add the test movie matrix to the list\n",
    "    test_movie_matrices.append(test_movie_matrix)"
   ]
  },
  {
   "cell_type": "markdown",
   "metadata": {},
   "source": [
    "This code is creating a list of matrices that represent movies in the training set that are similar to highly rated movies for each user in the test set. It does this by filtering the training set for movies that belong to the same genres as the highly rated movies for each user, concatenating the genres and tags columns, and then using TfidfVectorizer to convert the text into a matrix of term frequencies. The resulting matrices will be used to make movie recommendations for each user in the test set."
   ]
  },
  {
   "cell_type": "code",
   "execution_count": 63,
   "metadata": {},
   "outputs": [],
   "source": [
    "# Loop through each user in the test set\n",
    "for user in test_set['user_id'].unique():\n",
    "    \n",
    "    # Get the highly rated movies and their genres for the user\n",
    "    user_ratings = test_set[(test_set['user_id'] == user) & (test_set['rating'] >= rating_threshold)]\n",
    "    user_genres = list(set('|'.join(user_ratings['genres']).split('|')))\n",
    "    \n",
    "    # Filter the movies in the training set that belong to the same genres as the highly rated movies for the user\n",
    "    relevant_train_movies = train_set[train_set['genres'].str.contains('|'.join(user_genres))].copy()\n",
    "    \n",
    "    # Concatenate the genres and tag columns\n",
    "    relevant_train_movies['genres_and_tags'] = relevant_train_movies['genres'] + ' ' + relevant_train_movies['tag']\n",
    "    \n",
    "    # Use TfidfVectorizer to convert the combined text into a matrix of term frequencies\n",
    "    train_movie_matrix = vectorizer.transform(relevant_train_movies['genres_and_tags'])"
   ]
  },
  {
   "cell_type": "code",
   "execution_count": 64,
   "metadata": {},
   "outputs": [],
   "source": [
    "    # Calculate the cosine similarity between the movie matrix rows\n",
    "    similarity_matrix = cosine_similarity(test_movie_matrix, train_movie_matrix)\n",
    "    \n",
    "    # Get the indices of movies that meet the threshold criteria\n",
    "    top_indices = [i for i, sim in enumerate(similarity_matrix[0]) if sim >= similarity_threshold]\n",
    "    \n",
    "    # Add the recommended movies for the user to the dictionary\n",
    "    recommendations[user] = set(relevant_train_movies.iloc[top_indices]['title'])"
   ]
  },
  {
   "cell_type": "code",
   "execution_count": 65,
   "metadata": {},
   "outputs": [],
   "source": [
    "# Get the relevant movies for the test user\n",
    "relevant_movies = test_set[test_set['user_id'] == selected_user]['movieId'].values"
   ]
  },
  {
   "cell_type": "code",
   "execution_count": 66,
   "metadata": {},
   "outputs": [],
   "source": [
    "# Set number of recommendations equal to number of relevant movies\n",
    "num_recommendations = len(relevant_test_movies)\n",
    "\n",
    "# Get the recommended movies for the test user\n",
    "num_recommendations = min(num_recommendations, len(relevant_movies))\n",
    "recommended_movies = sorted(zip(test_movie_matrix[selected_user, :].toarray()[0], relevant_train_movies['movieId']), reverse=True)[:num_recommendations]\n",
    "recommended_movies = [movie[1] for movie in recommended_movies]"
   ]
  },
  {
   "cell_type": "code",
   "execution_count": 67,
   "metadata": {},
   "outputs": [],
   "source": [
    "# Calculate precision and recall\n",
    "precision = precision_score(relevant_movies, recommended_movies, average='weighted', zero_division=1)\n",
    "recall = recall_score(relevant_movies, recommended_movies, average='weighted', zero_division=1)"
   ]
  },
  {
   "cell_type": "code",
   "execution_count": 68,
   "metadata": {},
   "outputs": [
    {
     "name": "stdout",
     "output_type": "stream",
     "text": [
      "Precision: 0.97, Recall: 0.00\n"
     ]
    }
   ],
   "source": [
    "print(f\"Precision: {precision:.2f}, Recall: {recall:.2f}\")"
   ]
  },
  {
   "cell_type": "markdown",
   "metadata": {},
   "source": [
    " A precision of 0.97 means that out of all the movies recommended to the test user, 97% of them are likely to be rated highly by the user. In other words, if we recommend 100 movies to this user, then around 97 of them will be movies that the user will like based on their past ratings.\n",
    "\n",
    "The recall is 0.00, which means that out of all the relevant movies for the test user (i.e., the movies they had rated highly in the past), none of them were actually recommended to them in the top num_recommendations recommendations."
   ]
  },
  {
   "cell_type": "markdown",
   "metadata": {},
   "source": [
    "# Hybrid Approach Filtering\n",
    "Hybrid recommendation systems combine multiple recommendation techniques, such as collaborative filtering and content-based filtering to improve the accuracy and relevance of recommendations. This approach can help to overcome the limitations of each individual technique and provide better personalized recommendations."
   ]
  },
  {
   "cell_type": "markdown",
   "metadata": {},
   "source": [
    "The code first filters the merged dataset for movies that have been highly rated by a selected user. It then extracts the genres of the highly rated movies and filters the merged dataset for movies that belong to the same genres. A matrix of user-item ratings is created from this filtered dataset."
   ]
  },
  {
   "cell_type": "code",
   "execution_count": 69,
   "metadata": {},
   "outputs": [],
   "source": [
    "# Select the user and rating threshold\n",
    "selected_user = 1\n",
    "rating_threshold = 3\n",
    "\n",
    "# Filter the merged_df for movies rated highly by the user\n",
    "user_ratings = merged_df[(merged_df['user_id'] == selected_user) & (merged_df['rating'] >= rating_threshold)]\n",
    "\n",
    "# Get the genres of the highly rated movies\n",
    "user_genres = list(set('|'.join(user_ratings['genres']).split('|')))\n",
    "\n",
    "# Filter the merged_df for movies that belong to the same genres as the highly rated movies\n",
    "relevant_movies = merged_df[merged_df['genres'].str.contains('|'.join(user_genres))].copy()\n",
    "\n",
    "# Create a matrix of user-item ratings\n",
    "ratings_matrix = relevant_movies.pivot_table(index='user_id', columns='movieId', values='rating')"
   ]
  },
  {
   "cell_type": "markdown",
   "metadata": {},
   "source": [
    "Next, cosine similarity is calculated between the ratings matrix rows to identify users that are most similar to the selected user. A dataframe of similar users and their ratings for movies the selected user hasn't seen is then created."
   ]
  },
  {
   "cell_type": "code",
   "execution_count": 70,
   "metadata": {},
   "outputs": [],
   "source": [
    "# Calculate the cosine similarity between the ratings matrix rows\n",
    "similarity_matrix = cosine_similarity(ratings_matrix.fillna(0))\n",
    "\n",
    "# Get the indices of users that are most similar to the selected user\n",
    "similar_users_indices = similarity_matrix[selected_user-1].argsort()[::-1][1:]\n",
    "\n",
    "# Create a dataframe of similar users and their ratings for movies the selected user hasn't seen\n",
    "similar_users_ratings = merged_df[merged_df['user_id'].isin(similar_users_indices) & ~merged_df['movieId'].isin(user_ratings['movieId'])]"
   ]
  },
  {
   "cell_type": "markdown",
   "metadata": {},
   "source": [
    "We group the similar users ratings by movie and calculate the mean rating for each movie. Then merge this mean rating dataframe with the relevant movies dataframe. Missing mean ratings are replaced with the overall mean rating, and the genres and tag columns are concatenated."
   ]
  },
  {
   "cell_type": "code",
   "execution_count": 71,
   "metadata": {},
   "outputs": [],
   "source": [
    "# Filter the merged_df for movies that belong to the same genres as the highly rated movies\n",
    "relevant_movies = merged_df[merged_df['genres'].str.contains('|'.join(user_genres))].copy()\n",
    "\n",
    "# Create a matrix of user-item ratings\n",
    "ratings_matrix = relevant_movies.pivot_table(index='user_id', columns='movieId', values='rating')"
   ]
  },
  {
   "cell_type": "code",
   "execution_count": 72,
   "metadata": {},
   "outputs": [],
   "source": [
    "# Group the similar users ratings by movie and calculate the mean rating for each movie\n",
    "movie_means = similar_users_ratings.groupby('movieId').mean()['rating'].rename('mean_rating')\n",
    "\n",
    "# Merge the movie_means dataframe with the relevant_movies dataframe\n",
    "relevant_movies_with_means = pd.merge(relevant_movies, movie_means, on='movieId', how='left')\n",
    "\n",
    "# Replace missing mean ratings with the overall mean rating\n",
    "overall_mean_rating = relevant_movies_with_means['mean_rating'].mean()\n",
    "relevant_movies_with_means['mean_rating'].fillna(overall_mean_rating, inplace=True)\n",
    "\n",
    "# Concatenate the genres and tag columns\n",
    "relevant_movies_with_means['genres_and_tags'] = relevant_movies_with_means['genres'] + ' ' + relevant_movies_with_means['tag']\n"
   ]
  },
  {
   "cell_type": "markdown",
   "metadata": {},
   "source": [
    "TfidfVectorizer is used to convert the combined text into a matrix of term frequencies."
   ]
  },
  {
   "cell_type": "code",
   "execution_count": 73,
   "metadata": {},
   "outputs": [],
   "source": [
    "# Use TfidfVectorizer to convert the combined text into a matrix of term frequencies\n",
    "vectorizer = TfidfVectorizer()\n",
    "movie_matrix = vectorizer.fit_transform(relevant_movies_with_means['genres_and_tags'])"
   ]
  },
  {
   "cell_type": "markdown",
   "metadata": {},
   "source": [
    "Cosine similarity is then calculated between the movie matrix rows, and a similarity threshold is set. The code identifies the indices of movies that meet the threshold criteria and selects the first 5 unique recommended movies."
   ]
  },
  {
   "cell_type": "code",
   "execution_count": 74,
   "metadata": {},
   "outputs": [],
   "source": [
    "# Calculate the cosine similarity between the movie matrix rows\n",
    "movie_similarity_matrix = cosine_similarity(movie_matrix)\n",
    "\n",
    "# Set the cosine similarity threshold\n",
    "similarity_threshold = 0.5\n",
    "\n",
    "# Get the indices of movies that meet the threshold criteria\n",
    "top_indices = [i for i, sim in enumerate(movie_similarity_matrix[0]) if sim >= similarity_threshold]\n",
    "\n",
    "# Shuffle the indices and select the first 5 unique recommended movies\n",
    "recommended_movies = set()\n",
    "while len(recommended_movies) < 5 and top_indices:\n",
    "    random_index = np.random.choice(top_indices)\n",
    "    recommended_movies.add(relevant_movies_with_means.iloc[random_index]['title'])\n",
    "    top_indices.remove(random_index)"
   ]
  },
  {
   "cell_type": "markdown",
   "metadata": {},
   "source": [
    "Finally, the code prints the recommended movies for the selected user."
   ]
  },
  {
   "cell_type": "code",
   "execution_count": 75,
   "metadata": {},
   "outputs": [
    {
     "name": "stdout",
     "output_type": "stream",
     "text": [
      "Recommended movies for user 1:\n",
      "Toy Story (1995)\n",
      "Finding Nemo (2003)\n",
      "Who Framed Roger Rabbit? (1988)\n",
      "Jumanji (1995)\n",
      "Up (2009)\n"
     ]
    }
   ],
   "source": [
    "# Print the recommended movies\n",
    "print(f\"Recommended movies for user {selected_user}:\")\n",
    "for movie in recommended_movies:\n",
    "    print(movie)"
   ]
  },
  {
   "cell_type": "markdown",
   "metadata": {},
   "source": [
    "# Hybrid Evaluation"
   ]
  },
  {
   "cell_type": "markdown",
   "metadata": {},
   "source": [
    "merged_df = merged_df.drop('time_stamp', axis=1)"
   ]
  },
  {
   "cell_type": "code",
   "execution_count": 81,
   "metadata": {},
   "outputs": [
    {
     "data": {
      "text/html": [
       "<div>\n",
       "<style scoped>\n",
       "    .dataframe tbody tr th:only-of-type {\n",
       "        vertical-align: middle;\n",
       "    }\n",
       "\n",
       "    .dataframe tbody tr th {\n",
       "        vertical-align: top;\n",
       "    }\n",
       "\n",
       "    .dataframe thead th {\n",
       "        text-align: right;\n",
       "    }\n",
       "</style>\n",
       "<table border=\"1\" class=\"dataframe\">\n",
       "  <thead>\n",
       "    <tr style=\"text-align: right;\">\n",
       "      <th></th>\n",
       "      <th>user_id</th>\n",
       "      <th>movieId</th>\n",
       "      <th>rating</th>\n",
       "      <th>title</th>\n",
       "      <th>genres</th>\n",
       "      <th>tag</th>\n",
       "    </tr>\n",
       "  </thead>\n",
       "  <tbody>\n",
       "    <tr>\n",
       "      <th>0</th>\n",
       "      <td>1</td>\n",
       "      <td>1</td>\n",
       "      <td>4.0</td>\n",
       "      <td>Toy Story (1995)</td>\n",
       "      <td>Adventure|Animation|Children|Comedy|Fantasy</td>\n",
       "      <td>pixar</td>\n",
       "    </tr>\n",
       "    <tr>\n",
       "      <th>3</th>\n",
       "      <td>5</td>\n",
       "      <td>1</td>\n",
       "      <td>4.0</td>\n",
       "      <td>Toy Story (1995)</td>\n",
       "      <td>Adventure|Animation|Children|Comedy|Fantasy</td>\n",
       "      <td>pixar</td>\n",
       "    </tr>\n",
       "    <tr>\n",
       "      <th>6</th>\n",
       "      <td>7</td>\n",
       "      <td>1</td>\n",
       "      <td>4.5</td>\n",
       "      <td>Toy Story (1995)</td>\n",
       "      <td>Adventure|Animation|Children|Comedy|Fantasy</td>\n",
       "      <td>pixar</td>\n",
       "    </tr>\n",
       "    <tr>\n",
       "      <th>9</th>\n",
       "      <td>15</td>\n",
       "      <td>1</td>\n",
       "      <td>2.5</td>\n",
       "      <td>Toy Story (1995)</td>\n",
       "      <td>Adventure|Animation|Children|Comedy|Fantasy</td>\n",
       "      <td>pixar</td>\n",
       "    </tr>\n",
       "    <tr>\n",
       "      <th>12</th>\n",
       "      <td>17</td>\n",
       "      <td>1</td>\n",
       "      <td>4.5</td>\n",
       "      <td>Toy Story (1995)</td>\n",
       "      <td>Adventure|Animation|Children|Comedy|Fantasy</td>\n",
       "      <td>pixar</td>\n",
       "    </tr>\n",
       "    <tr>\n",
       "      <th>...</th>\n",
       "      <td>...</td>\n",
       "      <td>...</td>\n",
       "      <td>...</td>\n",
       "      <td>...</td>\n",
       "      <td>...</td>\n",
       "      <td>...</td>\n",
       "    </tr>\n",
       "    <tr>\n",
       "      <th>233204</th>\n",
       "      <td>567</td>\n",
       "      <td>176419</td>\n",
       "      <td>3.0</td>\n",
       "      <td>Mother! (2017)</td>\n",
       "      <td>Drama|Horror|Mystery|Thriller</td>\n",
       "      <td>allegorical</td>\n",
       "    </tr>\n",
       "    <tr>\n",
       "      <th>233207</th>\n",
       "      <td>599</td>\n",
       "      <td>176419</td>\n",
       "      <td>3.5</td>\n",
       "      <td>Mother! (2017)</td>\n",
       "      <td>Drama|Horror|Mystery|Thriller</td>\n",
       "      <td>allegorical</td>\n",
       "    </tr>\n",
       "    <tr>\n",
       "      <th>233210</th>\n",
       "      <td>594</td>\n",
       "      <td>7023</td>\n",
       "      <td>4.5</td>\n",
       "      <td>Wedding Banquet, The (Xi yan) (1993)</td>\n",
       "      <td>Comedy|Drama|Romance</td>\n",
       "      <td>In Netflix queue</td>\n",
       "    </tr>\n",
       "    <tr>\n",
       "      <th>233211</th>\n",
       "      <td>606</td>\n",
       "      <td>6107</td>\n",
       "      <td>4.0</td>\n",
       "      <td>Night of the Shooting Stars (Notte di San Lore...</td>\n",
       "      <td>Drama|War</td>\n",
       "      <td>World War II</td>\n",
       "    </tr>\n",
       "    <tr>\n",
       "      <th>233212</th>\n",
       "      <td>606</td>\n",
       "      <td>6516</td>\n",
       "      <td>3.5</td>\n",
       "      <td>Anastasia (1956)</td>\n",
       "      <td>Drama</td>\n",
       "      <td>In Netflix queue</td>\n",
       "    </tr>\n",
       "  </tbody>\n",
       "</table>\n",
       "<p>48286 rows × 6 columns</p>\n",
       "</div>"
      ],
      "text/plain": [
       "        user_id  movieId  rating  \\\n",
       "0             1        1     4.0   \n",
       "3             5        1     4.0   \n",
       "6             7        1     4.5   \n",
       "9            15        1     2.5   \n",
       "12           17        1     4.5   \n",
       "...         ...      ...     ...   \n",
       "233204      567   176419     3.0   \n",
       "233207      599   176419     3.5   \n",
       "233210      594     7023     4.5   \n",
       "233211      606     6107     4.0   \n",
       "233212      606     6516     3.5   \n",
       "\n",
       "                                                    title  \\\n",
       "0                                        Toy Story (1995)   \n",
       "3                                        Toy Story (1995)   \n",
       "6                                        Toy Story (1995)   \n",
       "9                                        Toy Story (1995)   \n",
       "12                                       Toy Story (1995)   \n",
       "...                                                   ...   \n",
       "233204                                     Mother! (2017)   \n",
       "233207                                     Mother! (2017)   \n",
       "233210               Wedding Banquet, The (Xi yan) (1993)   \n",
       "233211  Night of the Shooting Stars (Notte di San Lore...   \n",
       "233212                                   Anastasia (1956)   \n",
       "\n",
       "                                             genres               tag  \n",
       "0       Adventure|Animation|Children|Comedy|Fantasy             pixar  \n",
       "3       Adventure|Animation|Children|Comedy|Fantasy             pixar  \n",
       "6       Adventure|Animation|Children|Comedy|Fantasy             pixar  \n",
       "9       Adventure|Animation|Children|Comedy|Fantasy             pixar  \n",
       "12      Adventure|Animation|Children|Comedy|Fantasy             pixar  \n",
       "...                                             ...               ...  \n",
       "233204                Drama|Horror|Mystery|Thriller       allegorical  \n",
       "233207                Drama|Horror|Mystery|Thriller       allegorical  \n",
       "233210                         Comedy|Drama|Romance  In Netflix queue  \n",
       "233211                                    Drama|War      World War II  \n",
       "233212                                        Drama  In Netflix queue  \n",
       "\n",
       "[48286 rows x 6 columns]"
      ]
     },
     "execution_count": 81,
     "metadata": {},
     "output_type": "execute_result"
    }
   ],
   "source": [
    "merged_df"
   ]
  },
  {
   "cell_type": "code",
   "execution_count": 82,
   "metadata": {},
   "outputs": [],
   "source": [
    "# Split data into X (features) and y (target variable)\n",
    "X = merged_df.drop('rating', axis=1)\n",
    "y = merged_df['rating']\n",
    "# Split data into training set and test set\n",
    "X_train, X_test, y_train, y_test = train_test_split(X, y, test_size=0.2, random_state=42)"
   ]
  },
  {
   "cell_type": "code",
   "execution_count": 83,
   "metadata": {},
   "outputs": [],
   "source": [
    "# Select the user and rating threshold\n",
    "selected_user = 1\n",
    "rating_threshold = 3\n",
    "\n",
    "# Filter the merged_df for movies rated highly by the user\n",
    "user_ratings = merged_df[(merged_df['user_id'] == selected_user) & (merged_df['rating'] >= rating_threshold)]\n",
    "\n",
    "# Get the genres of the highly rated movies\n",
    "user_genres = list(set('|'.join(user_ratings['genres']).split('|')))\n",
    "\n",
    "# Filter the merged_df for movies that belong to the same genres as the highly rated movies\n",
    "relevant_movies = merged_df[merged_df['genres'].str.contains('|'.join(user_genres))].copy()\n",
    "\n",
    "# Create a matrix of user-item ratings\n",
    "ratings_matrix = relevant_movies.pivot_table(index='user_id', columns='movieId', values='rating')"
   ]
  },
  {
   "cell_type": "code",
   "execution_count": 84,
   "metadata": {},
   "outputs": [],
   "source": [
    "# Calculate the cosine similarity between the ratings matrix rows\n",
    "similarity_matrix = cosine_similarity(ratings_matrix.fillna(0))\n",
    "\n",
    "# Get the indices of users that are most similar to the selected user\n",
    "similar_users_indices = similarity_matrix[selected_user-1].argsort()[::-1][1:]\n",
    "\n",
    "# Create a dataframe of similar users and their ratings for movies the selected user hasn't seen\n",
    "similar_users_ratings = merged_df[merged_df['user_id'].isin(similar_users_indices) & ~merged_df['movieId'].isin(user_ratings['movieId'])]"
   ]
  },
  {
   "cell_type": "code",
   "execution_count": 85,
   "metadata": {},
   "outputs": [],
   "source": [
    "# Group the similar users ratings by movie and calculate the mean rating for each movie\n",
    "movie_means = similar_users_ratings.groupby('movieId').mean()['rating'].rename('mean_rating')\n",
    "\n",
    "# Merge the movie_means dataframe with the relevant_movies dataframe\n",
    "relevant_movies_with_means = pd.merge(relevant_movies, movie_means, on='movieId', how='left')\n",
    "\n",
    "# Replace missing mean ratings with the overall mean rating\n",
    "overall_mean_rating = relevant_movies_with_means['mean_rating'].mean()\n",
    "relevant_movies_with_means['mean_rating'].fillna(overall_mean_rating, inplace=True)\n",
    "\n",
    "# Concatenate the genres and tag columns\n",
    "relevant_movies_with_means['genres_and_tags'] = relevant_movies_with_means['genres'] + ' ' + relevant_movies_with_means['tag']\n"
   ]
  },
  {
   "cell_type": "code",
   "execution_count": 86,
   "metadata": {},
   "outputs": [],
   "source": [
    "# Use TfidfVectorizer to convert the combined text into a matrix of term frequencies\n",
    "vectorizer = TfidfVectorizer()\n",
    "movie_matrix = vectorizer.fit_transform(relevant_movies_with_means['genres_and_tags'])"
   ]
  },
  {
   "cell_type": "code",
   "execution_count": 87,
   "metadata": {},
   "outputs": [],
   "source": [
    "# Convert movie matrix to sparse matrix\n",
    "movie_matrix_sparse = csr_matrix(movie_matrix)\n",
    "\n",
    "# Calculate cosine similarity as sparse matrix\n",
    "movie_similarity_matrix_sparse = cosine_similarity(movie_matrix_sparse, dense_output=False)\n",
    "# Set the cosine similarity threshold\n",
    "similarity_threshold = 0.5\n",
    "\n",
    "# Get the indices of movies that meet the threshold criteria\n",
    "top_indices = [i for i, sim in enumerate(movie_similarity_matrix[0]) if sim >= similarity_threshold]\n",
    "\n",
    "# Shuffle the indices and select the first 5 unique recommended movies\n",
    "recommended_movies = set()\n",
    "while len(recommended_movies) < 5 and top_indices:\n",
    "    random_index = np.random.choice(top_indices)\n",
    "    recommended_movies.add(relevant_movies_with_means.iloc[random_index]['title'])\n",
    "    top_indices.remove(random_index)"
   ]
  },
  {
   "cell_type": "code",
   "execution_count": null,
   "metadata": {},
   "outputs": [],
   "source": []
  },
  {
   "cell_type": "code",
   "execution_count": null,
   "metadata": {},
   "outputs": [],
   "source": []
  },
  {
   "cell_type": "code",
   "execution_count": 137,
   "metadata": {},
   "outputs": [],
   "source": [
    "recommended_movie_ids = set(merged_df['movieId'].tolist())"
   ]
  },
  {
   "cell_type": "code",
   "execution_count": 154,
   "metadata": {},
   "outputs": [],
   "source": [
    "# Calculate the number of relevant movies in the test set\n",
    "relevant_movies_test = set(y_test[y_test >= 3].index)"
   ]
  },
  {
   "cell_type": "code",
   "execution_count": 155,
   "metadata": {},
   "outputs": [],
   "source": [
    "# Calculate the number of recommended movies that are relevant\n",
    "relevant_recommended = recommended_movie_ids.intersection(relevant_movies_test)\n",
    "num_relevant_recommended = len(relevant_recommended)"
   ]
  },
  {
   "cell_type": "code",
   "execution_count": 156,
   "metadata": {},
   "outputs": [],
   "source": [
    "# Calculate precision and recall\n",
    "precision = num_relevant_recommended / len(recommended_movie_ids)\n",
    "recall = num_relevant_recommended / len(relevant_movies_test)"
   ]
  },
  {
   "cell_type": "code",
   "execution_count": 157,
   "metadata": {},
   "outputs": [
    {
     "name": "stdout",
     "output_type": "stream",
     "text": [
      "Precision: 0.024\n",
      "Recall: 0.004\n"
     ]
    }
   ],
   "source": [
    "print(f\"Precision: {precision:.3f}\")\n",
    "print(f\"Recall: {recall:.3f}\")"
   ]
  },
  {
   "cell_type": "markdown",
   "metadata": {},
   "source": [
    "Precision is a measure of how many of the recommended movies were actually relevant to the user's interests. In this case, a precision of 0.024 means that out of all the movies recommended to the user, only about 2.4% were actually relevant to their interests.\n",
    "\n",
    "Recall, on the other hand, is a measure of how many of the relevant movies were successfully recommended to the user. A recall of 0.004 means that out of all the relevant movies that the user might have enjoyed, only about 0.4% were successfully recommended to them.\n",
    "\n",
    "The low precision value and low recall values mean that this is not a good model to preform recommendations for our users."
   ]
  },
  {
   "cell_type": "code",
   "execution_count": null,
   "metadata": {},
   "outputs": [],
   "source": []
  }
 ],
 "metadata": {
  "kernelspec": {
   "display_name": "Python (learn-env)",
   "language": "python",
   "name": "learn-env"
  },
  "language_info": {
   "codemirror_mode": {
    "name": "ipython",
    "version": 3
   },
   "file_extension": ".py",
   "mimetype": "text/x-python",
   "name": "python",
   "nbconvert_exporter": "python",
   "pygments_lexer": "ipython3",
   "version": "3.8.5"
  }
 },
 "nbformat": 4,
 "nbformat_minor": 4
}
