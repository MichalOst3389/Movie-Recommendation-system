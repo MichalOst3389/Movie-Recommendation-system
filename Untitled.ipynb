{
 "cells": [
  {
   "cell_type": "markdown",
   "metadata": {},
   "source": [
    "I'm a data scientist at FlixGenius, a popular movie streaming service. Our management has recently decided to invest in enhancing our recommendation engine to provide more personalized movie recommendations to our users. We've found that users are more likely to continue using our service if they receive movie recommendations that match their personal preferences.\n",
    "\n",
    "As a data scientist, I've been tasked with building a model that provides top 5 movie recommendations to a user, based on their ratings of other movies. The model will take into account the user's past viewing history and ratings, as well as the ratings and viewing history of other users with similar preferences.\n",
    "\n",
    "For this project, I've been provided with a dataset called MovieLens. The data comes from the GroupLens research lab at the University of Minnesota and includes user ratings of movies, as well as information about the movies themselves. My job is to use this data to build a recommendation model that will provide personalized recommendations to users."
   ]
  },
  {
   "cell_type": "code",
   "execution_count": 131,
   "metadata": {},
   "outputs": [],
   "source": [
    "import numpy as np\n",
    "import matplotlib.pyplot as plt\n",
    "import pandas as pd\n",
    "from sklearn.metrics.pairwise import cosine_similarity"
   ]
  },
  {
   "cell_type": "code",
   "execution_count": 132,
   "metadata": {},
   "outputs": [],
   "source": [
    "movies_df = pd.read_csv('https://gist.githubusercontent.com/MichalOst3389/e3913bbb6921ea9475660d58d280d55c/raw/3b8861ea300bbdd6b689bf853dfce94524b39301/movies.csv')\n",
    "links_df = pd.read_csv('https://gist.githubusercontent.com/MichalOst3389/cfc2c59e9f323d11b7afb8f3224229f3/raw/ce13331097cbff6abcd941e8388db941220876fb/links.csv')\n",
    "ratings_df = pd.read_csv('https://gist.githubusercontent.com/MichalOst3389/d8ed774a84197205b2d7e53ce8345aae/raw/064966f6d7c5f45f3aa404ca45d5ee9b9fed0ece/ratings.csv')\n",
    "tags_df = pd.read_csv('https://gist.githubusercontent.com/MichalOst3389/9ff4a3740c440a3391d891af2ccac50a/raw/05572aac39b0fd8d278228158ad5a4cb20ecaa9c/tags.csv')"
   ]
  },
  {
   "cell_type": "markdown",
   "metadata": {},
   "source": [
    "# Data Cleaning"
   ]
  },
  {
   "cell_type": "markdown",
   "metadata": {},
   "source": [
    "The first step is to combine them into a single dataset. I've merge the datasets using a common identifier which is movieId"
   ]
  },
  {
   "cell_type": "code",
   "execution_count": 133,
   "metadata": {},
   "outputs": [],
   "source": [
    "# Merge datasets using movieId as the key\n",
    "merged_df_1 = pd.merge(ratings_df, movies_df, on='movieId', how='inner')\n",
    "merged_df = pd.merge(merged_df_1, tags_df, on='movieId', how='inner')"
   ]
  },
  {
   "cell_type": "code",
   "execution_count": 134,
   "metadata": {},
   "outputs": [
    {
     "data": {
      "text/html": [
       "<div>\n",
       "<style scoped>\n",
       "    .dataframe tbody tr th:only-of-type {\n",
       "        vertical-align: middle;\n",
       "    }\n",
       "\n",
       "    .dataframe tbody tr th {\n",
       "        vertical-align: top;\n",
       "    }\n",
       "\n",
       "    .dataframe thead th {\n",
       "        text-align: right;\n",
       "    }\n",
       "</style>\n",
       "<table border=\"1\" class=\"dataframe\">\n",
       "  <thead>\n",
       "    <tr style=\"text-align: right;\">\n",
       "      <th></th>\n",
       "      <th>userId_x</th>\n",
       "      <th>movieId</th>\n",
       "      <th>rating</th>\n",
       "      <th>timestamp_x</th>\n",
       "      <th>title</th>\n",
       "      <th>genres</th>\n",
       "      <th>userId_y</th>\n",
       "      <th>tag</th>\n",
       "      <th>timestamp_y</th>\n",
       "    </tr>\n",
       "  </thead>\n",
       "  <tbody>\n",
       "    <tr>\n",
       "      <th>0</th>\n",
       "      <td>False</td>\n",
       "      <td>False</td>\n",
       "      <td>False</td>\n",
       "      <td>False</td>\n",
       "      <td>False</td>\n",
       "      <td>False</td>\n",
       "      <td>False</td>\n",
       "      <td>False</td>\n",
       "      <td>False</td>\n",
       "    </tr>\n",
       "    <tr>\n",
       "      <th>1</th>\n",
       "      <td>False</td>\n",
       "      <td>False</td>\n",
       "      <td>False</td>\n",
       "      <td>False</td>\n",
       "      <td>False</td>\n",
       "      <td>False</td>\n",
       "      <td>False</td>\n",
       "      <td>False</td>\n",
       "      <td>False</td>\n",
       "    </tr>\n",
       "    <tr>\n",
       "      <th>2</th>\n",
       "      <td>False</td>\n",
       "      <td>False</td>\n",
       "      <td>False</td>\n",
       "      <td>False</td>\n",
       "      <td>False</td>\n",
       "      <td>False</td>\n",
       "      <td>False</td>\n",
       "      <td>False</td>\n",
       "      <td>False</td>\n",
       "    </tr>\n",
       "    <tr>\n",
       "      <th>3</th>\n",
       "      <td>False</td>\n",
       "      <td>False</td>\n",
       "      <td>False</td>\n",
       "      <td>False</td>\n",
       "      <td>False</td>\n",
       "      <td>False</td>\n",
       "      <td>False</td>\n",
       "      <td>False</td>\n",
       "      <td>False</td>\n",
       "    </tr>\n",
       "    <tr>\n",
       "      <th>4</th>\n",
       "      <td>False</td>\n",
       "      <td>False</td>\n",
       "      <td>False</td>\n",
       "      <td>False</td>\n",
       "      <td>False</td>\n",
       "      <td>False</td>\n",
       "      <td>False</td>\n",
       "      <td>False</td>\n",
       "      <td>False</td>\n",
       "    </tr>\n",
       "    <tr>\n",
       "      <th>...</th>\n",
       "      <td>...</td>\n",
       "      <td>...</td>\n",
       "      <td>...</td>\n",
       "      <td>...</td>\n",
       "      <td>...</td>\n",
       "      <td>...</td>\n",
       "      <td>...</td>\n",
       "      <td>...</td>\n",
       "      <td>...</td>\n",
       "    </tr>\n",
       "    <tr>\n",
       "      <th>233208</th>\n",
       "      <td>False</td>\n",
       "      <td>False</td>\n",
       "      <td>False</td>\n",
       "      <td>False</td>\n",
       "      <td>False</td>\n",
       "      <td>False</td>\n",
       "      <td>False</td>\n",
       "      <td>False</td>\n",
       "      <td>False</td>\n",
       "    </tr>\n",
       "    <tr>\n",
       "      <th>233209</th>\n",
       "      <td>False</td>\n",
       "      <td>False</td>\n",
       "      <td>False</td>\n",
       "      <td>False</td>\n",
       "      <td>False</td>\n",
       "      <td>False</td>\n",
       "      <td>False</td>\n",
       "      <td>False</td>\n",
       "      <td>False</td>\n",
       "    </tr>\n",
       "    <tr>\n",
       "      <th>233210</th>\n",
       "      <td>False</td>\n",
       "      <td>False</td>\n",
       "      <td>False</td>\n",
       "      <td>False</td>\n",
       "      <td>False</td>\n",
       "      <td>False</td>\n",
       "      <td>False</td>\n",
       "      <td>False</td>\n",
       "      <td>False</td>\n",
       "    </tr>\n",
       "    <tr>\n",
       "      <th>233211</th>\n",
       "      <td>False</td>\n",
       "      <td>False</td>\n",
       "      <td>False</td>\n",
       "      <td>False</td>\n",
       "      <td>False</td>\n",
       "      <td>False</td>\n",
       "      <td>False</td>\n",
       "      <td>False</td>\n",
       "      <td>False</td>\n",
       "    </tr>\n",
       "    <tr>\n",
       "      <th>233212</th>\n",
       "      <td>False</td>\n",
       "      <td>False</td>\n",
       "      <td>False</td>\n",
       "      <td>False</td>\n",
       "      <td>False</td>\n",
       "      <td>False</td>\n",
       "      <td>False</td>\n",
       "      <td>False</td>\n",
       "      <td>False</td>\n",
       "    </tr>\n",
       "  </tbody>\n",
       "</table>\n",
       "<p>233213 rows × 9 columns</p>\n",
       "</div>"
      ],
      "text/plain": [
       "        userId_x  movieId  rating  timestamp_x  title  genres  userId_y  \\\n",
       "0          False    False   False        False  False   False     False   \n",
       "1          False    False   False        False  False   False     False   \n",
       "2          False    False   False        False  False   False     False   \n",
       "3          False    False   False        False  False   False     False   \n",
       "4          False    False   False        False  False   False     False   \n",
       "...          ...      ...     ...          ...    ...     ...       ...   \n",
       "233208     False    False   False        False  False   False     False   \n",
       "233209     False    False   False        False  False   False     False   \n",
       "233210     False    False   False        False  False   False     False   \n",
       "233211     False    False   False        False  False   False     False   \n",
       "233212     False    False   False        False  False   False     False   \n",
       "\n",
       "          tag  timestamp_y  \n",
       "0       False        False  \n",
       "1       False        False  \n",
       "2       False        False  \n",
       "3       False        False  \n",
       "4       False        False  \n",
       "...       ...          ...  \n",
       "233208  False        False  \n",
       "233209  False        False  \n",
       "233210  False        False  \n",
       "233211  False        False  \n",
       "233212  False        False  \n",
       "\n",
       "[233213 rows x 9 columns]"
      ]
     },
     "execution_count": 134,
     "metadata": {},
     "output_type": "execute_result"
    }
   ],
   "source": [
    "merged_df.isnull()"
   ]
  },
  {
   "cell_type": "code",
   "execution_count": 135,
   "metadata": {},
   "outputs": [
    {
     "name": "stdout",
     "output_type": "stream",
     "text": [
      "userId_x       0\n",
      "movieId        0\n",
      "rating         0\n",
      "timestamp_x    0\n",
      "title          0\n",
      "genres         0\n",
      "userId_y       0\n",
      "tag            0\n",
      "timestamp_y    0\n",
      "dtype: int64\n"
     ]
    }
   ],
   "source": [
    "print(merged_df.isnull().sum())"
   ]
  },
  {
   "cell_type": "markdown",
   "metadata": {},
   "source": [
    "### There are no null values"
   ]
  },
  {
   "cell_type": "code",
   "execution_count": 136,
   "metadata": {},
   "outputs": [
    {
     "data": {
      "text/plain": [
       "0         False\n",
       "1         False\n",
       "2         False\n",
       "3         False\n",
       "4         False\n",
       "          ...  \n",
       "233208    False\n",
       "233209    False\n",
       "233210    False\n",
       "233211    False\n",
       "233212    False\n",
       "Length: 233213, dtype: bool"
      ]
     },
     "execution_count": 136,
     "metadata": {},
     "output_type": "execute_result"
    }
   ],
   "source": [
    "merged_df.duplicated()"
   ]
  },
  {
   "cell_type": "code",
   "execution_count": 137,
   "metadata": {},
   "outputs": [
    {
     "name": "stdout",
     "output_type": "stream",
     "text": [
      "0\n"
     ]
    }
   ],
   "source": [
    "print(merged_df.duplicated().sum())"
   ]
  },
  {
   "cell_type": "markdown",
   "metadata": {},
   "source": [
    "### There are no duplicated rows."
   ]
  },
  {
   "cell_type": "code",
   "execution_count": 138,
   "metadata": {},
   "outputs": [
    {
     "name": "stdout",
     "output_type": "stream",
     "text": [
      "<class 'pandas.core.frame.DataFrame'>\n",
      "Int64Index: 233213 entries, 0 to 233212\n",
      "Data columns (total 9 columns):\n",
      " #   Column       Non-Null Count   Dtype  \n",
      "---  ------       --------------   -----  \n",
      " 0   userId_x     233213 non-null  int64  \n",
      " 1   movieId      233213 non-null  int64  \n",
      " 2   rating       233213 non-null  float64\n",
      " 3   timestamp_x  233213 non-null  int64  \n",
      " 4   title        233213 non-null  object \n",
      " 5   genres       233213 non-null  object \n",
      " 6   userId_y     233213 non-null  int64  \n",
      " 7   tag          233213 non-null  object \n",
      " 8   timestamp_y  233213 non-null  int64  \n",
      "dtypes: float64(1), int64(5), object(3)\n",
      "memory usage: 17.8+ MB\n"
     ]
    }
   ],
   "source": [
    "merged_df.info()"
   ]
  },
  {
   "cell_type": "markdown",
   "metadata": {},
   "source": [
    "We can see there are no duplicates above, however when we merged dataframes some columns were merged into the new df that are representing the same things.  example - user_Id_x, and user_Id_y."
   ]
  },
  {
   "cell_type": "markdown",
   "metadata": {},
   "source": [
    "## One hot encoding tags"
   ]
  },
  {
   "cell_type": "markdown",
   "metadata": {},
   "source": [
    "   By one-hot encoding the tag column, we can represent the user's tags for each movie in a way that can be easily used as input to a recommendation algorithm."
   ]
  },
  {
   "cell_type": "markdown",
   "metadata": {},
   "source": [
    "# One-hot encode the 'tag' column\n",
    "tags_encoded = pd.get_dummies(merged_df['tag'])\n",
    "\n",
    "# Merge the encoded tags back into the original dataframe\n",
    "merged_df = pd.concat([merged_df, tags_encoded], axis=1)\n",
    "\n",
    "# Drop the original 'tag' column\n",
    "merged_df.drop('tag', axis=1, inplace=True)"
   ]
  },
  {
   "cell_type": "markdown",
   "metadata": {},
   "source": [
    "## One hot encoding genres"
   ]
  },
  {
   "cell_type": "markdown",
   "metadata": {},
   "source": [
    "# One-hot encode the 'genres' column\n",
    "genres_encoded = pd.get_dummies(merged_df['genres'])\n",
    "\n",
    "# Merge the encoded genres back into the original dataframe\n",
    "merged_df = pd.concat([merged_df, tags_encoded], axis=1)\n",
    "\n",
    "# Drop the original 'genres' column\n",
    "merged_df.drop('genres', axis=1, inplace=True)"
   ]
  },
  {
   "cell_type": "code",
   "execution_count": 139,
   "metadata": {},
   "outputs": [],
   "source": [
    "merged_df = merged_df.drop('userId_y', axis=1)\n",
    "merged_df = merged_df.drop('timestamp_y', axis=1)"
   ]
  },
  {
   "cell_type": "markdown",
   "metadata": {},
   "source": [
    "  I removed these columns as they were duplicates with different values from a different dataframe, that represented the same things."
   ]
  },
  {
   "cell_type": "code",
   "execution_count": 143,
   "metadata": {},
   "outputs": [],
   "source": [
    "# drop duplicates from merged_df\n",
    "merged_df.drop_duplicates(subset=['userId_x', 'movieId'], inplace=True)\n",
    "\n",
    "# pivot the dataframe to have users as rows and movies as columns\n",
    "pivot_df = merged_df.pivot(index='userId_x', columns='movieId', values='rating').fillna(0)\n",
    "\n",
    "# compute the cosine similarity matrix between all users\n",
    "user_similarities = cosine_similarity(pivot_df)"
   ]
  },
  {
   "cell_type": "code",
   "execution_count": 160,
   "metadata": {},
   "outputs": [
    {
     "name": "stdout",
     "output_type": "stream",
     "text": [
      "['Toy Story (1995)', 'My Neighbor Totoro (Tonari no Totoro) (1988)', 'L.A. Confidential (1997)', 'Men in Black (a.k.a. MIB) (1997)', 'Face/Off (1997)']\n"
     ]
    }
   ],
   "source": [
    "# pivot the dataframe to have users as rows and movies as columns\n",
    "pivot_df = merged_df.pivot(index='userId_x', columns='movieId', values='rating').fillna(0)\n",
    "\n",
    "# compute the cosine similarity matrix between all users\n",
    "user_similarities = cosine_similarity(pivot_df)\n",
    "\n",
    "# define the user_id for which we want to provide recommendations\n",
    "user_id = 20\n",
    "\n",
    "# get the similarity scores for the target user compared to all other users\n",
    "user_sim_scores = user_similarities[user_id]\n",
    "\n",
    "# find the indices of the top 5 most similar users\n",
    "top_users = np.argsort(-user_sim_scores)[1:6]\n",
    "\n",
    "# get the movies that the top 5 similar users rated the highest\n",
    "top_movies = pivot_df.iloc[top_users].max().sort_values(ascending=False)[:5]\n",
    "\n",
    "# map the movie ids to movie titles\n",
    "top_movie_titles = [movies_df.loc[movies_df['movieId'] == movie_id, 'title'].iloc[0] for movie_id in top_movies.index]\n",
    "\n",
    "# print the top 5 recommended movie titles\n",
    "print(top_movie_titles)"
   ]
  },
  {
   "cell_type": "code",
   "execution_count": 159,
   "metadata": {},
   "outputs": [
    {
     "ename": "NameError",
     "evalue": "name 'userId_x' is not defined",
     "output_type": "error",
     "traceback": [
      "\u001b[1;31m---------------------------------------------------------------------------\u001b[0m",
      "\u001b[1;31mNameError\u001b[0m                                 Traceback (most recent call last)",
      "\u001b[1;32m<ipython-input-159-9729349020ed>\u001b[0m in \u001b[0;36m<module>\u001b[1;34m\u001b[0m\n\u001b[0;32m      6\u001b[0m \u001b[1;33m\u001b[0m\u001b[0m\n\u001b[0;32m      7\u001b[0m \u001b[1;31m# get the similarity scores for the target user compared to all other users\u001b[0m\u001b[1;33m\u001b[0m\u001b[1;33m\u001b[0m\u001b[1;33m\u001b[0m\u001b[0m\n\u001b[1;32m----> 8\u001b[1;33m \u001b[0muser_sim_scores\u001b[0m \u001b[1;33m=\u001b[0m \u001b[0muser_similarities\u001b[0m\u001b[1;33m[\u001b[0m\u001b[0muserId_x\u001b[0m\u001b[1;33m]\u001b[0m\u001b[1;33m\u001b[0m\u001b[1;33m\u001b[0m\u001b[0m\n\u001b[0m\u001b[0;32m      9\u001b[0m \u001b[1;33m\u001b[0m\u001b[0m\n\u001b[0;32m     10\u001b[0m \u001b[1;31m# find the indices of the top 5 most similar users\u001b[0m\u001b[1;33m\u001b[0m\u001b[1;33m\u001b[0m\u001b[1;33m\u001b[0m\u001b[0m\n",
      "\u001b[1;31mNameError\u001b[0m: name 'userId_x' is not defined"
     ]
    }
   ],
   "source": [
    "# compute the cosine similarity matrix between all users\n",
    "user_similarities = cosine_similarity(pivot_df)\n",
    "\n",
    "# define the user_id for which we want to provide recommendations\n",
    "user_id = 1\n",
    "\n",
    "# get the similarity scores for the target user compared to all other users\n",
    "user_sim_scores = user_similarities[userId_x]\n",
    "\n",
    "# find the indices of the top 5 most similar users\n",
    "top_users = np.argsort(-user_sim_scores)[1:6]\n",
    "\n",
    "# get the movies that the top 5 similar users rated the highest\n",
    "top_movies = pivot_df.iloc[top_users].max().sort_values(ascending=False)[:5]\n",
    "\n",
    "# define the ground truth dataset\n",
    "ground_truth = merged_df[merged_df['userId_x'] == user_id]\n",
    "\n",
    "# define the set of recommended items\n",
    "recommended_items = top_movies.index.tolist()\n",
    "\n",
    "# compute precision, recall, and F1-score\n",
    "relevant_items = ground_truth[ground_truth['rating'] >= 4]['movieId_x'].tolist()\n",
    "tp = len(set(recommended_items) & set(relevant_items))\n",
    "fp = len(set(recommended_items) - set(relevant_items))\n",
    "fn = len(set(relevant_items) - set(recommended_items))\n",
    "precision = tp / (tp + fp)\n",
    "recall = tp / (tp + fn)\n",
    "f1_score = 2 * precision * recall / (precision + recall)\n",
    "\n",
    "print('Precision:', precision)\n",
    "print('Recall:', recall)\n",
    "print('F1-score:', f1_score)"
   ]
  },
  {
   "cell_type": "code",
   "execution_count": null,
   "metadata": {},
   "outputs": [],
   "source": []
  }
 ],
 "metadata": {
  "kernelspec": {
   "display_name": "Python (learn-env)",
   "language": "python",
   "name": "learn-env"
  },
  "language_info": {
   "codemirror_mode": {
    "name": "ipython",
    "version": 3
   },
   "file_extension": ".py",
   "mimetype": "text/x-python",
   "name": "python",
   "nbconvert_exporter": "python",
   "pygments_lexer": "ipython3",
   "version": "3.8.5"
  }
 },
 "nbformat": 4,
 "nbformat_minor": 4
}
