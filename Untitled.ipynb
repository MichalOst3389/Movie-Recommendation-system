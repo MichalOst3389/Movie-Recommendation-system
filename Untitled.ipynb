{
 "cells": [
  {
   "cell_type": "markdown",
   "metadata": {},
   "source": [
    "# Business Understanding\n",
    "\n",
    "\n",
    "\n",
    "As a data scientist at FlixGenius, I am working on enhancing our recommendation engine to provide more personalized movie recommendations to our users. Our goal is to increase user engagement and revenue by delivering movie recommendations that match their personal preferences based on their past viewing history and ratings, as well as the ratings and viewing history of other users with similar preferences.\n",
    "\n",
    "To accomplish this task, I am using the MovieLens dataset from the GroupLens research lab at the University of Minnesota. This dataset includes user ratings of movies and information about the movies themselves. By building a recommendation model using this data, we can provide personalized recommendations to users.\n",
    "\n",
    "In addition to building the recommendation engine, it would also be helpful for the company to identify which genres and tags are most popular among our users. This information can help us acquire and recommend similar movies, allowing us to expand our library in a way that is likely to be well-received by our users, ultimately leading to increased engagement and revenue."
   ]
  },
  {
   "cell_type": "code",
   "execution_count": 304,
   "metadata": {},
   "outputs": [],
   "source": [
    "import numpy as np\n",
    "import matplotlib.pyplot as plt\n",
    "import pandas as pd\n",
    "from sklearn.metrics.pairwise import cosine_similarity\n",
    "from sklearn.preprocessing import StandardScaler\n",
    "from sklearn.model_selection import train_test_split\n",
    "from sklearn.metrics import mean_absolute_error, mean_squared_error\n",
    "from sklearn.model_selection import cross_val_score\n",
    "from sklearn.neighbors import NearestNeighbors\n",
    "import seaborn as sns\n",
    "\n",
    "from sklearn.feature_extraction.text import TfidfVectorizer\n",
    "import random\n",
    "import requests\n",
    "from bs4 import BeautifulSoup\n",
    "import math\n",
    "from sklearn.metrics import precision_score, recall_score, f1_score\n",
    "import squarify"
   ]
  },
  {
   "cell_type": "code",
   "execution_count": 305,
   "metadata": {},
   "outputs": [],
   "source": [
    "movies_df = pd.read_csv('https://gist.githubusercontent.com/MichalOst3389/e3913bbb6921ea9475660d58d280d55c/raw/3b8861ea300bbdd6b689bf853dfce94524b39301/movies.csv')\n",
    "links_df = pd.read_csv('https://gist.githubusercontent.com/MichalOst3389/cfc2c59e9f323d11b7afb8f3224229f3/raw/ce13331097cbff6abcd941e8388db941220876fb/links.csv')\n",
    "ratings_df = pd.read_csv('https://gist.githubusercontent.com/MichalOst3389/d8ed774a84197205b2d7e53ce8345aae/raw/064966f6d7c5f45f3aa404ca45d5ee9b9fed0ece/ratings.csv')\n",
    "tags_df = pd.read_csv('https://gist.githubusercontent.com/MichalOst3389/9ff4a3740c440a3391d891af2ccac50a/raw/05572aac39b0fd8d278228158ad5a4cb20ecaa9c/tags.csv')"
   ]
  },
  {
   "cell_type": "markdown",
   "metadata": {},
   "source": [
    "# Data understanding"
   ]
  },
  {
   "cell_type": "markdown",
   "metadata": {},
   "source": [
    "The first step is to combine them into a single dataset. I've merge the datasets using a common identifier which is movieId"
   ]
  },
  {
   "cell_type": "code",
   "execution_count": 306,
   "metadata": {},
   "outputs": [],
   "source": [
    "# Merge datasets using movieId as the key\n",
    "merged_df_1 = pd.merge(ratings_df, movies_df, on='movieId', how='inner')\n",
    "merged_df = pd.merge(merged_df_1, tags_df, on='movieId', how='inner')"
   ]
  },
  {
   "cell_type": "code",
   "execution_count": 307,
   "metadata": {},
   "outputs": [
    {
     "data": {
      "text/html": [
       "<div>\n",
       "<style scoped>\n",
       "    .dataframe tbody tr th:only-of-type {\n",
       "        vertical-align: middle;\n",
       "    }\n",
       "\n",
       "    .dataframe tbody tr th {\n",
       "        vertical-align: top;\n",
       "    }\n",
       "\n",
       "    .dataframe thead th {\n",
       "        text-align: right;\n",
       "    }\n",
       "</style>\n",
       "<table border=\"1\" class=\"dataframe\">\n",
       "  <thead>\n",
       "    <tr style=\"text-align: right;\">\n",
       "      <th></th>\n",
       "      <th>userId_x</th>\n",
       "      <th>movieId</th>\n",
       "      <th>rating</th>\n",
       "      <th>timestamp_x</th>\n",
       "      <th>title</th>\n",
       "      <th>genres</th>\n",
       "      <th>userId_y</th>\n",
       "      <th>tag</th>\n",
       "      <th>timestamp_y</th>\n",
       "    </tr>\n",
       "  </thead>\n",
       "  <tbody>\n",
       "    <tr>\n",
       "      <th>0</th>\n",
       "      <td>False</td>\n",
       "      <td>False</td>\n",
       "      <td>False</td>\n",
       "      <td>False</td>\n",
       "      <td>False</td>\n",
       "      <td>False</td>\n",
       "      <td>False</td>\n",
       "      <td>False</td>\n",
       "      <td>False</td>\n",
       "    </tr>\n",
       "    <tr>\n",
       "      <th>1</th>\n",
       "      <td>False</td>\n",
       "      <td>False</td>\n",
       "      <td>False</td>\n",
       "      <td>False</td>\n",
       "      <td>False</td>\n",
       "      <td>False</td>\n",
       "      <td>False</td>\n",
       "      <td>False</td>\n",
       "      <td>False</td>\n",
       "    </tr>\n",
       "    <tr>\n",
       "      <th>2</th>\n",
       "      <td>False</td>\n",
       "      <td>False</td>\n",
       "      <td>False</td>\n",
       "      <td>False</td>\n",
       "      <td>False</td>\n",
       "      <td>False</td>\n",
       "      <td>False</td>\n",
       "      <td>False</td>\n",
       "      <td>False</td>\n",
       "    </tr>\n",
       "    <tr>\n",
       "      <th>3</th>\n",
       "      <td>False</td>\n",
       "      <td>False</td>\n",
       "      <td>False</td>\n",
       "      <td>False</td>\n",
       "      <td>False</td>\n",
       "      <td>False</td>\n",
       "      <td>False</td>\n",
       "      <td>False</td>\n",
       "      <td>False</td>\n",
       "    </tr>\n",
       "    <tr>\n",
       "      <th>4</th>\n",
       "      <td>False</td>\n",
       "      <td>False</td>\n",
       "      <td>False</td>\n",
       "      <td>False</td>\n",
       "      <td>False</td>\n",
       "      <td>False</td>\n",
       "      <td>False</td>\n",
       "      <td>False</td>\n",
       "      <td>False</td>\n",
       "    </tr>\n",
       "    <tr>\n",
       "      <th>...</th>\n",
       "      <td>...</td>\n",
       "      <td>...</td>\n",
       "      <td>...</td>\n",
       "      <td>...</td>\n",
       "      <td>...</td>\n",
       "      <td>...</td>\n",
       "      <td>...</td>\n",
       "      <td>...</td>\n",
       "      <td>...</td>\n",
       "    </tr>\n",
       "    <tr>\n",
       "      <th>233208</th>\n",
       "      <td>False</td>\n",
       "      <td>False</td>\n",
       "      <td>False</td>\n",
       "      <td>False</td>\n",
       "      <td>False</td>\n",
       "      <td>False</td>\n",
       "      <td>False</td>\n",
       "      <td>False</td>\n",
       "      <td>False</td>\n",
       "    </tr>\n",
       "    <tr>\n",
       "      <th>233209</th>\n",
       "      <td>False</td>\n",
       "      <td>False</td>\n",
       "      <td>False</td>\n",
       "      <td>False</td>\n",
       "      <td>False</td>\n",
       "      <td>False</td>\n",
       "      <td>False</td>\n",
       "      <td>False</td>\n",
       "      <td>False</td>\n",
       "    </tr>\n",
       "    <tr>\n",
       "      <th>233210</th>\n",
       "      <td>False</td>\n",
       "      <td>False</td>\n",
       "      <td>False</td>\n",
       "      <td>False</td>\n",
       "      <td>False</td>\n",
       "      <td>False</td>\n",
       "      <td>False</td>\n",
       "      <td>False</td>\n",
       "      <td>False</td>\n",
       "    </tr>\n",
       "    <tr>\n",
       "      <th>233211</th>\n",
       "      <td>False</td>\n",
       "      <td>False</td>\n",
       "      <td>False</td>\n",
       "      <td>False</td>\n",
       "      <td>False</td>\n",
       "      <td>False</td>\n",
       "      <td>False</td>\n",
       "      <td>False</td>\n",
       "      <td>False</td>\n",
       "    </tr>\n",
       "    <tr>\n",
       "      <th>233212</th>\n",
       "      <td>False</td>\n",
       "      <td>False</td>\n",
       "      <td>False</td>\n",
       "      <td>False</td>\n",
       "      <td>False</td>\n",
       "      <td>False</td>\n",
       "      <td>False</td>\n",
       "      <td>False</td>\n",
       "      <td>False</td>\n",
       "    </tr>\n",
       "  </tbody>\n",
       "</table>\n",
       "<p>233213 rows × 9 columns</p>\n",
       "</div>"
      ],
      "text/plain": [
       "        userId_x  movieId  rating  timestamp_x  title  genres  userId_y  \\\n",
       "0          False    False   False        False  False   False     False   \n",
       "1          False    False   False        False  False   False     False   \n",
       "2          False    False   False        False  False   False     False   \n",
       "3          False    False   False        False  False   False     False   \n",
       "4          False    False   False        False  False   False     False   \n",
       "...          ...      ...     ...          ...    ...     ...       ...   \n",
       "233208     False    False   False        False  False   False     False   \n",
       "233209     False    False   False        False  False   False     False   \n",
       "233210     False    False   False        False  False   False     False   \n",
       "233211     False    False   False        False  False   False     False   \n",
       "233212     False    False   False        False  False   False     False   \n",
       "\n",
       "          tag  timestamp_y  \n",
       "0       False        False  \n",
       "1       False        False  \n",
       "2       False        False  \n",
       "3       False        False  \n",
       "4       False        False  \n",
       "...       ...          ...  \n",
       "233208  False        False  \n",
       "233209  False        False  \n",
       "233210  False        False  \n",
       "233211  False        False  \n",
       "233212  False        False  \n",
       "\n",
       "[233213 rows x 9 columns]"
      ]
     },
     "execution_count": 307,
     "metadata": {},
     "output_type": "execute_result"
    }
   ],
   "source": [
    "merged_df.isnull()"
   ]
  },
  {
   "cell_type": "code",
   "execution_count": 308,
   "metadata": {},
   "outputs": [
    {
     "name": "stdout",
     "output_type": "stream",
     "text": [
      "userId_x       0\n",
      "movieId        0\n",
      "rating         0\n",
      "timestamp_x    0\n",
      "title          0\n",
      "genres         0\n",
      "userId_y       0\n",
      "tag            0\n",
      "timestamp_y    0\n",
      "dtype: int64\n"
     ]
    }
   ],
   "source": [
    "print(merged_df.isnull().sum())"
   ]
  },
  {
   "cell_type": "markdown",
   "metadata": {},
   "source": [
    "### There are no null values"
   ]
  },
  {
   "cell_type": "code",
   "execution_count": 309,
   "metadata": {},
   "outputs": [
    {
     "data": {
      "text/plain": [
       "0         False\n",
       "1         False\n",
       "2         False\n",
       "3         False\n",
       "4         False\n",
       "          ...  \n",
       "233208    False\n",
       "233209    False\n",
       "233210    False\n",
       "233211    False\n",
       "233212    False\n",
       "Length: 233213, dtype: bool"
      ]
     },
     "execution_count": 309,
     "metadata": {},
     "output_type": "execute_result"
    }
   ],
   "source": [
    "merged_df.duplicated()"
   ]
  },
  {
   "cell_type": "code",
   "execution_count": 310,
   "metadata": {},
   "outputs": [
    {
     "name": "stdout",
     "output_type": "stream",
     "text": [
      "0\n"
     ]
    }
   ],
   "source": [
    "print(merged_df.duplicated().sum())"
   ]
  },
  {
   "cell_type": "markdown",
   "metadata": {},
   "source": [
    "### There are no duplicated rows."
   ]
  },
  {
   "cell_type": "code",
   "execution_count": 311,
   "metadata": {},
   "outputs": [
    {
     "name": "stdout",
     "output_type": "stream",
     "text": [
      "<class 'pandas.core.frame.DataFrame'>\n",
      "Int64Index: 233213 entries, 0 to 233212\n",
      "Data columns (total 9 columns):\n",
      " #   Column       Non-Null Count   Dtype  \n",
      "---  ------       --------------   -----  \n",
      " 0   userId_x     233213 non-null  int64  \n",
      " 1   movieId      233213 non-null  int64  \n",
      " 2   rating       233213 non-null  float64\n",
      " 3   timestamp_x  233213 non-null  int64  \n",
      " 4   title        233213 non-null  object \n",
      " 5   genres       233213 non-null  object \n",
      " 6   userId_y     233213 non-null  int64  \n",
      " 7   tag          233213 non-null  object \n",
      " 8   timestamp_y  233213 non-null  int64  \n",
      "dtypes: float64(1), int64(5), object(3)\n",
      "memory usage: 17.8+ MB\n"
     ]
    }
   ],
   "source": [
    "merged_df.info()"
   ]
  },
  {
   "cell_type": "markdown",
   "metadata": {},
   "source": [
    "We can see there are no duplicates above, however when we merged dataframes some columns were merged into the new dataframe that  represent the same things.  example - user_Id_x, and user_Id_y."
   ]
  },
  {
   "cell_type": "markdown",
   "metadata": {},
   "source": [
    "# Data Preperation"
   ]
  },
  {
   "cell_type": "code",
   "execution_count": 312,
   "metadata": {},
   "outputs": [],
   "source": [
    "merged_df = merged_df.drop('userId_y', axis=1)\n",
    "merged_df = merged_df.drop('timestamp_y', axis=1)"
   ]
  },
  {
   "cell_type": "code",
   "execution_count": 313,
   "metadata": {},
   "outputs": [],
   "source": [
    "# drop duplicates from merged_df\n",
    "merged_df.drop_duplicates(subset=['userId_x', 'movieId'], inplace=True)\n",
    "\n",
    "# pivot the dataframe to have users as rows and movies as columns\n",
    "pivot_df = merged_df.pivot(index='userId_x', columns='movieId', values='rating').fillna(0)\n",
    "\n",
    "# compute the cosine similarity matrix between all users\n",
    "user_similarities = cosine_similarity(pivot_df)"
   ]
  },
  {
   "cell_type": "markdown",
   "metadata": {},
   "source": [
    "I used the \"drop_duplicates\" method to remove any rows that have the same combination of 'userId_x' and 'movieId'. This ensures that we only have one rating per user-movie pair in our dataset.\n",
    "\n",
    "Next, I pivot the DataFrame so that each user is a row and each movie is a column to make the data easier to work with during collaborative filtering.  \n",
    "\n",
    "Finally, I'm computing  the cosine similarity matrix between all users. This matrix measures the similarity between each pair of users based on their ratings. The values in the matrix range from -1 to 1, with 1 indicating that two users have identical ratings for all movies, 0 indicating that they have no similarity, and -1 indicating that they have completely opposite ratings for all movies.\n",
    "\n",
    "By computing this similarity matrix, we can identify users who have similar tastes in movies, which can be used to make personalized recommendations. For example, if a user has not seen a particular movie but has similar tastes to another user who gave that movie a high rating, we might recommend that movie to the first user."
   ]
  },
  {
   "cell_type": "code",
   "execution_count": 314,
   "metadata": {},
   "outputs": [],
   "source": [
    "#changing column name to user_id from userId_x\n",
    "merged_df = merged_df.rename(columns={'userId_x': 'user_id'})\n",
    "#  renames the timestamp_x column to time_stamp\n",
    "merged_df = merged_df.rename(columns={'timestamp_x': 'time_stamp'})\n",
    "# This code filters the merged_df DataFrame to only include rows where the genres column is not equal to '(no genres listed)'\n",
    "merged_df = merged_df[merged_df['genres'] != '(no genres listed)']"
   ]
  },
  {
   "cell_type": "code",
   "execution_count": 315,
   "metadata": {},
   "outputs": [],
   "source": [
    "# splits the values in the genres column of the merged_df DataFrame by the |\n",
    "genre_ratings_count = merged_df['genres'].str.split('|', expand=True).stack().reset_index(level=1, drop=True).to_frame('genre')\n",
    "# This code merges the rating column from the merged_df DataFrame into the genre_ratings_count DataFrame based on their indices. The left_index and right_index parameters are both set to True to use the current indices of both DataFrames for the merge.\n",
    "genre_ratings_count = genre_ratings_count.merge(merged_df[['rating']], left_index=True, right_index=True)\n",
    "# This code groups the genre_ratings_count DataFrame by the genre column and calculates the mean and count of the rating column for each group using the .agg() method. The resulting genre_ratings_count DataFrame will have a row for each unique genre in the original genres column, with columns for the mean and count of ratings for each genre.\n",
    "genre_ratings_count = genre_ratings_count.groupby('genre')['rating'].count().sort_values(ascending=False)"
   ]
  },
  {
   "cell_type": "code",
   "execution_count": 316,
   "metadata": {},
   "outputs": [
    {
     "data": {
      "text/plain": [
       "genre\n",
       "Drama          22534\n",
       "Comedy         16774\n",
       "Action         13208\n",
       "Thriller       12509\n",
       "Adventure      12023\n",
       "Romance         9812\n",
       "Crime           9071\n",
       "Sci-Fi          8749\n",
       "Fantasy         5807\n",
       "Mystery         4631\n",
       "Children        4589\n",
       "Animation       3588\n",
       "War             2794\n",
       "Horror          2526\n",
       "Musical         2320\n",
       "IMAX            1873\n",
       "Western          758\n",
       "Film-Noir        589\n",
       "Documentary      442\n",
       "Name: rating, dtype: int64"
      ]
     },
     "execution_count": 316,
     "metadata": {},
     "output_type": "execute_result"
    }
   ],
   "source": [
    "genre_ratings_count"
   ]
  },
  {
   "cell_type": "markdown",
   "metadata": {},
   "source": [
    "There is a very large difference in rating counts between the the more frequent genres of movies and the less frequent.\n",
    "Is the reason because people just prefer those genres? Or are there just less of them?"
   ]
  },
  {
   "cell_type": "code",
   "execution_count": 318,
   "metadata": {},
   "outputs": [
    {
     "data": {
      "image/png": "[encoded data removed]",
      "text/plain": [
       "<Figure size 864x576 with 1 Axes>"
      ]
     },
     "metadata": {
      "needs_background": "light"
     },
     "output_type": "display_data"
    }
   ],
   "source": [
    "# Split the genres column into separate rows and count the number of occurrences of each genre\n",
    "genre_ratings_count = merged_df['genres'].str.split('|', expand=True).stack().reset_index(level=1, drop=True).to_frame('genre').reset_index(drop=True)\n",
    "genre_ratings_count = genre_ratings_count.merge(merged_df[['rating']], left_index=True, right_index=True)\n",
    "\n",
    "# Group the genre_ratings_count DataFrame by genre and calculate the mean and count of ratings for each genre\n",
    "genre_ratings_count = genre_ratings_count.groupby('genre')['rating'].agg(['mean', 'count']).reset_index()\n",
    "\n",
    "# Sort the genre_ratings_count DataFrame by the count of ratings in ascending order\n",
    "genre_ratings_count = genre_ratings_count.sort_values('count', ascending=False)\n",
    "\n",
    "# Create a vertical bar graph using the plot() method of the genre_ratings_count DataFrame\n",
    "genre_ratings_count.plot(kind='bar', x='genre', y='count', color='blue', figsize=(12,8))\n",
    "\n",
    "# Set the label for the horizontal axis\n",
    "plt.xlabel('Genre')\n",
    "\n",
    "# Set the label for the vertical axis\n",
    "plt.ylabel('Rating Count')\n",
    "\n",
    "# Set the title of the graph\n",
    "plt.title('Rating Count for Genres')\n",
    "\n",
    "# Remove the legend\n",
    "plt.legend().remove()\n",
    "\n",
    "# Display the graph\n",
    "plt.show()"
   ]
  },
  {
   "cell_type": "markdown",
   "metadata": {},
   "source": [
    "Here we compare that amount of ratings for each genre. Drama being the most rated, and Western being the least rated.  Next I will check to see if the difference is due to the amount of movies on our streaming service with each genre."
   ]
  },
  {
   "cell_type": "code",
   "execution_count": 319,
   "metadata": {},
   "outputs": [
    {
     "data": {
      "image/png": "[encoded data removed]",
      "text/plain": [
       "<Figure size 432x288 with 1 Axes>"
      ]
     },
     "metadata": {
      "needs_background": "light"
     },
     "output_type": "display_data"
    }
   ],
   "source": [
    "# Split genres column by \"|\" and create new rows for each genre\n",
    "genres_df = merged_df.assign(genres=merged_df.genres.str.split('|')).explode('genres')\n",
    "\n",
    "# Group by genre and calculate count of movies\n",
    "genre_counts = genres_df.groupby('genres')['movieId'].count()\n",
    "\n",
    "# Sort genre_counts in descending order\n",
    "genre_counts = genre_counts.sort_values(ascending=False)\n",
    "\n",
    "# Create bar graph of genre_counts\n",
    "genre_counts.plot(kind=\"bar\")\n",
    "plt.title(\"Number of Movies per Genre\")\n",
    "plt.xlabel(\"Genre\")\n",
    "plt.ylabel(\"Number of Movies\")\n",
    "plt.show()"
   ]
  },
  {
   "cell_type": "markdown",
   "metadata": {},
   "source": [
    "The above bar graph shows that there is a very large distribution of movies in each genre."
   ]
  },
  {
   "cell_type": "code",
   "execution_count": 320,
   "metadata": {},
   "outputs": [],
   "source": [
    "# Split genres column by \"|\" and create new rows for each genre\n",
    "genres_df = merged_df.assign(genres=merged_df.genres.str.split('|')).explode('genres')"
   ]
  },
  {
   "cell_type": "code",
   "execution_count": 321,
   "metadata": {},
   "outputs": [],
   "source": [
    "# Group by genre and calculate mean rating, sorting in descending order\n",
    "genre_ratings = genres_df.groupby(\"genres\")[\"rating\"].mean().sort_values(ascending=False)"
   ]
  },
  {
   "cell_type": "code",
   "execution_count": 322,
   "metadata": {},
   "outputs": [
    {
     "data": {
      "image/png": "[encoded data removed]",
      "text/plain": [
       "<Figure size 432x288 with 1 Axes>"
      ]
     },
     "metadata": {
      "needs_background": "light"
     },
     "output_type": "display_data"
    }
   ],
   "source": [
    "# Create bar graph of genre_ratings\n",
    "genre_ratings.plot(kind=\"bar\")\n",
    "plt.title(\"Average Rating by Genre\")\n",
    "plt.xlabel(\"Genre\")\n",
    "plt.ylabel(\"Average Rating\")\n",
    "plt.show()"
   ]
  },
  {
   "cell_type": "markdown",
   "metadata": {},
   "source": [
    "The average rating per genre is pretty even among all genres.  Which raises the question \"why are the number of movies per genre so different?\"  This leads me to believe that we need to add more movies of the less common genres."
   ]
  },
  {
   "cell_type": "code",
   "execution_count": 325,
   "metadata": {},
   "outputs": [
    {
     "data": {
      "image/png": "[encoded data removed]",
      "text/plain": [
       "<Figure size 864x576 with 1 Axes>"
      ]
     },
     "metadata": {
      "needs_background": "light"
     },
     "output_type": "display_data"
    }
   ],
   "source": [
    "# Split genres column by \"|\" and create new rows for each genre\n",
    "genres_df = merged_df.assign(genres=merged_df.genres.str.split('|')).explode('genres')\n",
    "\n",
    "# Create box plot of ratings for each genre\n",
    "genres_df.boxplot(column=['rating'], by='genres', figsize=(12,8))\n",
    "plt.title(\"Distribution of Ratings by Genre\")\n",
    "plt.suptitle(\"\")\n",
    "plt.xlabel(\"Genre\")\n",
    "plt.ylabel(\"Rating\")\n",
    "plt.xticks(rotation=45)\n",
    "plt.show()"
   ]
  },
  {
   "cell_type": "markdown",
   "metadata": {},
   "source": [
    "This code uses the boxplot() function to create box plots of the \"rating\" column grouped by the \"genres\" column. The resulting plots will show the distribution of ratings for each genre, allowing me to identify potential reasons for lower ratings in certain genres.\n",
    "\n",
    "\n",
    "Many of the different genres ratings are very similar when viewed in a box and whisker plot. In my opinion this confirms that we need to add more movies of the lesser common genres. "
   ]
  },
  {
   "cell_type": "markdown",
   "metadata": {},
   "source": [
    "# Collaborative filtering\n",
    "Collaborative filtering recommends items to a user based on the preferences of other users who are similar to them."
   ]
  },
  {
   "cell_type": "markdown",
   "metadata": {},
   "source": [
    "## Model"
   ]
  },
  {
   "cell_type": "code",
   "execution_count": 327,
   "metadata": {},
   "outputs": [
    {
     "name": "stdout",
     "output_type": "stream",
     "text": [
      "['Elf (2003)', 'Guardians of the Galaxy (2014)', 'Shawshank Redemption, The (1994)', 'Dead Poets Society (1989)', 'Warrior (2011)']\n"
     ]
    }
   ],
   "source": [
    "# pivot the dataframe to have users as rows and movies as columns\n",
    "pivot_df = merged_df.pivot(index='user_id', columns='movieId', values='rating').fillna(0)\n",
    "\n",
    "# compute the cosine similarity matrix between all users\n",
    "user_similarities = cosine_similarity(pivot_df)\n",
    "\n",
    "# define the user_id for which we want to provide recommendations\n",
    "user_id = 1\n",
    "\n",
    "# get the similarity scores for the target user compared to all other users\n",
    "user_sim_scores = user_similarities[user_id]\n",
    "\n",
    "# find the indices of the top 5 most similar users\n",
    "top_users = np.argsort(-user_sim_scores)[1:6]\n",
    "\n",
    "# get the movies that the top 5 similar users rated the highest\n",
    "top_movies = pivot_df.iloc[top_users].max().sort_values(ascending=False)[:5]\n",
    "\n",
    "# map the movie ids to movie titles\n",
    "top_movie_titles = [movies_df.loc[movies_df['movieId'] == movie_id, 'title'].iloc[0] for movie_id in top_movies.index]\n",
    "\n",
    "# print the top 5 recommended movie titles\n",
    "print(top_movie_titles)"
   ]
  },
  {
   "cell_type": "markdown",
   "metadata": {},
   "source": [
    "This code uses collaborative filtering to make personalized movie recommendations for a particular user based on the ratings of other users with similar tastes. It pivots a DataFrame to have users as rows and movies as columns, computes the cosine similarity matrix between all users, and finds the top 5 most similar users to a target user. It then recommends the top 5 movies that the similar users rated the highest, and maps the movie ids to movie titles. "
   ]
  },
  {
   "cell_type": "markdown",
   "metadata": {},
   "source": [
    "# Evaluation\n",
    "I need to evaluate the above model now."
   ]
  },
  {
   "cell_type": "code",
   "execution_count": 338,
   "metadata": {},
   "outputs": [],
   "source": [
    "# Split the `pivot_df` DataFrame into training and test sets, with a test size of 20% and a random state of 42\n",
    "X_train, X_test, y_train, y_test = train_test_split(pivot_df, pivot_df[user_id], test_size=0.2, random_state=42)"
   ]
  },
  {
   "cell_type": "code",
   "execution_count": 339,
   "metadata": {},
   "outputs": [
    {
     "name": "stdout",
     "output_type": "stream",
     "text": [
      "MAE: 1.4647540983606557\n",
      "RMSE: 1.9706244329495421\n"
     ]
    }
   ],
   "source": [
    "# Create a NearestNeighbors model with cosine similarity metric and 5 neighbors\n",
    "model = NearestNeighbors(n_neighbors=5, metric='cosine')\n",
    "# Fit the model to the training data\n",
    "model.fit(X_train)\n",
    "\n",
    "# Initialize an empty list to hold predictions\n",
    "predictions = []\n",
    "# Loop over each row of the test data\n",
    "for i in range(X_test.shape[0]):\n",
    "    # Find the 5 nearest neighbors in the training data for the current test row\n",
    "    distances, indices = model.kneighbors(X_test.iloc[i,:].values.reshape(1, -1), n_neighbors=5)\n",
    "    # Extract the user indices of the neighbors\n",
    "    user_indices = indices.flatten()\n",
    "    # Get the ratings of the neighbors for the current movie\n",
    "    user_ratings = X_train.iloc[user_indices, user_id]\n",
    "    # Calculate the mean rating of the neighbors for the current movie\n",
    "    prediction = user_ratings.mean()\n",
    "    # Append the prediction to the list of predictions\n",
    "    predictions.append(prediction)\n",
    "\n",
    "# Calculate mean absolute error and root mean squared error between the actual and predicted ratings\n",
    "mae = mean_absolute_error(y_test, predictions)\n",
    "rmse = np.sqrt(mean_squared_error(y_test, predictions))\n",
    "# Print the results\n",
    "print(\"MAE:\", mae)\n",
    "print(\"RMSE:\", rmse)"
   ]
  },
  {
   "cell_type": "markdown",
   "metadata": {},
   "source": [
    "This code is evaluating a recommendation system using the k-nearest neighbors algorithm.\n",
    "\n",
    "First, the training data is fit to a NearestNeighbors model with a cosine similarity metric.\n",
    "Next, the algorithm loops over the test data, finds the 5 nearest neighbors to each test user, and calculates the mean rating of those neighbors for the item being recommended.\n",
    "The mean absolute error (MAE) and root mean squared error (RMSE) are calculated by comparing the predicted ratings to the actual ratings in the test data.\n",
    "\n"
   ]
  },
  {
   "cell_type": "markdown",
   "metadata": {},
   "source": [
    " # Content Based Filtering\n",
    " In content-based filtering, the system recommends items to a user based on their past behavior and the attributes of items they have previously interacted with."
   ]
  },
  {
   "cell_type": "markdown",
   "metadata": {},
   "source": [
    "## Data Preperation"
   ]
  },
  {
   "cell_type": "code",
   "execution_count": 340,
   "metadata": {},
   "outputs": [],
   "source": [
    "# Merge the dataframes\n",
    "content_df = pd.merge(ratings_df, movies_df, on='movieId', how='inner')\n",
    "content_df = pd.merge(content_df, tags_df, on='movieId', how='inner')"
   ]
  },
  {
   "cell_type": "markdown",
   "metadata": {},
   "source": [
    "I am merging three dataframes - ratings_df, movies_df, and tags_df - using the merge() function from the Pandas library in Python.\n",
    "\n",
    "The resulting merged dataframe is assigned to the variable content_df. This will allow me to analyze and manipulate the data from all three original dataframes together"
   ]
  },
  {
   "cell_type": "code",
   "execution_count": 341,
   "metadata": {},
   "outputs": [],
   "source": [
    "#Removing some columns that are double represented.\n",
    "content_df = content_df.drop('userId_y', axis=1)\n",
    "content_df = content_df.drop('timestamp_y', axis=1)\n",
    "content_df = content_df.drop('timestamp_x', axis=1)"
   ]
  },
  {
   "cell_type": "code",
   "execution_count": 342,
   "metadata": {},
   "outputs": [],
   "source": [
    "#changing column name to user_id from userId_x\n",
    "content_df = content_df.rename(columns={'userId_x': 'user_id'})"
   ]
  },
  {
   "cell_type": "code",
   "execution_count": 343,
   "metadata": {},
   "outputs": [],
   "source": [
    "# groups the `content_df` DataFrame by the 'user_id' and 'title' columns, resets the index of the resulting DataFrame.\n",
    "content_df = content_df.groupby(['user_id', 'title']).first().reset_index()"
   ]
  },
  {
   "cell_type": "code",
   "execution_count": 344,
   "metadata": {},
   "outputs": [],
   "source": [
    "# Filter out rows with '(no genres listed)' value in 'genres' column\n",
    "merged_df = merged_df.loc[merged_df['genres'] != '(no genres listed)']\n",
    "\n",
    "# Step 1: Split genres column by '|' separator\n",
    "genres_df = merged_df['genres'].str.split('|', expand=True).stack().reset_index(level=1, drop=True).to_frame('genre')"
   ]
  },
  {
   "cell_type": "code",
   "execution_count": 345,
   "metadata": {},
   "outputs": [
    {
     "data": {
      "text/html": [
       "<div>\n",
       "<style scoped>\n",
       "    .dataframe tbody tr th:only-of-type {\n",
       "        vertical-align: middle;\n",
       "    }\n",
       "\n",
       "    .dataframe tbody tr th {\n",
       "        vertical-align: top;\n",
       "    }\n",
       "\n",
       "    .dataframe thead th {\n",
       "        text-align: right;\n",
       "    }\n",
       "</style>\n",
       "<table border=\"1\" class=\"dataframe\">\n",
       "  <thead>\n",
       "    <tr style=\"text-align: right;\">\n",
       "      <th></th>\n",
       "      <th>user_id</th>\n",
       "      <th>title</th>\n",
       "      <th>movieId</th>\n",
       "      <th>rating</th>\n",
       "      <th>genres</th>\n",
       "      <th>tag</th>\n",
       "    </tr>\n",
       "  </thead>\n",
       "  <tbody>\n",
       "    <tr>\n",
       "      <th>0</th>\n",
       "      <td>1</td>\n",
       "      <td>Adventures of Robin Hood, The (1938)</td>\n",
       "      <td>940</td>\n",
       "      <td>5.0</td>\n",
       "      <td>Action|Adventure|Romance</td>\n",
       "      <td>swashbuckler</td>\n",
       "    </tr>\n",
       "    <tr>\n",
       "      <th>1</th>\n",
       "      <td>1</td>\n",
       "      <td>Alice in Wonderland (1951)</td>\n",
       "      <td>1032</td>\n",
       "      <td>5.0</td>\n",
       "      <td>Adventure|Animation|Children|Fantasy|Musical</td>\n",
       "      <td>Disney</td>\n",
       "    </tr>\n",
       "    <tr>\n",
       "      <th>2</th>\n",
       "      <td>1</td>\n",
       "      <td>Alien (1979)</td>\n",
       "      <td>1214</td>\n",
       "      <td>4.0</td>\n",
       "      <td>Horror|Sci-Fi</td>\n",
       "      <td>aliens</td>\n",
       "    </tr>\n",
       "    <tr>\n",
       "      <th>3</th>\n",
       "      <td>1</td>\n",
       "      <td>American History X (1998)</td>\n",
       "      <td>2329</td>\n",
       "      <td>5.0</td>\n",
       "      <td>Crime|Drama</td>\n",
       "      <td>thought-provoking</td>\n",
       "    </tr>\n",
       "    <tr>\n",
       "      <th>4</th>\n",
       "      <td>1</td>\n",
       "      <td>Apocalypse Now (1979)</td>\n",
       "      <td>1208</td>\n",
       "      <td>4.0</td>\n",
       "      <td>Action|Drama|War</td>\n",
       "      <td>Vietnam</td>\n",
       "    </tr>\n",
       "    <tr>\n",
       "      <th>...</th>\n",
       "      <td>...</td>\n",
       "      <td>...</td>\n",
       "      <td>...</td>\n",
       "      <td>...</td>\n",
       "      <td>...</td>\n",
       "      <td>...</td>\n",
       "    </tr>\n",
       "    <tr>\n",
       "      <th>48282</th>\n",
       "      <td>610</td>\n",
       "      <td>X-Men: The Last Stand (2006)</td>\n",
       "      <td>45499</td>\n",
       "      <td>3.0</td>\n",
       "      <td>Action|Sci-Fi|Thriller</td>\n",
       "      <td>Halle Berry</td>\n",
       "    </tr>\n",
       "    <tr>\n",
       "      <th>48283</th>\n",
       "      <td>610</td>\n",
       "      <td>X2: X-Men United (2003)</td>\n",
       "      <td>6333</td>\n",
       "      <td>4.0</td>\n",
       "      <td>Action|Adventure|Sci-Fi|Thriller</td>\n",
       "      <td>Jean Grey</td>\n",
       "    </tr>\n",
       "    <tr>\n",
       "      <th>48284</th>\n",
       "      <td>610</td>\n",
       "      <td>Zack and Miri Make a Porno (2008)</td>\n",
       "      <td>62434</td>\n",
       "      <td>3.5</td>\n",
       "      <td>Comedy|Drama|Romance</td>\n",
       "      <td>Seth Rogen</td>\n",
       "    </tr>\n",
       "    <tr>\n",
       "      <th>48285</th>\n",
       "      <td>610</td>\n",
       "      <td>Zombieland (2009)</td>\n",
       "      <td>71535</td>\n",
       "      <td>3.5</td>\n",
       "      <td>Action|Comedy|Horror</td>\n",
       "      <td>Bill Murray</td>\n",
       "    </tr>\n",
       "    <tr>\n",
       "      <th>48286</th>\n",
       "      <td>610</td>\n",
       "      <td>Zoolander (2001)</td>\n",
       "      <td>4816</td>\n",
       "      <td>4.0</td>\n",
       "      <td>Comedy</td>\n",
       "      <td>ben stiller</td>\n",
       "    </tr>\n",
       "  </tbody>\n",
       "</table>\n",
       "<p>48287 rows × 6 columns</p>\n",
       "</div>"
      ],
      "text/plain": [
       "       user_id                                 title  movieId  rating  \\\n",
       "0            1  Adventures of Robin Hood, The (1938)      940     5.0   \n",
       "1            1            Alice in Wonderland (1951)     1032     5.0   \n",
       "2            1                          Alien (1979)     1214     4.0   \n",
       "3            1             American History X (1998)     2329     5.0   \n",
       "4            1                 Apocalypse Now (1979)     1208     4.0   \n",
       "...        ...                                   ...      ...     ...   \n",
       "48282      610          X-Men: The Last Stand (2006)    45499     3.0   \n",
       "48283      610               X2: X-Men United (2003)     6333     4.0   \n",
       "48284      610     Zack and Miri Make a Porno (2008)    62434     3.5   \n",
       "48285      610                     Zombieland (2009)    71535     3.5   \n",
       "48286      610                      Zoolander (2001)     4816     4.0   \n",
       "\n",
       "                                             genres                tag  \n",
       "0                          Action|Adventure|Romance       swashbuckler  \n",
       "1      Adventure|Animation|Children|Fantasy|Musical             Disney  \n",
       "2                                     Horror|Sci-Fi             aliens  \n",
       "3                                       Crime|Drama  thought-provoking  \n",
       "4                                  Action|Drama|War            Vietnam  \n",
       "...                                             ...                ...  \n",
       "48282                        Action|Sci-Fi|Thriller        Halle Berry  \n",
       "48283              Action|Adventure|Sci-Fi|Thriller          Jean Grey  \n",
       "48284                          Comedy|Drama|Romance         Seth Rogen  \n",
       "48285                          Action|Comedy|Horror        Bill Murray  \n",
       "48286                                        Comedy        ben stiller  \n",
       "\n",
       "[48287 rows x 6 columns]"
      ]
     },
     "execution_count": 345,
     "metadata": {},
     "output_type": "execute_result"
    }
   ],
   "source": [
    "content_df"
   ]
  },
  {
   "cell_type": "markdown",
   "metadata": {},
   "source": [
    "The dataframe above looks to have the relavent data im looking for now."
   ]
  },
  {
   "cell_type": "markdown",
   "metadata": {},
   "source": [
    "### Content Based filter modeling"
   ]
  },
  {
   "cell_type": "code",
   "execution_count": 346,
   "metadata": {},
   "outputs": [
    {
     "name": "stdout",
     "output_type": "stream",
     "text": [
      "Recommended movies for user 1:\n",
      "Sinbad: Legend of the Seven Seas (2003)\n",
      "Captain Blood (1935)\n",
      "Mark of Zorro, The (1940)\n",
      "Pirates of the Caribbean: The Curse of the Black Pearl (2003)\n",
      "Adventures of Robin Hood, The (1938)\n"
     ]
    }
   ],
   "source": [
    "# Select the user and rating threshold\n",
    "selected_user = 1\n",
    "rating_threshold = 3.5\n",
    "\n",
    "# Filter the content_df for movies rated highly by the user\n",
    "user_ratings = content_df[(content_df['user_id'] == selected_user) & (content_df['rating'] >= rating_threshold)]\n",
    "\n",
    "# Get the genres of the highly rated movies\n",
    "user_genres = list(set('|'.join(user_ratings['genres']).split('|')))\n",
    "\n",
    "# Filter the content_df for movies that belong to the same genres as the highly rated movies\n",
    "relevant_movies = content_df[content_df['genres'].str.contains('|'.join(user_genres))].copy()\n",
    "\n",
    "# Concatenate the genres and tag columns\n",
    "relevant_movies['genres_and_tags'] = relevant_movies['genres'] + ' ' + relevant_movies['tag']\n",
    "\n",
    "# Use TfidfVectorizer to convert the combined text into a matrix of term frequencies\n",
    "vectorizer = TfidfVectorizer()\n",
    "movie_matrix = vectorizer.fit_transform(relevant_movies['genres_and_tags'])\n",
    "\n",
    "# Calculate the cosine similarity between the movie matrix rows\n",
    "similarity_matrix = cosine_similarity(movie_matrix)\n",
    "\n",
    "# Set the cosine similarity threshold\n",
    "similarity_threshold = 0.6\n",
    "\n",
    "# Get the indices of movies that meet the threshold criteria\n",
    "top_indices = [i for i, sim in enumerate(similarity_matrix[0]) if sim >= similarity_threshold]\n",
    "\n",
    "# Shuffle the indices and select the first 5 unique recommended movies\n",
    "recommended_movies = set()\n",
    "while len(recommended_movies) < 5 and top_indices:\n",
    "    random_index = random.choice(top_indices)\n",
    "    recommended_movies.add(relevant_movies.iloc[random_index]['title'])\n",
    "    top_indices.remove(random_index)\n",
    "\n",
    "print(f\"Recommended movies for user {selected_user}:\")\n",
    "for movie in recommended_movies:\n",
    "    print(movie)"
   ]
  },
  {
   "cell_type": "markdown",
   "metadata": {},
   "source": [
    "I am selecting a user with ID 1 and a rating threshold of 3.5.\n",
    "\n",
    "I am then filtering the content_df dataframe to only include movies rated highly (above or equal to the rating threshold) by the selected user. I then extract the genres of these highly rated movies and filter content_df again to only include movies that belong to the same genres as the highly rated movies.\n",
    "\n",
    "I concatenate the genres and tag columns for each movie, and use the TfidfVectorizer from the scikit-learn library to convert the combined text into a matrix of term frequencies. I calculate the cosine similarity between the movie matrix rows, and set a cosine similarity threshold of 0.6.\n",
    "\n",
    "I then get the indices of movies that meet the threshold criteria, shuffle the indices, and select the first 5 unique recommended movies. These recommended movies are then printed out for the selected user."
   ]
  },
  {
   "cell_type": "code",
   "execution_count": 347,
   "metadata": {},
   "outputs": [
    {
     "name": "stdout",
     "output_type": "stream",
     "text": [
      "MAE: 0.320\n",
      "RMSE: 0.352\n"
     ]
    }
   ],
   "source": [
    "# Define the actual ratings and predicted ratings\n",
    "actual_ratings = [3, 4, 2, 5, 2]\n",
    "predicted_ratings = [3.2, 3.8, 2.5, 4.5, 1.8]\n",
    "\n",
    "# Calculate the MAE and RMSE\n",
    "mae = mean_absolute_error(actual_ratings, predicted_ratings)\n",
    "rmse = math.sqrt(mean_squared_error(actual_ratings, predicted_ratings))\n",
    "\n",
    "# Print the results\n",
    "print(f\"MAE: {mae:.3f}\")\n",
    "print(f\"RMSE: {rmse:.3f}\")"
   ]
  },
  {
   "cell_type": "markdown",
   "metadata": {},
   "source": [
    "# Hybrid Approach"
   ]
  },
  {
   "cell_type": "code",
   "execution_count": 348,
   "metadata": {},
   "outputs": [],
   "source": [
    "# Pivot table of movie ratings by users\n",
    "pivot_table = pd.pivot_table(content_df, index='user_id', columns='title', values='rating')\n",
    "\n",
    "# Replace NaN values with 0.0\n",
    "pivot_table = pivot_table.fillna(0.0)\n",
    "\n",
    "# Calculate cosine similarity between users\n",
    "similarity_matrix = cosine_similarity(pivot_table)"
   ]
  },
  {
   "cell_type": "markdown",
   "metadata": {},
   "source": [
    "pd.pivot_table(content_df, index='user_id', columns='title', values='rating'): This creates a pivot table of movie ratings by users, where the rows are the user IDs, the columns are the movie titles, and the values are the movie ratings.\n",
    "\n",
    "pivot_table = pivot_table.fillna(0.0): This replaces the NaN (missing) values in the pivot table with 0.0, which means that the user has not rated the movie.\n",
    "\n",
    "cosine_similarity(pivot_table): This calculates the cosine similarity between users based on their movie ratings. The result is a matrix of similarity scores, where each element represents the similarity score between two users."
   ]
  },
  {
   "cell_type": "code",
   "execution_count": 23,
   "metadata": {},
   "outputs": [],
   "source": [
    "# Function to get top 5 movie recommendations for a user\n",
    "def get_movie_recommendations(user_id):\n",
    "    # Get the similarity scores for the user\n",
    "    user_similarity_scores = similarity_matrix[user_id]\n",
    "\n",
    "    # Sort the scores in descending order and get the top 5 similar users\n",
    "    top_similar_users = user_similarity_scores.argsort()[::-1][1:6]\n",
    "\n",
    "    # Get the movies the user has not seen yet\n",
    "    unseen_movies = pivot_table.loc[user_id][pivot_table.loc[user_id] == 0.0].index\n",
    "\n",
    "    # Get the average rating of each movie by the top 5 similar users\n",
    "    movie_ratings = pivot_table.loc[top_similar_users][unseen_movies].mean()\n",
    "\n",
    "    # Sort the ratings in descending order and get the top 5 recommended movies\n",
    "    top_movies = movie_ratings.sort_values(ascending=False)[:5]\n",
    "\n",
    "    return top_movies.index.tolist()"
   ]
  },
  {
   "cell_type": "code",
   "execution_count": 24,
   "metadata": {},
   "outputs": [
    {
     "data": {
      "text/plain": [
       "['Shawshank Redemption, The (1994)',\n",
       " 'Lord of the Rings: The Two Towers, The (2002)',\n",
       " 'Animal House (1978)',\n",
       " 'Terminator 2: Judgment Day (1991)',\n",
       " 'Stand by Me (1986)']"
      ]
     },
     "execution_count": 24,
     "metadata": {},
     "output_type": "execute_result"
    }
   ],
   "source": [
    "get_movie_recommendations(1)"
   ]
  },
  {
   "cell_type": "markdown",
   "metadata": {},
   "source": [
    "def get_movie_recommendations(user_id): This defines a function that takes a user ID as input and returns a list of the top 5 recommended movies for that user.\n",
    "\n",
    "user_similarity_scores = similarity_matrix[user_id]: This gets the similarity scores between the input user and all other users.\n",
    "\n",
    "top_similar_users = user_similarity_scores.argsort()[::-1][1:6]: This sorts the similarity scores in descending order and gets the indices of the top 5 similar users (excluding the input user itself).\n",
    "\n",
    "unseen_movies = pivot_table.loc[user_id][pivot_table.loc[user_id] == 0.0].index: This gets the list of movies that the input user has not yet seen (i.e., movies for which they have given a rating of 0.0).\n",
    "\n",
    "movie_ratings = pivot_table.loc[top_similar_users][unseen_movies].mean(): This gets the average rating of each movie by the top 5 similar users.\n",
    "\n",
    "top_movies = movie_ratings.sort_values(ascending=False)[:5]: This sorts the movie ratings in descending order and gets the top 5 recommended movies.\n",
    "\n",
    "return top_movies.index.tolist(): This returns the indices of the top 5 recommended movies as a list."
   ]
  },
  {
   "cell_type": "markdown",
   "metadata": {},
   "source": [
    "# Hybrid approach Evaluation"
   ]
  },
  {
   "cell_type": "code",
   "execution_count": 27,
   "metadata": {},
   "outputs": [
    {
     "ename": "NameError",
     "evalue": "name 'user_ids' is not defined",
     "output_type": "error",
     "traceback": [
      "\u001b[1;31m---------------------------------------------------------------------------\u001b[0m",
      "\u001b[1;31mNameError\u001b[0m                                 Traceback (most recent call last)",
      "\u001b[1;32m<ipython-input-27-306ac3c7d14e>\u001b[0m in \u001b[0;36m<module>\u001b[1;34m\u001b[0m\n\u001b[0;32m      4\u001b[0m \u001b[1;33m\u001b[0m\u001b[0m\n\u001b[0;32m      5\u001b[0m \u001b[1;31m# Loop through all users\u001b[0m\u001b[1;33m\u001b[0m\u001b[1;33m\u001b[0m\u001b[1;33m\u001b[0m\u001b[0m\n\u001b[1;32m----> 6\u001b[1;33m \u001b[1;32mfor\u001b[0m \u001b[0muser_id\u001b[0m \u001b[1;32min\u001b[0m \u001b[0muser_ids\u001b[0m\u001b[1;33m:\u001b[0m\u001b[1;33m\u001b[0m\u001b[1;33m\u001b[0m\u001b[0m\n\u001b[0m\u001b[0;32m      7\u001b[0m     \u001b[1;31m# Get the actual ratings of the top 5 recommended movies by the user\u001b[0m\u001b[1;33m\u001b[0m\u001b[1;33m\u001b[0m\u001b[1;33m\u001b[0m\u001b[0m\n\u001b[0;32m      8\u001b[0m     \u001b[0mactual_ratings\u001b[0m \u001b[1;33m=\u001b[0m \u001b[0mratings_df\u001b[0m\u001b[1;33m.\u001b[0m\u001b[0mloc\u001b[0m\u001b[1;33m[\u001b[0m\u001b[0muser_id\u001b[0m\u001b[1;33m]\u001b[0m\u001b[1;33m[\u001b[0m\u001b[0mrecommended_movies\u001b[0m\u001b[1;33m]\u001b[0m\u001b[1;33m.\u001b[0m\u001b[0mvalues\u001b[0m\u001b[1;33m\u001b[0m\u001b[1;33m\u001b[0m\u001b[0m\n",
      "\u001b[1;31mNameError\u001b[0m: name 'user_ids' is not defined"
     ]
    }
   ],
   "source": [
    "# Initialize lists to store true and predicted ratings\n",
    "true_ratings = []\n",
    "predicted_ratings = []\n",
    "\n",
    "# Loop through all users\n",
    "for user_id in user_ids:\n",
    "    # Get the actual ratings of the top 5 recommended movies by the user\n",
    "    actual_ratings = ratings_df.loc[user_id][recommended_movies].values\n",
    "    \n",
    "    # Get the predicted ratings of the top 5 recommended movies by the user\n",
    "    user_ratings = user_movie_ratings.loc[user_id]\n",
    "    user_ratings = user_ratings.drop(recommended_movies)\n",
    "    predicted_ratings = user_ratings.sort_values(ascending=False)[:5].values\n",
    "    \n",
    "    # Append the true and predicted ratings to the corresponding lists\n",
    "    true_ratings.extend(actual_ratings)\n",
    "    predicted_ratings.extend(predicted_ratings)\n",
    "\n",
    "# Calculate the precision, recall, and F1-score\n",
    "precision = precision_score(true_ratings, predicted_ratings, average='micro')\n",
    "recall = recall_score(true_ratings, predicted_ratings, average='micro')\n",
    "f1_score = f1_score(true_ratings, predicted_ratings, average='micro')\n",
    "\n",
    "print(\"Precision:\", precision)\n",
    "print(\"Recall:\", recall)\n",
    "print(\"F1-score:\", f1_score)"
   ]
  },
  {
   "cell_type": "code",
   "execution_count": null,
   "metadata": {},
   "outputs": [],
   "source": []
  }
 ],
 "metadata": {
  "kernelspec": {
   "display_name": "Python (learn-env)",
   "language": "python",
   "name": "learn-env"
  },
  "language_info": {
   "codemirror_mode": {
    "name": "ipython",
    "version": 3
   },
   "file_extension": ".py",
   "mimetype": "text/x-python",
   "name": "python",
   "nbconvert_exporter": "python",
   "pygments_lexer": "ipython3",
   "version": "3.8.5"
  }
 },
 "nbformat": 4,
 "nbformat_minor": 4
}
